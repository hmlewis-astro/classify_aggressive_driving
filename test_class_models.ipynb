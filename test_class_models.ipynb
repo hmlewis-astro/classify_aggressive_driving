{
 "cells": [
  {
   "cell_type": "code",
   "execution_count": 116,
   "id": "d7a3a002",
   "metadata": {},
   "outputs": [],
   "source": [
    "import numpy as np\n",
    "import pandas as pd\n",
    "\n",
    "import matplotlib as mpl\n",
    "import matplotlib.pyplot as plt\n",
    "import seaborn as sns\n",
    "\n",
    "from sklearn.neighbors import KNeighborsClassifier\n",
    "from sklearn.linear_model import LogisticRegression\n",
    "from sklearn.tree import DecisionTreeClassifier\n",
    "from sklearn.ensemble import RandomForestClassifier\n",
    "\n",
    "from sklearn.model_selection import train_test_split, cross_val_score, GridSearchCV, RandomizedSearchCV\n",
    "from sklearn.preprocessing import StandardScaler\n",
    "from sklearn.metrics import make_scorer, confusion_matrix, plot_confusion_matrix, precision_score, recall_score, accuracy_score, f1_score, fbeta_score, roc_curve, roc_auc_score, plot_roc_curve\n"
   ]
  },
  {
   "cell_type": "code",
   "execution_count": 2,
   "id": "6bf29927",
   "metadata": {},
   "outputs": [
    {
     "data": {
      "text/html": [
       "<div>\n",
       "<style scoped>\n",
       "    .dataframe tbody tr th:only-of-type {\n",
       "        vertical-align: middle;\n",
       "    }\n",
       "\n",
       "    .dataframe tbody tr th {\n",
       "        vertical-align: top;\n",
       "    }\n",
       "\n",
       "    .dataframe thead th {\n",
       "        text-align: right;\n",
       "    }\n",
       "</style>\n",
       "<table border=\"1\" class=\"dataframe\">\n",
       "  <thead>\n",
       "    <tr style=\"text-align: right;\">\n",
       "      <th></th>\n",
       "      <th>acceleration_score</th>\n",
       "      <th>braking_score</th>\n",
       "      <th>turning_score</th>\n",
       "      <th>weaving_score</th>\n",
       "      <th>drifting_score</th>\n",
       "      <th>speeding_score</th>\n",
       "      <th>follow_score</th>\n",
       "      <th>road_type</th>\n",
       "      <th>class_normal</th>\n",
       "      <th>temp_F</th>\n",
       "      <th>humidity_pct</th>\n",
       "      <th>wind_speed_mph</th>\n",
       "      <th>wind_gust_mph</th>\n",
       "      <th>condition</th>\n",
       "      <th>day_night</th>\n",
       "      <th>speed_mph</th>\n",
       "      <th>class_normal_bool</th>\n",
       "    </tr>\n",
       "  </thead>\n",
       "  <tbody>\n",
       "    <tr>\n",
       "      <th>0</th>\n",
       "      <td>100.0</td>\n",
       "      <td>100.0</td>\n",
       "      <td>100.0</td>\n",
       "      <td>100.0</td>\n",
       "      <td>100.0</td>\n",
       "      <td>100.0</td>\n",
       "      <td>100.0</td>\n",
       "      <td>SECONDARY</td>\n",
       "      <td>NORMAL</td>\n",
       "      <td>72</td>\n",
       "      <td>35</td>\n",
       "      <td>2</td>\n",
       "      <td>0</td>\n",
       "      <td>Fair</td>\n",
       "      <td>Night</td>\n",
       "      <td>38.955226</td>\n",
       "      <td>0</td>\n",
       "    </tr>\n",
       "    <tr>\n",
       "      <th>1</th>\n",
       "      <td>100.0</td>\n",
       "      <td>100.0</td>\n",
       "      <td>100.0</td>\n",
       "      <td>100.0</td>\n",
       "      <td>100.0</td>\n",
       "      <td>100.0</td>\n",
       "      <td>100.0</td>\n",
       "      <td>SECONDARY</td>\n",
       "      <td>NORMAL</td>\n",
       "      <td>72</td>\n",
       "      <td>35</td>\n",
       "      <td>2</td>\n",
       "      <td>0</td>\n",
       "      <td>Fair</td>\n",
       "      <td>Night</td>\n",
       "      <td>40.099995</td>\n",
       "      <td>0</td>\n",
       "    </tr>\n",
       "    <tr>\n",
       "      <th>2</th>\n",
       "      <td>100.0</td>\n",
       "      <td>100.0</td>\n",
       "      <td>100.0</td>\n",
       "      <td>100.0</td>\n",
       "      <td>100.0</td>\n",
       "      <td>100.0</td>\n",
       "      <td>100.0</td>\n",
       "      <td>SECONDARY</td>\n",
       "      <td>NORMAL</td>\n",
       "      <td>72</td>\n",
       "      <td>35</td>\n",
       "      <td>2</td>\n",
       "      <td>0</td>\n",
       "      <td>Fair</td>\n",
       "      <td>Night</td>\n",
       "      <td>40.018755</td>\n",
       "      <td>0</td>\n",
       "    </tr>\n",
       "    <tr>\n",
       "      <th>3</th>\n",
       "      <td>100.0</td>\n",
       "      <td>100.0</td>\n",
       "      <td>100.0</td>\n",
       "      <td>100.0</td>\n",
       "      <td>100.0</td>\n",
       "      <td>100.0</td>\n",
       "      <td>100.0</td>\n",
       "      <td>SECONDARY</td>\n",
       "      <td>NORMAL</td>\n",
       "      <td>72</td>\n",
       "      <td>35</td>\n",
       "      <td>2</td>\n",
       "      <td>0</td>\n",
       "      <td>Fair</td>\n",
       "      <td>Night</td>\n",
       "      <td>38.811020</td>\n",
       "      <td>0</td>\n",
       "    </tr>\n",
       "    <tr>\n",
       "      <th>4</th>\n",
       "      <td>100.0</td>\n",
       "      <td>100.0</td>\n",
       "      <td>100.0</td>\n",
       "      <td>100.0</td>\n",
       "      <td>100.0</td>\n",
       "      <td>100.0</td>\n",
       "      <td>100.0</td>\n",
       "      <td>SECONDARY</td>\n",
       "      <td>NORMAL</td>\n",
       "      <td>72</td>\n",
       "      <td>35</td>\n",
       "      <td>2</td>\n",
       "      <td>0</td>\n",
       "      <td>Fair</td>\n",
       "      <td>Night</td>\n",
       "      <td>37.524521</td>\n",
       "      <td>0</td>\n",
       "    </tr>\n",
       "  </tbody>\n",
       "</table>\n",
       "</div>"
      ],
      "text/plain": [
       "   acceleration_score  braking_score  turning_score  weaving_score  \\\n",
       "0               100.0          100.0          100.0          100.0   \n",
       "1               100.0          100.0          100.0          100.0   \n",
       "2               100.0          100.0          100.0          100.0   \n",
       "3               100.0          100.0          100.0          100.0   \n",
       "4               100.0          100.0          100.0          100.0   \n",
       "\n",
       "   drifting_score  speeding_score  follow_score  road_type class_normal  \\\n",
       "0           100.0           100.0         100.0  SECONDARY       NORMAL   \n",
       "1           100.0           100.0         100.0  SECONDARY       NORMAL   \n",
       "2           100.0           100.0         100.0  SECONDARY       NORMAL   \n",
       "3           100.0           100.0         100.0  SECONDARY       NORMAL   \n",
       "4           100.0           100.0         100.0  SECONDARY       NORMAL   \n",
       "\n",
       "   temp_F  humidity_pct  wind_speed_mph  wind_gust_mph condition day_night  \\\n",
       "0      72            35               2              0      Fair     Night   \n",
       "1      72            35               2              0      Fair     Night   \n",
       "2      72            35               2              0      Fair     Night   \n",
       "3      72            35               2              0      Fair     Night   \n",
       "4      72            35               2              0      Fair     Night   \n",
       "\n",
       "   speed_mph  class_normal_bool  \n",
       "0  38.955226                  0  \n",
       "1  40.099995                  0  \n",
       "2  40.018755                  0  \n",
       "3  38.811020                  0  \n",
       "4  37.524521                  0  "
      ]
     },
     "execution_count": 2,
     "metadata": {},
     "output_type": "execute_result"
    }
   ],
   "source": [
    "df = pd.read_csv('UAH-DRIVESET-classification.csv', index_col=0)\n",
    "df.head()"
   ]
  },
  {
   "cell_type": "code",
   "execution_count": 3,
   "id": "efd8c3ac",
   "metadata": {},
   "outputs": [],
   "source": [
    "df['road_type_dummy'] = pd.get_dummies(df['road_type'], drop_first=True)\n"
   ]
  },
  {
   "cell_type": "code",
   "execution_count": 6,
   "id": "6a4eac4b",
   "metadata": {},
   "outputs": [
    {
     "data": {
      "text/html": [
       "<div>\n",
       "<style scoped>\n",
       "    .dataframe tbody tr th:only-of-type {\n",
       "        vertical-align: middle;\n",
       "    }\n",
       "\n",
       "    .dataframe tbody tr th {\n",
       "        vertical-align: top;\n",
       "    }\n",
       "\n",
       "    .dataframe thead th {\n",
       "        text-align: right;\n",
       "    }\n",
       "</style>\n",
       "<table border=\"1\" class=\"dataframe\">\n",
       "  <thead>\n",
       "    <tr style=\"text-align: right;\">\n",
       "      <th></th>\n",
       "      <th>acceleration_score</th>\n",
       "      <th>braking_score</th>\n",
       "      <th>turning_score</th>\n",
       "      <th>weaving_score</th>\n",
       "      <th>drifting_score</th>\n",
       "      <th>speeding_score</th>\n",
       "      <th>follow_score</th>\n",
       "      <th>road_type</th>\n",
       "      <th>class_normal</th>\n",
       "      <th>temp_F</th>\n",
       "      <th>humidity_pct</th>\n",
       "      <th>wind_speed_mph</th>\n",
       "      <th>wind_gust_mph</th>\n",
       "      <th>condition</th>\n",
       "      <th>day_night</th>\n",
       "      <th>speed_mph</th>\n",
       "      <th>class_normal_bool</th>\n",
       "      <th>road_type_dummy</th>\n",
       "      <th>night_dummy</th>\n",
       "    </tr>\n",
       "  </thead>\n",
       "  <tbody>\n",
       "    <tr>\n",
       "      <th>0</th>\n",
       "      <td>100.0</td>\n",
       "      <td>100.0</td>\n",
       "      <td>100.0</td>\n",
       "      <td>100.0</td>\n",
       "      <td>100.0</td>\n",
       "      <td>100.0</td>\n",
       "      <td>100.0</td>\n",
       "      <td>SECONDARY</td>\n",
       "      <td>NORMAL</td>\n",
       "      <td>72</td>\n",
       "      <td>35</td>\n",
       "      <td>2</td>\n",
       "      <td>0</td>\n",
       "      <td>Fair</td>\n",
       "      <td>Night</td>\n",
       "      <td>38.955226</td>\n",
       "      <td>0</td>\n",
       "      <td>1</td>\n",
       "      <td>1</td>\n",
       "    </tr>\n",
       "    <tr>\n",
       "      <th>1</th>\n",
       "      <td>100.0</td>\n",
       "      <td>100.0</td>\n",
       "      <td>100.0</td>\n",
       "      <td>100.0</td>\n",
       "      <td>100.0</td>\n",
       "      <td>100.0</td>\n",
       "      <td>100.0</td>\n",
       "      <td>SECONDARY</td>\n",
       "      <td>NORMAL</td>\n",
       "      <td>72</td>\n",
       "      <td>35</td>\n",
       "      <td>2</td>\n",
       "      <td>0</td>\n",
       "      <td>Fair</td>\n",
       "      <td>Night</td>\n",
       "      <td>40.099995</td>\n",
       "      <td>0</td>\n",
       "      <td>1</td>\n",
       "      <td>1</td>\n",
       "    </tr>\n",
       "    <tr>\n",
       "      <th>2</th>\n",
       "      <td>100.0</td>\n",
       "      <td>100.0</td>\n",
       "      <td>100.0</td>\n",
       "      <td>100.0</td>\n",
       "      <td>100.0</td>\n",
       "      <td>100.0</td>\n",
       "      <td>100.0</td>\n",
       "      <td>SECONDARY</td>\n",
       "      <td>NORMAL</td>\n",
       "      <td>72</td>\n",
       "      <td>35</td>\n",
       "      <td>2</td>\n",
       "      <td>0</td>\n",
       "      <td>Fair</td>\n",
       "      <td>Night</td>\n",
       "      <td>40.018755</td>\n",
       "      <td>0</td>\n",
       "      <td>1</td>\n",
       "      <td>1</td>\n",
       "    </tr>\n",
       "    <tr>\n",
       "      <th>3</th>\n",
       "      <td>100.0</td>\n",
       "      <td>100.0</td>\n",
       "      <td>100.0</td>\n",
       "      <td>100.0</td>\n",
       "      <td>100.0</td>\n",
       "      <td>100.0</td>\n",
       "      <td>100.0</td>\n",
       "      <td>SECONDARY</td>\n",
       "      <td>NORMAL</td>\n",
       "      <td>72</td>\n",
       "      <td>35</td>\n",
       "      <td>2</td>\n",
       "      <td>0</td>\n",
       "      <td>Fair</td>\n",
       "      <td>Night</td>\n",
       "      <td>38.811020</td>\n",
       "      <td>0</td>\n",
       "      <td>1</td>\n",
       "      <td>1</td>\n",
       "    </tr>\n",
       "    <tr>\n",
       "      <th>4</th>\n",
       "      <td>100.0</td>\n",
       "      <td>100.0</td>\n",
       "      <td>100.0</td>\n",
       "      <td>100.0</td>\n",
       "      <td>100.0</td>\n",
       "      <td>100.0</td>\n",
       "      <td>100.0</td>\n",
       "      <td>SECONDARY</td>\n",
       "      <td>NORMAL</td>\n",
       "      <td>72</td>\n",
       "      <td>35</td>\n",
       "      <td>2</td>\n",
       "      <td>0</td>\n",
       "      <td>Fair</td>\n",
       "      <td>Night</td>\n",
       "      <td>37.524521</td>\n",
       "      <td>0</td>\n",
       "      <td>1</td>\n",
       "      <td>1</td>\n",
       "    </tr>\n",
       "  </tbody>\n",
       "</table>\n",
       "</div>"
      ],
      "text/plain": [
       "   acceleration_score  braking_score  turning_score  weaving_score  \\\n",
       "0               100.0          100.0          100.0          100.0   \n",
       "1               100.0          100.0          100.0          100.0   \n",
       "2               100.0          100.0          100.0          100.0   \n",
       "3               100.0          100.0          100.0          100.0   \n",
       "4               100.0          100.0          100.0          100.0   \n",
       "\n",
       "   drifting_score  speeding_score  follow_score  road_type class_normal  \\\n",
       "0           100.0           100.0         100.0  SECONDARY       NORMAL   \n",
       "1           100.0           100.0         100.0  SECONDARY       NORMAL   \n",
       "2           100.0           100.0         100.0  SECONDARY       NORMAL   \n",
       "3           100.0           100.0         100.0  SECONDARY       NORMAL   \n",
       "4           100.0           100.0         100.0  SECONDARY       NORMAL   \n",
       "\n",
       "   temp_F  humidity_pct  wind_speed_mph  wind_gust_mph condition day_night  \\\n",
       "0      72            35               2              0      Fair     Night   \n",
       "1      72            35               2              0      Fair     Night   \n",
       "2      72            35               2              0      Fair     Night   \n",
       "3      72            35               2              0      Fair     Night   \n",
       "4      72            35               2              0      Fair     Night   \n",
       "\n",
       "   speed_mph  class_normal_bool  road_type_dummy  night_dummy  \n",
       "0  38.955226                  0                1            1  \n",
       "1  40.099995                  0                1            1  \n",
       "2  40.018755                  0                1            1  \n",
       "3  38.811020                  0                1            1  \n",
       "4  37.524521                  0                1            1  "
      ]
     },
     "execution_count": 6,
     "metadata": {},
     "output_type": "execute_result"
    }
   ],
   "source": [
    "df['night_dummy'] = pd.get_dummies(df['day_night'], drop_first=True)\n",
    "df.head()\n"
   ]
  },
  {
   "cell_type": "markdown",
   "id": "70953a83",
   "metadata": {},
   "source": [
    "# Sub-sample the data for base models, select features"
   ]
  },
  {
   "cell_type": "code",
   "execution_count": 15,
   "id": "ea94004b",
   "metadata": {},
   "outputs": [],
   "source": [
    "df_sub = df.sample(n=15000, random_state=42)\n"
   ]
  },
  {
   "cell_type": "code",
   "execution_count": 16,
   "id": "e61a9965",
   "metadata": {},
   "outputs": [],
   "source": [
    "X = df_sub[['acceleration_score', 'braking_score', 'speeding_score']]\n",
    "y = df_sub['class_normal_bool']\n"
   ]
  },
  {
   "cell_type": "code",
   "execution_count": 17,
   "id": "44f03532",
   "metadata": {},
   "outputs": [],
   "source": [
    "X_train, X_test, y_train, y_test = train_test_split(X, y, test_size=0.2, random_state=42)\n",
    "X_train, X_val, y_train, y_val = train_test_split(X_train, y_train, test_size=0.25, random_state=42)\n"
   ]
  },
  {
   "cell_type": "code",
   "execution_count": 18,
   "id": "0bf67454",
   "metadata": {},
   "outputs": [
    {
     "data": {
      "text/plain": [
       "((9000, 3), (9000,))"
      ]
     },
     "execution_count": 18,
     "metadata": {},
     "output_type": "execute_result"
    }
   ],
   "source": [
    "X_train.shape, y_train.shape"
   ]
  },
  {
   "cell_type": "code",
   "execution_count": 19,
   "id": "f4558f77",
   "metadata": {},
   "outputs": [],
   "source": [
    "fbeta_scorer = make_scorer(fbeta_score, beta=2)"
   ]
  },
  {
   "cell_type": "markdown",
   "id": "103324f9",
   "metadata": {},
   "source": [
    "# KNN"
   ]
  },
  {
   "cell_type": "code",
   "execution_count": 26,
   "id": "93b1bc60",
   "metadata": {},
   "outputs": [],
   "source": [
    "k_range = list(range(3, 151, 2))\n",
    "weight_options = ['uniform', 'distance']\n",
    "\n",
    "param_grid = dict(n_neighbors=k_range, weights=weight_options)\n",
    "\n",
    "knn = KNeighborsClassifier()\n",
    "grid = GridSearchCV(knn, param_grid, cv=10, scoring=fbeta_scorer, n_jobs=-1)\n",
    "\n",
    "grid.fit(X_train, y_train)\n",
    "\n",
    "df_cv = pd.DataFrame(grid.cv_results_)\n"
   ]
  },
  {
   "cell_type": "code",
   "execution_count": 27,
   "id": "ff806faf",
   "metadata": {},
   "outputs": [
    {
     "data": {
      "image/png": "[encoded data removed]",
      "text/plain": [
       "<Figure size 432x288 with 1 Axes>"
      ]
     },
     "metadata": {
      "needs_background": "light"
     },
     "output_type": "display_data"
    }
   ],
   "source": [
    "plt.scatter(df_cv[df_cv.param_weights == 'uniform'].param_n_neighbors, df_cv[df_cv.param_weights == 'uniform'].mean_test_score, label='uniform')\n",
    "plt.scatter(df_cv[df_cv.param_weights == 'distance'].param_n_neighbors, df_cv[df_cv.param_weights == 'distance'].mean_test_score, label='distance weighted')\n",
    "\n",
    "plt.xlabel('Value of K for KNN')\n",
    "plt.ylabel('Cross-Validated F2')\n",
    "\n",
    "plt.legend();\n"
   ]
  },
  {
   "cell_type": "code",
   "execution_count": 28,
   "id": "16620d26",
   "metadata": {},
   "outputs": [
    {
     "name": "stdout",
     "output_type": "stream",
     "text": [
      "Best params:  {'n_neighbors': 75, 'weights': 'distance'}\n",
      "Best estimator:  KNeighborsClassifier(n_neighbors=75, weights='distance')\n",
      "Best score:  0.9198228779308819\n"
     ]
    }
   ],
   "source": [
    "print(\"Best params: \", grid.best_params_)\n",
    "print(\"Best estimator: \", grid.best_estimator_)\n",
    "print(\"Best score: \", grid.best_score_)\n"
   ]
  },
  {
   "cell_type": "markdown",
   "id": "99a218b5",
   "metadata": {},
   "source": [
    "# Logit"
   ]
  },
  {
   "cell_type": "markdown",
   "id": "7cc6cf8f",
   "metadata": {},
   "source": [
    "Cross-val logit"
   ]
  },
  {
   "cell_type": "code",
   "execution_count": 29,
   "id": "c8125df5",
   "metadata": {},
   "outputs": [],
   "source": [
    "std_scale = StandardScaler()\n",
    "\n",
    "X_train_scaled = std_scale.fit_transform(X_train)\n",
    "X_val_scaled = std_scale.transform(X_val)\n",
    "X_test_scaled = std_scale.transform(X_test)\n"
   ]
  },
  {
   "cell_type": "code",
   "execution_count": 33,
   "id": "c7b0b877",
   "metadata": {},
   "outputs": [],
   "source": [
    "C_range = list(np.logspace(-5, 3, 200))\n",
    "\n",
    "param_grid = dict(C=C_range)\n",
    "\n",
    "lr = LogisticRegression()\n",
    "grid = GridSearchCV(lr, param_grid, cv=10, scoring=fbeta_scorer, n_jobs=-1)\n",
    "\n",
    "grid.fit(X_train_scaled, y_train)\n",
    "\n",
    "df_cv = pd.DataFrame(grid.cv_results_)\n"
   ]
  },
  {
   "cell_type": "code",
   "execution_count": 34,
   "id": "8651ba12",
   "metadata": {},
   "outputs": [
    {
     "data": {
      "image/png": "[encoded data removed]",
      "text/plain": [
       "<Figure size 432x288 with 1 Axes>"
      ]
     },
     "metadata": {
      "needs_background": "light"
     },
     "output_type": "display_data"
    }
   ],
   "source": [
    "plt.scatter(df_cv.param_C, df_cv.mean_test_score, label='l1 penalty')\n",
    "\n",
    "plt.xlabel('Value of C for Logit')\n",
    "plt.ylabel('Cross-Validated F2')\n",
    "\n",
    "plt.xscale('log')\n",
    "plt.legend();\n"
   ]
  },
  {
   "cell_type": "code",
   "execution_count": 35,
   "id": "f6a5673b",
   "metadata": {},
   "outputs": [
    {
     "name": "stdout",
     "output_type": "stream",
     "text": [
      "Best params:  {'C': 1e-05}\n",
      "Best estimator:  LogisticRegression(C=1e-05)\n",
      "Best score:  0.8735946459635333\n"
     ]
    }
   ],
   "source": [
    "print(\"Best params: \", grid.best_params_)\n",
    "print(\"Best estimator: \", grid.best_estimator_)\n",
    "print(\"Best score: \", grid.best_score_)\n"
   ]
  },
  {
   "cell_type": "markdown",
   "id": "7a67b0c0",
   "metadata": {},
   "source": [
    "# Decision Tree"
   ]
  },
  {
   "cell_type": "code",
   "execution_count": 42,
   "id": "2bbc5c22",
   "metadata": {},
   "outputs": [],
   "source": [
    "max_depth_range = list(range(1,21))\n",
    "criterion_options = ['entropy', 'gini']\n",
    "min_samples_split_range = list(range(2,11))\n",
    "min_samples_leaf_range = list(range(1,6))\n",
    "\n",
    "param_grid = dict(max_depth=max_depth_range, criterion=criterion_options,\n",
    "                  min_samples_split=min_samples_split_range, min_samples_leaf=min_samples_leaf_range)\n",
    "\n",
    "decisiontree = DecisionTreeClassifier()\n",
    "grid = GridSearchCV(decisiontree, param_grid, cv=10, scoring=fbeta_scorer, n_jobs=-1)\n",
    "\n",
    "grid.fit(X_train, y_train)\n",
    "\n",
    "df_cv = pd.DataFrame(grid.cv_results_)\n"
   ]
  },
  {
   "cell_type": "code",
   "execution_count": 43,
   "id": "ea6fcddc",
   "metadata": {},
   "outputs": [
    {
     "data": {
      "image/png": "[encoded data removed]",
      "text/plain": [
       "<Figure size 432x288 with 1 Axes>"
      ]
     },
     "metadata": {
      "needs_background": "light"
     },
     "output_type": "display_data"
    }
   ],
   "source": [
    "plt.scatter(df_cv[df_cv.param_criterion == 'entropy'].param_max_depth, df_cv[df_cv.param_criterion == 'entropy'].mean_test_score, label='entropy')\n",
    "plt.scatter(df_cv[df_cv.param_criterion == 'gini'].param_max_depth, df_cv[df_cv.param_criterion == 'gini'].mean_test_score, label='gini')\n",
    "\n",
    "plt.xlabel('Value of max depth for DT')\n",
    "plt.ylabel('Cross-Validated F2')\n",
    "\n",
    "plt.legend();\n"
   ]
  },
  {
   "cell_type": "code",
   "execution_count": 44,
   "id": "26f9658f",
   "metadata": {},
   "outputs": [
    {
     "name": "stdout",
     "output_type": "stream",
     "text": [
      "Best params:  {'criterion': 'gini', 'max_depth': 11, 'min_samples_leaf': 1, 'min_samples_split': 10}\n",
      "Best estimator:  DecisionTreeClassifier(max_depth=11, min_samples_split=10)\n",
      "Best score:  0.9371571919384406\n"
     ]
    }
   ],
   "source": [
    "print(\"Best params: \", grid.best_params_)\n",
    "print(\"Best estimator: \", grid.best_estimator_)\n",
    "print(\"Best score: \", grid.best_score_)\n"
   ]
  },
  {
   "cell_type": "markdown",
   "id": "64f39756",
   "metadata": {},
   "source": [
    "# Random Forest"
   ]
  },
  {
   "cell_type": "code",
   "execution_count": 48,
   "id": "ffc8a9b0",
   "metadata": {},
   "outputs": [],
   "source": [
    "max_features_options = ['auto', 'sqrt', 'log2']\n",
    "max_depth_range = list(range(5,16))\n",
    "criterion_options = ['entropy', 'gini']\n",
    "\n",
    "param_grid = dict(#n_estimators=n_estimators_range, \n",
    "                  max_features=max_features_options,\n",
    "                  max_depth=max_depth_range, criterion=criterion_options)\n",
    "\n",
    "randomforest = RandomForestClassifier(n_estimators=250)\n",
    "grid = GridSearchCV(randomforest, param_grid, cv=10, scoring=fbeta_scorer, n_jobs=-1)\n",
    "\n",
    "grid.fit(X_train, y_train)\n",
    "\n",
    "df_cv = pd.DataFrame(grid.cv_results_)\n"
   ]
  },
  {
   "cell_type": "code",
   "execution_count": 49,
   "id": "1b2245f9",
   "metadata": {},
   "outputs": [
    {
     "data": {
      "image/png": "[encoded data removed]",
      "text/plain": [
       "<Figure size 432x288 with 2 Axes>"
      ]
     },
     "metadata": {
      "needs_background": "light"
     },
     "output_type": "display_data"
    }
   ],
   "source": [
    "plt.scatter(df_cv[df_cv.param_criterion == 'entropy'].param_max_depth, df_cv[df_cv.param_criterion == 'entropy'].mean_test_score, label='entropy')\n",
    "plt.scatter(df_cv[df_cv.param_criterion == 'gini'].param_max_depth, df_cv[df_cv.param_criterion == 'gini'].mean_test_score, label='gini')\n",
    "\n",
    "plt.xlabel('Value of max depth for RF')\n",
    "plt.ylabel('Cross-Validated F2')\n",
    "\n",
    "plt.colorbar()\n",
    "plt.legend();\n"
   ]
  },
  {
   "cell_type": "code",
   "execution_count": 50,
   "id": "bf9c7948",
   "metadata": {},
   "outputs": [
    {
     "name": "stdout",
     "output_type": "stream",
     "text": [
      "Best params:  {'criterion': 'entropy', 'max_depth': 12, 'max_features': 'sqrt'}\n",
      "Best estimator:  RandomForestClassifier(criterion='entropy', max_depth=12, max_features='sqrt',\n",
      "                       n_estimators=250)\n",
      "Best score:  0.9368353813943671\n"
     ]
    }
   ],
   "source": [
    "print(\"Best params: \", grid.best_params_)\n",
    "print(\"Best estimator: \", grid.best_estimator_)\n",
    "print(\"Best score: \", grid.best_score_)\n"
   ]
  },
  {
   "cell_type": "markdown",
   "id": "2c7ec88d",
   "metadata": {},
   "source": [
    "**Notes:**\n",
    "\n",
    "- Used 3 features: acceleration, braking, speeding\n",
    "- Logistic Regression (F2 score < 0.9) does not perform as well as the other models (all have F2 scores > 0.9)\n",
    "    - Likely non-linear decision boundary required for classification\n",
    "    - Models that can have non-linear decision boundaries (e.g., decision tree/ensemble models) will perform better\n",
    "- Drop Logistic Regression from further consideration"
   ]
  },
  {
   "cell_type": "markdown",
   "id": "a9b76d7e",
   "metadata": {},
   "source": [
    "# Add more features"
   ]
  },
  {
   "cell_type": "code",
   "execution_count": 51,
   "id": "393e3ec1",
   "metadata": {},
   "outputs": [
    {
     "data": {
      "text/plain": [
       "Index(['acceleration_score', 'braking_score', 'turning_score', 'weaving_score',\n",
       "       'drifting_score', 'speeding_score', 'follow_score', 'road_type',\n",
       "       'class_normal', 'temp_F', 'humidity_pct', 'wind_speed_mph',\n",
       "       'wind_gust_mph', 'condition', 'day_night', 'speed_mph',\n",
       "       'class_normal_bool', 'road_type_dummy', 'night_dummy'],\n",
       "      dtype='object')"
      ]
     },
     "execution_count": 51,
     "metadata": {},
     "output_type": "execute_result"
    }
   ],
   "source": [
    "df_sub.columns"
   ]
  },
  {
   "cell_type": "code",
   "execution_count": 52,
   "id": "ec5e1c78",
   "metadata": {},
   "outputs": [],
   "source": [
    "X = df_sub[['acceleration_score', 'braking_score', 'turning_score', 'weaving_score',\n",
    "       'drifting_score', 'speeding_score', 'follow_score', 'speed_mph', 'road_type_dummy', 'night_dummy']]\n",
    "y = df_sub['class_normal_bool']\n",
    "\n",
    "X_train, X_test, y_train, y_test = train_test_split(X, y, test_size=0.2, random_state=42)\n",
    "X_train, X_val, y_train, y_val = train_test_split(X_train, y_train, test_size=0.25, random_state=42)\n"
   ]
  },
  {
   "cell_type": "markdown",
   "id": "1754032a",
   "metadata": {},
   "source": [
    "# KNN (with more features)"
   ]
  },
  {
   "cell_type": "code",
   "execution_count": 75,
   "id": "c617f8aa",
   "metadata": {},
   "outputs": [],
   "source": [
    "k_range = list(range(3, 151, 2))\n",
    "weight_options = ['uniform', 'distance']\n",
    "\n",
    "param_grid = dict(n_neighbors=k_range, weights=weight_options)\n",
    "\n",
    "knn = KNeighborsClassifier()\n",
    "knn_grid = GridSearchCV(knn, param_grid, cv=10, scoring=fbeta_scorer, n_jobs=-1)\n",
    "\n",
    "knn_grid.fit(X_train, y_train)\n",
    "\n",
    "df_cv_knn = pd.DataFrame(knn_grid.cv_results_)\n"
   ]
  },
  {
   "cell_type": "code",
   "execution_count": 76,
   "id": "2584bda8",
   "metadata": {},
   "outputs": [
    {
     "data": {
      "image/png": "[encoded data removed]",
      "text/plain": [
       "<Figure size 432x288 with 1 Axes>"
      ]
     },
     "metadata": {
      "needs_background": "light"
     },
     "output_type": "display_data"
    }
   ],
   "source": [
    "plt.scatter(df_cv_knn[df_cv_knn.param_weights == 'uniform'].param_n_neighbors, df_cv_knn[df_cv_knn.param_weights == 'uniform'].mean_test_score, label='uniform')\n",
    "plt.scatter(df_cv_knn[df_cv_knn.param_weights == 'distance'].param_n_neighbors, df_cv_knn[df_cv_knn.param_weights == 'distance'].mean_test_score, label='distance weighted')\n",
    "\n",
    "plt.xlabel('Value of K for KNN')\n",
    "plt.ylabel('Cross-Validated F2')\n",
    "\n",
    "plt.legend();\n"
   ]
  },
  {
   "cell_type": "code",
   "execution_count": 77,
   "id": "49c305c8",
   "metadata": {},
   "outputs": [
    {
     "name": "stdout",
     "output_type": "stream",
     "text": [
      "Best params:  {'n_neighbors': 3, 'weights': 'distance'}\n",
      "Best estimator:  KNeighborsClassifier(n_neighbors=3, weights='distance')\n",
      "Best score:  0.988043606849398\n"
     ]
    }
   ],
   "source": [
    "print(\"Best params: \", knn_grid.best_params_)\n",
    "print(\"Best estimator: \", knn_grid.best_estimator_)\n",
    "print(\"Best score: \", knn_grid.best_score_)\n"
   ]
  },
  {
   "cell_type": "code",
   "execution_count": 78,
   "id": "4a9ac8b1",
   "metadata": {},
   "outputs": [
    {
     "name": "stdout",
     "output_type": "stream",
     "text": [
      "Accuracy:\t 0.9860\n",
      "Precision:\t 0.9931\n",
      "Recall:\t\t 0.9829\n",
      "F1:\t\t 0.9879\n",
      "Fbeta (beta=2):\t 0.9849\n",
      "AUC:\t\t 0.9866\n"
     ]
    }
   ],
   "source": [
    "knn = KNeighborsClassifier(n_neighbors=knn_grid.best_params_['n_neighbors'], weights='distance')\n",
    "knn.fit(X_train, y_train)\n",
    "\n",
    "y_knn_pred = knn.predict(X_val)\n",
    "y_knn_pred_prob = knn.predict_proba(X_val)[:, 1]\n",
    "\n",
    "print(f'Accuracy:\\t {accuracy_score(y_val, y_knn_pred):.4f}')\n",
    "print(f'Precision:\\t {precision_score(y_val, y_knn_pred):.4f}')\n",
    "print(f'Recall:\\t\\t {recall_score(y_val, y_knn_pred):.4f}')\n",
    "print(f'F1:\\t\\t {f1_score(y_val, y_knn_pred):.4f}')\n",
    "print(f'Fbeta (beta=2):\\t {fbeta_score(y_val, y_knn_pred, beta=2):.4f}')\n",
    "print(f'AUC:\\t\\t {roc_auc_score(y_val, y_knn_pred):.4f}')\n"
   ]
  },
  {
   "cell_type": "code",
   "execution_count": 79,
   "id": "ca3aa5d7",
   "metadata": {},
   "outputs": [
    {
     "data": {
      "image/png": "[encoded data removed]",
      "text/plain": [
       "<Figure size 432x288 with 1 Axes>"
      ]
     },
     "metadata": {
      "needs_background": "light"
     },
     "output_type": "display_data"
    }
   ],
   "source": [
    "base_fpr, base_tpr, _ = roc_curve(y_val, [1 for _ in range(len(y_val))])\n",
    "model_fpr, model_tpr, _ = roc_curve(y_val, y_knn_pred_prob)\n",
    "\n",
    "plt.plot(base_fpr, base_tpr, 'b', label = 'baseline')\n",
    "plt.plot(model_fpr, model_tpr, 'r', label = 'KNN model')\n",
    "\n",
    "plt.xlabel('False Positive Rate')\n",
    "plt.ylabel('True Positive Rate')\n",
    "\n",
    "plt.title('ROC Curve')\n",
    "\n",
    "plt.legend();\n"
   ]
  },
  {
   "cell_type": "code",
   "execution_count": 100,
   "id": "c30f0706",
   "metadata": {},
   "outputs": [
    {
     "data": {
      "text/plain": [
       "<sklearn.metrics._plot.confusion_matrix.ConfusionMatrixDisplay at 0x7ffadcf67d00>"
      ]
     },
     "execution_count": 100,
     "metadata": {},
     "output_type": "execute_result"
    },
    {
     "data": {
      "image/png": "[encoded data removed]",
      "text/plain": [
       "<Figure size 432x288 with 2 Axes>"
      ]
     },
     "metadata": {
      "needs_background": "light"
     },
     "output_type": "display_data"
    }
   ],
   "source": [
    "plot_confusion_matrix(knn, X_val, y_val,\n",
    "                      display_labels=['Normal', 'Not normal'],\n",
    "                      cmap=plt.cm.Blues,\n",
    "                      normalize='true')\n"
   ]
  },
  {
   "cell_type": "markdown",
   "id": "6ae9e9ee",
   "metadata": {},
   "source": [
    "# Decision Tree (with more features)"
   ]
  },
  {
   "cell_type": "code",
   "execution_count": 67,
   "id": "4ddcf873",
   "metadata": {},
   "outputs": [],
   "source": [
    "max_depth_range = list(range(5,21))\n",
    "criterion_options = ['entropy', 'gini']\n",
    "min_samples_split_range = list(range(2,11))\n",
    "min_samples_leaf_range = list(range(1,6))\n",
    "\n",
    "param_grid = dict(max_depth=max_depth_range, criterion=criterion_options,\n",
    "                  min_samples_split=min_samples_split_range, min_samples_leaf=min_samples_leaf_range)\n",
    "\n",
    "decisiontree = DecisionTreeClassifier()\n",
    "dt_grid = GridSearchCV(decisiontree, param_grid, cv=10, scoring=fbeta_scorer, n_jobs=-1)\n",
    "\n",
    "dt_grid.fit(X_train, y_train)\n",
    "\n",
    "df_cv_dt = pd.DataFrame(dt_grid.cv_results_)\n"
   ]
  },
  {
   "cell_type": "code",
   "execution_count": 68,
   "id": "162a5197",
   "metadata": {},
   "outputs": [
    {
     "data": {
      "image/png": "[encoded data removed]",
      "text/plain": [
       "<Figure size 432x288 with 1 Axes>"
      ]
     },
     "metadata": {
      "needs_background": "light"
     },
     "output_type": "display_data"
    }
   ],
   "source": [
    "plt.scatter(df_cv_dt[df_cv_dt.param_criterion == 'entropy'].param_max_depth, df_cv_dt[df_cv_dt.param_criterion == 'entropy'].mean_test_score, label='entropy')\n",
    "plt.scatter(df_cv_dt[df_cv_dt.param_criterion == 'gini'].param_max_depth, df_cv_dt[df_cv_dt.param_criterion == 'gini'].mean_test_score, label='gini')\n",
    "\n",
    "plt.xlabel('Value of max depth for DT')\n",
    "plt.ylabel('Cross-Validated F2')\n",
    "\n",
    "plt.legend();\n"
   ]
  },
  {
   "cell_type": "code",
   "execution_count": 69,
   "id": "13190b84",
   "metadata": {},
   "outputs": [
    {
     "name": "stdout",
     "output_type": "stream",
     "text": [
      "Best params:  {'criterion': 'gini', 'max_depth': 18, 'min_samples_leaf': 1, 'min_samples_split': 2}\n",
      "Best estimator:  DecisionTreeClassifier(max_depth=18)\n",
      "Best score:  0.9911152745558341\n"
     ]
    }
   ],
   "source": [
    "print(\"Best params: \", dt_grid.best_params_)\n",
    "print(\"Best estimator: \", dt_grid.best_estimator_)\n",
    "print(\"Best score: \", dt_grid.best_score_)\n"
   ]
  },
  {
   "cell_type": "code",
   "execution_count": 70,
   "id": "c3af8629",
   "metadata": {},
   "outputs": [
    {
     "name": "stdout",
     "output_type": "stream",
     "text": [
      "Accuracy:\t 0.9880\n",
      "Precision:\t 0.9892\n",
      "Recall:\t\t 0.9903\n",
      "F1:\t\t 0.9897\n",
      "Fbeta (beta=2):\t 0.9901\n",
      "AUC:\t\t 0.9875\n"
     ]
    }
   ],
   "source": [
    "dt = DecisionTreeClassifier(criterion=dt_grid.best_params_['criterion'], max_depth=dt_grid.best_params_['max_depth'], min_samples_leaf=dt_grid.best_params_['min_samples_leaf'], min_samples_split=dt_grid.best_params_['min_samples_split'])\n",
    "dt.fit(X_train, y_train)\n",
    "\n",
    "y_dt_pred = dt.predict(X_val)\n",
    "y_dt_pred_prob = dt.predict_proba(X_val)[:, 1]\n",
    "\n",
    "\n",
    "print(f'Accuracy:\\t {accuracy_score(y_val, y_dt_pred):.4f}')\n",
    "print(f'Precision:\\t {precision_score(y_val, y_dt_pred):.4f}')\n",
    "print(f'Recall:\\t\\t {recall_score(y_val, y_dt_pred):.4f}')\n",
    "print(f'F1:\\t\\t {f1_score(y_val, y_dt_pred):.4f}')\n",
    "print(f'Fbeta (beta=2):\\t {fbeta_score(y_val, y_dt_pred, beta=2):.4f}')\n",
    "print(f'AUC:\\t\\t {roc_auc_score(y_val, y_dt_pred):.4f}')\n"
   ]
  },
  {
   "cell_type": "code",
   "execution_count": 84,
   "id": "5f1b550d",
   "metadata": {},
   "outputs": [
    {
     "data": {
      "image/png": "[encoded data removed]",
      "text/plain": [
       "<Figure size 432x288 with 1 Axes>"
      ]
     },
     "metadata": {
      "needs_background": "light"
     },
     "output_type": "display_data"
    }
   ],
   "source": [
    "base_fpr, base_tpr, _ = roc_curve(y_val, [1 for _ in range(len(y_val))])\n",
    "model_fpr, model_tpr, _ = roc_curve(y_val, y_dt_pred_prob)\n",
    "\n",
    "plt.plot(base_fpr, base_tpr, 'b', label = 'baseline')\n",
    "plt.plot(model_fpr, model_tpr, 'r', label = 'DT model')\n",
    "\n",
    "plt.xlabel('False Positive Rate')\n",
    "plt.ylabel('True Positive Rate')\n",
    "\n",
    "plt.title('ROC Curve')\n",
    "\n",
    "plt.legend();\n"
   ]
  },
  {
   "cell_type": "code",
   "execution_count": 101,
   "id": "1f397d0a",
   "metadata": {},
   "outputs": [
    {
     "data": {
      "text/plain": [
       "<sklearn.metrics._plot.confusion_matrix.ConfusionMatrixDisplay at 0x7ffad75fd400>"
      ]
     },
     "execution_count": 101,
     "metadata": {},
     "output_type": "execute_result"
    },
    {
     "data": {
      "image/png": "[encoded data removed]",
      "text/plain": [
       "<Figure size 432x288 with 2 Axes>"
      ]
     },
     "metadata": {
      "needs_background": "light"
     },
     "output_type": "display_data"
    }
   ],
   "source": [
    "plot_confusion_matrix(dt, X_val, y_val,\n",
    "                      display_labels=['Normal', 'Not normal'],\n",
    "                      cmap=plt.cm.Blues,\n",
    "                      normalize='true')\n"
   ]
  },
  {
   "cell_type": "markdown",
   "id": "34963648",
   "metadata": {},
   "source": [
    "# Random Forest (with more features)"
   ]
  },
  {
   "cell_type": "code",
   "execution_count": null,
   "id": "98470787",
   "metadata": {},
   "outputs": [],
   "source": [
    "n_estimators_range = [int(x) for x in np.linspace(200,2000,10)]\n",
    "max_features_options = ['auto', 'sqrt', 'log2']\n",
    "max_depth_range = [int(x) for x in np.linspace(10,110,11)]\n",
    "max_depth_range.append(None)\n",
    "min_samples_split = [2, 5, 10]\n",
    "min_samples_leaf = [1, 2, 4, 10]\n",
    "criterion_options = ['entropy', 'gini']\n",
    "bootstrap = [True, False]\n",
    "\n",
    "param_grid = dict(max_features=max_features_options,\n",
    "                  max_depth=max_depth_range, criterion=criterion_options)\n",
    "\n",
    "randomforest = RandomForestClassifier(n_estimators=250)\n",
    "rf_grid = GridSearchCV(randomforest, param_grid, cv=10, scoring=fbeta_scorer, n_jobs=-1)\n",
    "\n",
    "rf_grid.fit(X_train, y_train)\n",
    "\n",
    "df_cv_rf = pd.DataFrame(rf_grid.cv_results_)\n"
   ]
  },
  {
   "cell_type": "code",
   "execution_count": null,
   "id": "71167514",
   "metadata": {},
   "outputs": [],
   "source": [
    "plt.scatter(df_cv_rf[df_cv_rf.param_criterion == 'entropy'].param_max_depth, df_cv_rf[df_cv_rf.param_criterion == 'entropy'].mean_test_score, label='entropy')\n",
    "plt.scatter(df_cv_rf[df_cv_rf.param_criterion == 'gini'].param_max_depth, df_cv_rf[df_cv_rf.param_criterion == 'gini'].mean_test_score, label='gini')\n",
    "plt.xlabel('Value of max depth for RF')\n",
    "plt.ylabel('Cross-Validated F2')\n",
    "\n",
    "plt.yscale('log')\n",
    "plt.colorbar()\n",
    "plt.legend();\n"
   ]
  },
  {
   "cell_type": "code",
   "execution_count": null,
   "id": "b7172b99",
   "metadata": {},
   "outputs": [],
   "source": [
    "print(\"Best params: \", rf_grid.best_params_)\n",
    "print(\"Best estimator: \", rf_grid.best_estimator_)\n",
    "print(\"Best score: \", rf_grid.best_score_)\n"
   ]
  },
  {
   "cell_type": "code",
   "execution_count": null,
   "id": "a3a14658",
   "metadata": {},
   "outputs": [],
   "source": [
    "rf = RandomForestClassifier(n_estimators=250, criterion=rf_grid.best_params_['criterion'], max_depth=rf_grid.best_params_['max_depth'], max_features=rf_grid.best_params_['max_features'])\n",
    "rf.fit(X_train, y_train)\n",
    "\n",
    "y_rf_pred = rf.predict(X_val)\n",
    "y_rf_pred_prob = rf.predict_proba(X_val)[:, 1]\n",
    "\n",
    "print(f'Accuracy:\\t {accuracy_score(y_val, y_rf_pred):.4f}')\n",
    "print(f'Precision:\\t {precision_score(y_val, y_rf_pred):.4f}')\n",
    "print(f'Recall:\\t\\t {recall_score(y_val, y_rf_pred):.4f}')\n",
    "print(f'F1:\\t\\t {f1_score(y_val, y_rf_pred):.4f}')\n",
    "print(f'Fbeta (beta=2):\\t {fbeta_score(y_val, y_rf_pred, beta=2):.4f}')\n",
    "print(f'AUC:\\t\\t {roc_auc_score(y_val, y_rf_pred):.4f}')\n"
   ]
  },
  {
   "cell_type": "code",
   "execution_count": null,
   "id": "4ee0bf94",
   "metadata": {},
   "outputs": [],
   "source": [
    "base_fpr, base_tpr, _ = roc_curve(y_val, [1 for _ in range(len(y_val))])\n",
    "model_fpr, model_tpr, _ = roc_curve(y_val, y_rf_pred_prob)\n",
    "\n",
    "plt.plot(base_fpr, base_tpr, 'b', label = 'baseline')\n",
    "plt.plot(model_fpr, model_tpr, 'r', label = 'DT model')\n",
    "\n",
    "plt.xlabel('False Positive Rate')\n",
    "plt.ylabel('True Positive Rate')\n",
    "\n",
    "plt.title('ROC Curve')\n",
    "\n",
    "plt.legend();\n"
   ]
  },
  {
   "cell_type": "code",
   "execution_count": null,
   "id": "940680cb",
   "metadata": {},
   "outputs": [],
   "source": [
    "plot_confusion_matrix(rf, X_val, y_val,\n",
    "                      display_labels=['Normal', 'Not normal'],\n",
    "                      cmap=plt.cm.Blues,\n",
    "                      normalize='true')\n"
   ]
  },
  {
   "cell_type": "code",
   "execution_count": null,
   "id": "541c9ca4",
   "metadata": {},
   "outputs": [],
   "source": [
    "labels = ['KNN', 'DT', 'RF']\n",
    "y_preds = [y_knn_pred, y_dt_pred, y_rf_pred]\n",
    "for i,probs in enumerate([y_knn_pred_prob, y_dt_pred_prob, y_rf_pred_prob]):\n",
    "    base_fpr, base_tpr, _ = roc_curve(y_val, [1 for _ in range(len(y_val))])\n",
    "    model_fpr, model_tpr, _ = roc_curve(y_val, probs)\n",
    "\n",
    "    plt.plot(model_fpr, model_tpr, label = f'{labels[i]} (AUC: {roc_auc_score(y_val, y_preds[i]):.4f}, F2: {fbeta_score(y_val, y_preds[i], beta=2):.4f})')\n",
    "\n",
    "#plt.plot(base_fpr, base_tpr, 'k', label = 'baseline')\n",
    "\n",
    "plt.xlabel('False Positive Rate', fontsize=12)\n",
    "plt.ylabel('True Positive Rate', fontsize=12)\n",
    "\n",
    "plt.title('ROC Curves', fontsize=14)\n",
    "\n",
    "plt.xlim(-0.01,0.15)\n",
    "plt.ylim(0.85,1.01)\n",
    "\n",
    "plt.legend(fontsize=11)\n",
    "\n",
    "plt.savefig('roc_curves_base.png', dpi=300);\n"
   ]
  },
  {
   "cell_type": "markdown",
   "id": "73fa0cd6",
   "metadata": {},
   "source": [
    "**Notes:**\n",
    "\n",
    "- RF performs slightly better than DT and KNN models on the validation set\n",
    "- Will also test an XGBoost model on these features"
   ]
  },
  {
   "cell_type": "markdown",
   "id": "2855c88f",
   "metadata": {},
   "source": [
    "### Checking feature importance using Logistic Regression to see if a few features are very strong predictors"
   ]
  },
  {
   "cell_type": "code",
   "execution_count": 109,
   "id": "592b42ac",
   "metadata": {},
   "outputs": [
    {
     "name": "stdout",
     "output_type": "stream",
     "text": [
      "Feature: 0, Score: -0.01952\n",
      "Feature: 1, Score: -0.02352\n",
      "Feature: 2, Score: -0.01884\n",
      "Feature: 3, Score: -0.04391\n",
      "Feature: 4, Score: -0.03111\n",
      "Feature: 5, Score: -0.04992\n",
      "Feature: 6, Score: -0.02939\n",
      "Feature: 7, Score: 0.00797\n",
      "Feature: 8, Score: -0.00138\n",
      "Feature: 9, Score: -0.00068\n"
     ]
    },
    {
     "data": {
      "image/png": "[encoded data removed]",
      "text/plain": [
       "<Figure size 576x360 with 1 Axes>"
      ]
     },
     "metadata": {
      "needs_background": "light"
     },
     "output_type": "display_data"
    }
   ],
   "source": [
    "std_scale = StandardScaler()\n",
    "\n",
    "X_train_scaled = std_scale.fit_transform(X_train)\n",
    "X_val_scaled = std_scale.transform(X_val)\n",
    "X_test_scaled = std_scale.transform(X_test)\n",
    "\n",
    "lr = LogisticRegression(C=0.00001, max_iter=1000)\n",
    "lr.fit(X_train, y_train)\n",
    "\n",
    "importance = lr.coef_[0]\n",
    "for i,v in enumerate(importance):\n",
    "    print('Feature: %0d, Score: %.5f' % (i,v))\n",
    "\n",
    "plt.figure(figsize=(8,5))\n",
    "\n",
    "cols = [x.split('_')[0] for x in X_train.columns]\n",
    "\n",
    "plt.bar(cols, importance);\n"
   ]
  },
  {
   "cell_type": "markdown",
   "id": "02fef3fe",
   "metadata": {},
   "source": [
    "# XGBoost (with more features)"
   ]
  },
  {
   "cell_type": "code",
   "execution_count": 128,
   "id": "e50d32df",
   "metadata": {},
   "outputs": [],
   "source": [
    "import xgboost as xgb\n"
   ]
  },
  {
   "cell_type": "code",
   "execution_count": 186,
   "id": "1f382d6f",
   "metadata": {},
   "outputs": [
    {
     "name": "stderr",
     "output_type": "stream",
     "text": [
      "/Users/Hannah/anaconda/envs/metis/lib/python3.8/site-packages/xgboost/sklearn.py:1146: UserWarning: The use of label encoder in XGBClassifier is deprecated and will be removed in a future release. To remove this warning, do the following: 1) Pass option use_label_encoder=False when constructing XGBClassifier object; and 2) Encode your labels (y) as integers starting with 0, i.e. 0, 1, 2, ..., [num_class - 1].\n",
      "  warnings.warn(label_encoder_deprecation_msg, UserWarning)\n"
     ]
    }
   ],
   "source": [
    "gbm = xgb.XGBClassifier( \n",
    "                        n_estimators=30000, #arbitrary large number\n",
    "                        max_depth=4,\n",
    "                        objective='binary:logistic',  # Other options: https://xgboost.readthedocs.io/en/latest/parameter.html#learning-task-parameters\n",
    "                        learning_rate=.1, \n",
    "                        subsample=1,\n",
    "                        min_child_weight=1,\n",
    "                        colsample_bytree=.8\n",
    "                       )\n",
    "\n",
    "eval_set=[(X_train,y_train),(X_val,y_val)] #tracking train/validation error as we go\n",
    "fit_model = gbm.fit( \n",
    "                    X_train, y_train, \n",
    "                    eval_set=eval_set,\n",
    "                    eval_metric='auc',\n",
    "                    early_stopping_rounds=20,\n",
    "                    verbose=False #gives output log as below\n",
    "                   )\n"
   ]
  },
  {
   "cell_type": "code",
   "execution_count": 187,
   "id": "03d1f020",
   "metadata": {},
   "outputs": [
    {
     "name": "stdout",
     "output_type": "stream",
     "text": [
      "Fbeta (beta=2):\t 0.9927\n"
     ]
    },
    {
     "name": "stderr",
     "output_type": "stream",
     "text": [
      "/Users/Hannah/anaconda/envs/metis/lib/python3.8/site-packages/xgboost/core.py:101: UserWarning: ntree_limit is deprecated, use `iteration_range` or model slicing instead.\n",
      "  warnings.warn(\n",
      "/Users/Hannah/anaconda/envs/metis/lib/python3.8/site-packages/xgboost/data.py:112: UserWarning: Use subset (sliced data) of np.ndarray is not recommended because it will generate extra copies and increase memory consumption\n",
      "  warnings.warn(\n"
     ]
    }
   ],
   "source": [
    "print(f'Fbeta (beta=2):\\t {fbeta_score(y_val, gbm.predict(X_val, ntree_limit=gbm.best_ntree_limit), beta=2):.4f}')\n"
   ]
  },
  {
   "cell_type": "markdown",
   "id": "22e27b7f",
   "metadata": {},
   "source": [
    "Notes:\n",
    "- Out of the box, XGBoost already out-performs Random Forest\n",
    "- However, tuning XGBoost is time consuming, and Random Forest may also perform better with more tuning\n",
    "- Choosing Randfom Forest classifier as final model"
   ]
  },
  {
   "cell_type": "markdown",
   "id": "66344ff2",
   "metadata": {},
   "source": [
    "# Final Random Forest model tuning"
   ]
  },
  {
   "cell_type": "code",
   "execution_count": null,
   "id": "2bfedf09",
   "metadata": {},
   "outputs": [],
   "source": [
    "n_estimators_range = [int(x) for x in np.linspace(200,1000,9)]\n",
    "max_features_options = ['auto', 'sqrt', 'log2']\n",
    "max_depth_range = [int(x) for x in np.linspace(10,100,10)]\n",
    "max_depth_range.append(None)\n",
    "min_samples_split_range = [2, 5, 10]\n",
    "min_samples_leaf_range = [1, 2, 4, 10]\n",
    "criterion_options = ['entropy', 'gini']\n",
    "\n",
    "param_grid = dict(n_estimators=n_estimators_range, max_features=max_features_options,\n",
    "                  max_depth=max_depth_range, min_samples_split=min_samples_split_range,\n",
    "                  min_samples_leaf=min_samples_leaf_range, criterion=criterion_options)\n",
    "\n",
    "print(param_grid)\n",
    "rf = RandomForestClassifier(bootstrap=True)\n",
    "#rf_grid = GridSearchCV(rf, param_grid, cv=10, scoring=fbeta_scorer, n_jobs=-1)\n",
    "rf_grid = RandomizedSearchCV(rf, param_grid, n_iter=100, cv=3, scoring=fbeta_scorer, n_jobs=-1)\n",
    "\n",
    "rf_grid.fit(X_train, y_train)\n",
    "\n",
    "df_cv_rf = pd.DataFrame(rf_grid.cv_results_)"
   ]
  }
 ],
 "metadata": {
  "kernelspec": {
   "display_name": "Python [conda env:metis] *",
   "language": "python",
   "name": "conda-env-metis-py"
  },
  "language_info": {
   "codemirror_mode": {
    "name": "ipython",
    "version": 3
   },
   "file_extension": ".py",
   "mimetype": "text/x-python",
   "name": "python",
   "nbconvert_exporter": "python",
   "pygments_lexer": "ipython3",
   "version": "3.8.10"
  }
 },
 "nbformat": 4,
 "nbformat_minor": 5
}
