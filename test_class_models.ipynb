{
 "cells": [
  {
   "cell_type": "code",
   "execution_count": 157,
   "id": "fded0a47",
   "metadata": {},
   "outputs": [],
   "source": [
    "import numpy as np\n",
    "import pandas as pd\n",
    "\n",
    "import matplotlib as mpl\n",
    "import matplotlib.pyplot as plt\n",
    "import seaborn as sns\n",
    "\n",
    "from sklearn.neighbors import KNeighborsClassifier\n",
    "from sklearn.linear_model import LogisticRegression\n",
    "from sklearn.tree import DecisionTreeClassifier\n",
    "from sklearn.ensemble import RandomForestClassifier\n",
    "\n",
    "from sklearn.model_selection import train_test_split, cross_val_score, GridSearchCV\n",
    "from sklearn.preprocessing import StandardScaler\n",
    "from sklearn.metrics import make_scorer, confusion_matrix, precision_score, recall_score, accuracy_score, f1_score, fbeta_score, roc_curve, roc_auc_score, plot_roc_curve\n"
   ]
  },
  {
   "cell_type": "code",
   "execution_count": 158,
   "id": "e6e0be8a",
   "metadata": {},
   "outputs": [
    {
     "data": {
      "text/html": [
       "<div>\n",
       "<style scoped>\n",
       "    .dataframe tbody tr th:only-of-type {\n",
       "        vertical-align: middle;\n",
       "    }\n",
       "\n",
       "    .dataframe tbody tr th {\n",
       "        vertical-align: top;\n",
       "    }\n",
       "\n",
       "    .dataframe thead th {\n",
       "        text-align: right;\n",
       "    }\n",
       "</style>\n",
       "<table border=\"1\" class=\"dataframe\">\n",
       "  <thead>\n",
       "    <tr style=\"text-align: right;\">\n",
       "      <th></th>\n",
       "      <th>acceleration_score</th>\n",
       "      <th>braking_score</th>\n",
       "      <th>turning_score</th>\n",
       "      <th>weaving_score</th>\n",
       "      <th>drifting_score</th>\n",
       "      <th>speeding_score</th>\n",
       "      <th>follow_score</th>\n",
       "      <th>road_type</th>\n",
       "      <th>class_normal</th>\n",
       "      <th>temp_F</th>\n",
       "      <th>humidity_pct</th>\n",
       "      <th>wind_speed_mph</th>\n",
       "      <th>wind_gust_mph</th>\n",
       "      <th>condition</th>\n",
       "      <th>day_night</th>\n",
       "      <th>speed_mph</th>\n",
       "      <th>class_normal_bool</th>\n",
       "    </tr>\n",
       "  </thead>\n",
       "  <tbody>\n",
       "    <tr>\n",
       "      <th>0</th>\n",
       "      <td>100.0</td>\n",
       "      <td>100.0</td>\n",
       "      <td>100.0</td>\n",
       "      <td>100.0</td>\n",
       "      <td>100.0</td>\n",
       "      <td>100.0</td>\n",
       "      <td>100.0</td>\n",
       "      <td>SECONDARY</td>\n",
       "      <td>NORMAL</td>\n",
       "      <td>72</td>\n",
       "      <td>35</td>\n",
       "      <td>2</td>\n",
       "      <td>0</td>\n",
       "      <td>Fair</td>\n",
       "      <td>Night</td>\n",
       "      <td>38.955226</td>\n",
       "      <td>0</td>\n",
       "    </tr>\n",
       "    <tr>\n",
       "      <th>1</th>\n",
       "      <td>100.0</td>\n",
       "      <td>100.0</td>\n",
       "      <td>100.0</td>\n",
       "      <td>100.0</td>\n",
       "      <td>100.0</td>\n",
       "      <td>100.0</td>\n",
       "      <td>100.0</td>\n",
       "      <td>SECONDARY</td>\n",
       "      <td>NORMAL</td>\n",
       "      <td>72</td>\n",
       "      <td>35</td>\n",
       "      <td>2</td>\n",
       "      <td>0</td>\n",
       "      <td>Fair</td>\n",
       "      <td>Night</td>\n",
       "      <td>40.099995</td>\n",
       "      <td>0</td>\n",
       "    </tr>\n",
       "    <tr>\n",
       "      <th>2</th>\n",
       "      <td>100.0</td>\n",
       "      <td>100.0</td>\n",
       "      <td>100.0</td>\n",
       "      <td>100.0</td>\n",
       "      <td>100.0</td>\n",
       "      <td>100.0</td>\n",
       "      <td>100.0</td>\n",
       "      <td>SECONDARY</td>\n",
       "      <td>NORMAL</td>\n",
       "      <td>72</td>\n",
       "      <td>35</td>\n",
       "      <td>2</td>\n",
       "      <td>0</td>\n",
       "      <td>Fair</td>\n",
       "      <td>Night</td>\n",
       "      <td>40.018755</td>\n",
       "      <td>0</td>\n",
       "    </tr>\n",
       "    <tr>\n",
       "      <th>3</th>\n",
       "      <td>100.0</td>\n",
       "      <td>100.0</td>\n",
       "      <td>100.0</td>\n",
       "      <td>100.0</td>\n",
       "      <td>100.0</td>\n",
       "      <td>100.0</td>\n",
       "      <td>100.0</td>\n",
       "      <td>SECONDARY</td>\n",
       "      <td>NORMAL</td>\n",
       "      <td>72</td>\n",
       "      <td>35</td>\n",
       "      <td>2</td>\n",
       "      <td>0</td>\n",
       "      <td>Fair</td>\n",
       "      <td>Night</td>\n",
       "      <td>38.811020</td>\n",
       "      <td>0</td>\n",
       "    </tr>\n",
       "    <tr>\n",
       "      <th>4</th>\n",
       "      <td>100.0</td>\n",
       "      <td>100.0</td>\n",
       "      <td>100.0</td>\n",
       "      <td>100.0</td>\n",
       "      <td>100.0</td>\n",
       "      <td>100.0</td>\n",
       "      <td>100.0</td>\n",
       "      <td>SECONDARY</td>\n",
       "      <td>NORMAL</td>\n",
       "      <td>72</td>\n",
       "      <td>35</td>\n",
       "      <td>2</td>\n",
       "      <td>0</td>\n",
       "      <td>Fair</td>\n",
       "      <td>Night</td>\n",
       "      <td>37.524521</td>\n",
       "      <td>0</td>\n",
       "    </tr>\n",
       "  </tbody>\n",
       "</table>\n",
       "</div>"
      ],
      "text/plain": [
       "   acceleration_score  braking_score  turning_score  weaving_score  \\\n",
       "0               100.0          100.0          100.0          100.0   \n",
       "1               100.0          100.0          100.0          100.0   \n",
       "2               100.0          100.0          100.0          100.0   \n",
       "3               100.0          100.0          100.0          100.0   \n",
       "4               100.0          100.0          100.0          100.0   \n",
       "\n",
       "   drifting_score  speeding_score  follow_score  road_type class_normal  \\\n",
       "0           100.0           100.0         100.0  SECONDARY       NORMAL   \n",
       "1           100.0           100.0         100.0  SECONDARY       NORMAL   \n",
       "2           100.0           100.0         100.0  SECONDARY       NORMAL   \n",
       "3           100.0           100.0         100.0  SECONDARY       NORMAL   \n",
       "4           100.0           100.0         100.0  SECONDARY       NORMAL   \n",
       "\n",
       "   temp_F  humidity_pct  wind_speed_mph  wind_gust_mph condition day_night  \\\n",
       "0      72            35               2              0      Fair     Night   \n",
       "1      72            35               2              0      Fair     Night   \n",
       "2      72            35               2              0      Fair     Night   \n",
       "3      72            35               2              0      Fair     Night   \n",
       "4      72            35               2              0      Fair     Night   \n",
       "\n",
       "   speed_mph  class_normal_bool  \n",
       "0  38.955226                  0  \n",
       "1  40.099995                  0  \n",
       "2  40.018755                  0  \n",
       "3  38.811020                  0  \n",
       "4  37.524521                  0  "
      ]
     },
     "execution_count": 158,
     "metadata": {},
     "output_type": "execute_result"
    }
   ],
   "source": [
    "df = pd.read_csv('UAH-DRIVESET-classification.csv', index_col=0)\n",
    "df.head()"
   ]
  },
  {
   "cell_type": "code",
   "execution_count": 159,
   "id": "e9571ca9",
   "metadata": {},
   "outputs": [],
   "source": [
    "df['road_type_dummy'] = pd.get_dummies(df['road_type'], drop_first=True)\n"
   ]
  },
  {
   "cell_type": "code",
   "execution_count": 160,
   "id": "b8a21e45",
   "metadata": {},
   "outputs": [],
   "source": [
    "df['night_dummy'] = pd.get_dummies(df['day_night'], drop_first=True)\n"
   ]
  },
  {
   "cell_type": "markdown",
   "id": "84e40031",
   "metadata": {},
   "source": [
    "# Sub-sample the data for base models, select features"
   ]
  },
  {
   "cell_type": "code",
   "execution_count": 161,
   "id": "c9db16dd",
   "metadata": {},
   "outputs": [],
   "source": [
    "df_sub = df.sample(n=15000, random_state=42)\n"
   ]
  },
  {
   "cell_type": "code",
   "execution_count": 162,
   "id": "fb1786e3",
   "metadata": {},
   "outputs": [],
   "source": [
    "X = df_sub[['acceleration_score', 'braking_score', 'speeding_score']]\n",
    "y = df_sub['class_normal_bool']\n"
   ]
  },
  {
   "cell_type": "code",
   "execution_count": 163,
   "id": "a8847280",
   "metadata": {},
   "outputs": [],
   "source": [
    "X_train, X_test, y_train, y_test = train_test_split(X, y, test_size=0.2, random_state=42)\n",
    "X_train, X_val, y_train, y_val = train_test_split(X_train, y_train, test_size=0.25, random_state=42)\n"
   ]
  },
  {
   "cell_type": "code",
   "execution_count": 164,
   "id": "b5ab7ff7",
   "metadata": {},
   "outputs": [
    {
     "data": {
      "text/plain": [
       "((9000, 3), (9000,))"
      ]
     },
     "execution_count": 164,
     "metadata": {},
     "output_type": "execute_result"
    }
   ],
   "source": [
    "X_train.shape, y_train.shape"
   ]
  },
  {
   "cell_type": "code",
   "execution_count": 197,
   "id": "c703686f",
   "metadata": {},
   "outputs": [],
   "source": [
    "fbeta_scorer = make_scorer(fbeta_score, beta=2)"
   ]
  },
  {
   "cell_type": "markdown",
   "id": "6535fc43",
   "metadata": {},
   "source": [
    "# KNN"
   ]
  },
  {
   "cell_type": "code",
   "execution_count": 198,
   "id": "848ef5c0",
   "metadata": {},
   "outputs": [],
   "source": [
    "k_range = list(range(3, 150, 2))\n",
    "weight_options = ['uniform', 'distance']\n",
    "\n",
    "param_grid = dict(n_neighbors=k_range, weights=weight_options)\n",
    "\n",
    "knn = KNeighborsClassifier()\n",
    "grid = GridSearchCV(knn, param_grid, cv=10, scoring=fbeta_scorer, n_jobs=-1)\n",
    "\n",
    "grid.fit(X_train, y_train)\n",
    "\n",
    "df_cv = pd.DataFrame(grid.cv_results_)\n"
   ]
  },
  {
   "cell_type": "code",
   "execution_count": 199,
   "id": "09018c4e",
   "metadata": {},
   "outputs": [
    {
     "data": {
      "image/png": "[encoded data removed]",
      "text/plain": [
       "<Figure size 432x288 with 1 Axes>"
      ]
     },
     "metadata": {
      "needs_background": "light"
     },
     "output_type": "display_data"
    }
   ],
   "source": [
    "plt.scatter(df_cv[df_cv.param_weights == 'uniform'].param_n_neighbors, df_cv[df_cv.param_weights == 'uniform'].mean_test_score, label='uniform')\n",
    "plt.scatter(df_cv[df_cv.param_weights == 'distance'].param_n_neighbors, df_cv[df_cv.param_weights == 'distance'].mean_test_score, label='distance weighted')\n",
    "\n",
    "plt.xlabel('Value of K for KNN')\n",
    "plt.ylabel('Cross-Validated F3')\n",
    "\n",
    "plt.legend();\n"
   ]
  },
  {
   "cell_type": "code",
   "execution_count": 200,
   "id": "9ce97ec1",
   "metadata": {},
   "outputs": [
    {
     "name": "stdout",
     "output_type": "stream",
     "text": [
      "Best params:  {'n_neighbors': 75, 'weights': 'distance'}\n",
      "Best estimator:  KNeighborsClassifier(n_neighbors=75, weights='distance')\n",
      "Best score:  0.9198228779308819\n"
     ]
    }
   ],
   "source": [
    "print(\"Best params: \", grid.best_params_)\n",
    "print(\"Best estimator: \", grid.best_estimator_)\n",
    "print(\"Best score: \", grid.best_score_)\n"
   ]
  },
  {
   "cell_type": "markdown",
   "id": "995eeeef",
   "metadata": {},
   "source": [
    "# Logit"
   ]
  },
  {
   "cell_type": "markdown",
   "id": "2c1bae4e",
   "metadata": {},
   "source": [
    "Cross-val logit"
   ]
  },
  {
   "cell_type": "code",
   "execution_count": 201,
   "id": "328bf1f6",
   "metadata": {},
   "outputs": [],
   "source": [
    "std_scale = StandardScaler()\n",
    "\n",
    "X_train_scaled = std_scale.fit_transform(X_train)\n",
    "X_val_scaled = std_scale.transform(X_val)\n",
    "X_test_scaled = std_scale.transform(X_test)\n"
   ]
  },
  {
   "cell_type": "code",
   "execution_count": 202,
   "id": "2abc6b33",
   "metadata": {},
   "outputs": [],
   "source": [
    "C_range = list(np.logspace(-4, 2, 200))\n",
    "\n",
    "param_grid = dict(C=C_range)\n",
    "\n",
    "lr = LogisticRegression()\n",
    "grid = GridSearchCV(lr, param_grid, cv=10, scoring=fbeta_scorer, n_jobs=-1)\n",
    "\n",
    "grid.fit(X_train_scaled, y_train)\n",
    "\n",
    "df_cv = pd.DataFrame(grid.cv_results_)\n"
   ]
  },
  {
   "cell_type": "code",
   "execution_count": 203,
   "id": "148f00f6",
   "metadata": {},
   "outputs": [
    {
     "data": {
      "image/png": "[encoded data removed]",
      "text/plain": [
       "<Figure size 432x288 with 1 Axes>"
      ]
     },
     "metadata": {
      "needs_background": "light"
     },
     "output_type": "display_data"
    }
   ],
   "source": [
    "plt.scatter(df_cv.param_C, df_cv.mean_test_score, label='l1 penalty')\n",
    "\n",
    "plt.xlabel('Value of C for Logit')\n",
    "plt.ylabel('Cross-Validated F1')\n",
    "\n",
    "plt.xscale('log')\n",
    "plt.legend();\n"
   ]
  },
  {
   "cell_type": "code",
   "execution_count": 204,
   "id": "0668f3e5",
   "metadata": {},
   "outputs": [
    {
     "name": "stdout",
     "output_type": "stream",
     "text": [
      "Best params:  {'C': 0.0001}\n",
      "Best estimator:  LogisticRegression(C=0.0001)\n",
      "Best score:  0.8735946459635333\n"
     ]
    }
   ],
   "source": [
    "print(\"Best params: \", grid.best_params_)\n",
    "print(\"Best estimator: \", grid.best_estimator_)\n",
    "print(\"Best score: \", grid.best_score_)\n"
   ]
  },
  {
   "cell_type": "markdown",
   "id": "026139f5",
   "metadata": {},
   "source": [
    "# Decision Tree"
   ]
  },
  {
   "cell_type": "code",
   "execution_count": 205,
   "id": "478af41b",
   "metadata": {},
   "outputs": [
    {
     "name": "stderr",
     "output_type": "stream",
     "text": [
      "/Users/Hannah/anaconda/envs/metis/lib/python3.8/site-packages/sklearn/model_selection/_search.py:922: UserWarning: One or more of the test scores are non-finite: [       nan 0.57142833 0.57142833 ... 0.92576469 0.92584889 0.92627762]\n",
      "  warnings.warn(\n"
     ]
    }
   ],
   "source": [
    "max_depth_range = list(range(1,20))\n",
    "criterion_options = ['entropy', 'gini']\n",
    "min_samples_split_range = list(range(1,10))\n",
    "min_samples_leaf_range = list(range(1,5))\n",
    "\n",
    "param_grid = dict(max_depth=max_depth_range, criterion=criterion_options,\n",
    "                  min_samples_split=min_samples_split_range, min_samples_leaf=min_samples_leaf_range)\n",
    "\n",
    "decisiontree = DecisionTreeClassifier()\n",
    "grid = GridSearchCV(decisiontree, param_grid, cv=10, scoring=fbeta_scorer, n_jobs=-1)\n",
    "\n",
    "grid.fit(X_train, y_train)\n",
    "\n",
    "df_cv = pd.DataFrame(grid.cv_results_)\n"
   ]
  },
  {
   "cell_type": "code",
   "execution_count": 206,
   "id": "0b5189b0",
   "metadata": {},
   "outputs": [
    {
     "data": {
      "image/png": "[encoded data removed]",
      "text/plain": [
       "<Figure size 432x288 with 1 Axes>"
      ]
     },
     "metadata": {
      "needs_background": "light"
     },
     "output_type": "display_data"
    }
   ],
   "source": [
    "plt.scatter(df_cv[df_cv.param_criterion == 'entropy'].param_max_depth, df_cv[df_cv.param_criterion == 'entropy'].mean_test_score, label='entropy')\n",
    "plt.scatter(df_cv[df_cv.param_criterion == 'gini'].param_max_depth, df_cv[df_cv.param_criterion == 'gini'].mean_test_score, label='gini')\n",
    "\n",
    "plt.xlabel('Value of max depth for DT')\n",
    "plt.ylabel('Cross-Validated F1')\n",
    "\n",
    "plt.legend();\n"
   ]
  },
  {
   "cell_type": "code",
   "execution_count": 207,
   "id": "1a291be8",
   "metadata": {},
   "outputs": [
    {
     "name": "stdout",
     "output_type": "stream",
     "text": [
      "Best params:  {'criterion': 'gini', 'max_depth': 11, 'min_samples_leaf': 3, 'min_samples_split': 7}\n",
      "Best estimator:  DecisionTreeClassifier(max_depth=11, min_samples_leaf=3, min_samples_split=7)\n",
      "Best score:  0.9371781032249448\n"
     ]
    }
   ],
   "source": [
    "print(\"Best params: \", grid.best_params_)\n",
    "print(\"Best estimator: \", grid.best_estimator_)\n",
    "print(\"Best score: \", grid.best_score_)\n"
   ]
  },
  {
   "cell_type": "markdown",
   "id": "e95f8ff5",
   "metadata": {},
   "source": [
    "# Random Forest"
   ]
  },
  {
   "cell_type": "code",
   "execution_count": 208,
   "id": "4e3338fc",
   "metadata": {},
   "outputs": [],
   "source": [
    "max_features_options = ['auto', 'sqrt', 'log2']\n",
    "max_depth_range = list(range(5,10))\n",
    "criterion_options = ['entropy', 'gini']\n",
    "\n",
    "param_grid = dict(#n_estimators=n_estimators_range, \n",
    "                  max_features=max_features_options,\n",
    "                  max_depth=max_depth_range, criterion=criterion_options)\n",
    "\n",
    "randomforest = RandomForestClassifier(n_estimators=100)\n",
    "grid = GridSearchCV(randomforest, param_grid, cv=10, scoring=fbeta_scorer, n_jobs=-1)\n",
    "\n",
    "grid.fit(X_train, y_train)\n",
    "\n",
    "df_cv = pd.DataFrame(grid.cv_results_)\n"
   ]
  },
  {
   "cell_type": "code",
   "execution_count": 209,
   "id": "b5255f44",
   "metadata": {},
   "outputs": [
    {
     "data": {
      "image/png": "[encoded data removed]",
      "text/plain": [
       "<Figure size 432x288 with 2 Axes>"
      ]
     },
     "metadata": {
      "needs_background": "light"
     },
     "output_type": "display_data"
    }
   ],
   "source": [
    "plt.scatter(df_cv[df_cv.param_criterion == 'entropy'].param_max_depth, df_cv[df_cv.param_criterion == 'entropy'].mean_test_score, label='entropy')\n",
    "plt.scatter(df_cv[df_cv.param_criterion == 'gini'].param_max_depth, df_cv[df_cv.param_criterion == 'gini'].mean_test_score, label='gini')\n",
    "\n",
    "plt.xlabel('Value of max depth for RF')\n",
    "plt.ylabel('Cross-Validated F1')\n",
    "\n",
    "plt.colorbar()\n",
    "plt.legend();\n"
   ]
  },
  {
   "cell_type": "code",
   "execution_count": 210,
   "id": "5580a00f",
   "metadata": {},
   "outputs": [
    {
     "name": "stdout",
     "output_type": "stream",
     "text": [
      "Best params:  {'criterion': 'gini', 'max_depth': 9, 'max_features': 'sqrt'}\n",
      "Best estimator:  RandomForestClassifier(max_depth=9, max_features='sqrt')\n",
      "Best score:  0.9166276774409635\n"
     ]
    }
   ],
   "source": [
    "print(\"Best params: \", grid.best_params_)\n",
    "print(\"Best estimator: \", grid.best_estimator_)\n",
    "print(\"Best score: \", grid.best_score_)\n"
   ]
  },
  {
   "cell_type": "markdown",
   "id": "efa90781",
   "metadata": {},
   "source": [
    "**Notes:**\n",
    "\n",
    "- Used 3 features: acceleration, braking, speeding\n",
    "- Logistic Regression (F1 score < 0.8) does not perform as well as the other models (all have F1 scores > 0.9)\n",
    "    - Likely non-linear decision boundary required for classification\n",
    "    - Decision tree/ensemble models will perform better\n",
    "- Drop Logistic Regression from further consideration"
   ]
  },
  {
   "cell_type": "markdown",
   "id": "ccf47c20",
   "metadata": {},
   "source": [
    "# Add more features"
   ]
  },
  {
   "cell_type": "code",
   "execution_count": 211,
   "id": "bba2e6ad",
   "metadata": {},
   "outputs": [
    {
     "data": {
      "text/plain": [
       "Index(['acceleration_score', 'braking_score', 'turning_score', 'weaving_score',\n",
       "       'drifting_score', 'speeding_score', 'follow_score', 'road_type',\n",
       "       'class_normal', 'temp_F', 'humidity_pct', 'wind_speed_mph',\n",
       "       'wind_gust_mph', 'condition', 'day_night', 'speed_mph',\n",
       "       'class_normal_bool', 'road_type_dummy', 'night_dummy'],\n",
       "      dtype='object')"
      ]
     },
     "execution_count": 211,
     "metadata": {},
     "output_type": "execute_result"
    }
   ],
   "source": [
    "df_sub.columns"
   ]
  },
  {
   "cell_type": "code",
   "execution_count": 212,
   "id": "d8e979f4",
   "metadata": {},
   "outputs": [],
   "source": [
    "X = df_sub[['acceleration_score', 'braking_score', 'turning_score', 'weaving_score',\n",
    "       'drifting_score', 'speeding_score', 'follow_score', 'night_dummy']]\n",
    "y = df_sub['class_normal_bool']\n",
    "\n",
    "X_train, X_test, y_train, y_test = train_test_split(X, y, test_size=0.2, random_state=42)\n",
    "X_train, X_val, y_train, y_val = train_test_split(X_train, y_train, test_size=0.25, random_state=42)\n"
   ]
  },
  {
   "cell_type": "markdown",
   "id": "504a7954",
   "metadata": {},
   "source": [
    "# KNN (with more features)"
   ]
  },
  {
   "cell_type": "code",
   "execution_count": 213,
   "id": "0140712c",
   "metadata": {},
   "outputs": [],
   "source": [
    "k_range = list(range(3, 100, 2))\n",
    "\n",
    "param_grid = dict(n_neighbors=k_range)\n",
    "\n",
    "knn = KNeighborsClassifier(weights='distance')\n",
    "knn_grid = GridSearchCV(knn, param_grid, cv=10, scoring=fbeta_scorer, n_jobs=-1)\n",
    "\n",
    "knn_grid.fit(X_train, y_train)\n",
    "\n",
    "df_cv_knn = pd.DataFrame(knn_grid.cv_results_)\n"
   ]
  },
  {
   "cell_type": "code",
   "execution_count": 214,
   "id": "8a4c852c",
   "metadata": {},
   "outputs": [
    {
     "data": {
      "image/png": "[encoded data removed]",
      "text/plain": [
       "<Figure size 432x288 with 1 Axes>"
      ]
     },
     "metadata": {
      "needs_background": "light"
     },
     "output_type": "display_data"
    }
   ],
   "source": [
    "plt.scatter(df_cv_knn.param_n_neighbors, df_cv_knn.mean_test_score, label='distance weighted')\n",
    "\n",
    "plt.xlabel('Value of K for KNN')\n",
    "plt.ylabel('Cross-Validated F1')\n",
    "\n",
    "plt.legend();\n"
   ]
  },
  {
   "cell_type": "code",
   "execution_count": 215,
   "id": "87c5a939",
   "metadata": {},
   "outputs": [
    {
     "name": "stdout",
     "output_type": "stream",
     "text": [
      "Best params:  {'n_neighbors': 3}\n",
      "Best estimator:  KNeighborsClassifier(n_neighbors=3, weights='distance')\n",
      "Best score:  0.9848534921827513\n"
     ]
    }
   ],
   "source": [
    "print(\"Best params: \", knn_grid.best_params_)\n",
    "print(\"Best estimator: \", knn_grid.best_estimator_)\n",
    "print(\"Best score: \", knn_grid.best_score_)\n"
   ]
  },
  {
   "cell_type": "code",
   "execution_count": 233,
   "id": "056ebad8",
   "metadata": {},
   "outputs": [
    {
     "name": "stdout",
     "output_type": "stream",
     "text": [
      "Accuracy:\t 0.9797\n",
      "Precision:\t 0.9901\n",
      "Recall:\t\t 0.9749\n",
      "F1:\t\t 0.9824\n",
      "Fbeta (beta=2):\t 0.9779\n",
      "AUC:\t\t 0.9806\n"
     ]
    }
   ],
   "source": [
    "knn = KNeighborsClassifier(n_neighbors=knn_grid.best_params_['n_neighbors'], weights='distance')\n",
    "knn.fit(X_train, y_train)\n",
    "\n",
    "y_knn_pred = knn.predict(X_val)\n",
    "y_knn_pred_prob = knn.predict_proba(X_val)[:, 1]\n",
    "\n",
    "print(f'Accuracy:\\t {accuracy_score(y_val, y_knn_pred):.4f}')\n",
    "print(f'Precision:\\t {precision_score(y_val, y_knn_pred):.4f}')\n",
    "print(f'Recall:\\t\\t {recall_score(y_val, y_knn_pred):.4f}')\n",
    "print(f'F1:\\t\\t {f1_score(y_val, y_knn_pred):.4f}')\n",
    "print(f'Fbeta (beta=2):\\t {fbeta_score(y_val, y_knn_pred, beta=2):.4f}')\n",
    "print(f'AUC:\\t\\t {roc_auc_score(y_val, y_knn_pred):.4f}')\n"
   ]
  },
  {
   "cell_type": "code",
   "execution_count": 230,
   "id": "9e75d69e",
   "metadata": {},
   "outputs": [
    {
     "data": {
      "image/png": "[encoded data removed]",
      "text/plain": [
       "<Figure size 432x288 with 1 Axes>"
      ]
     },
     "metadata": {
      "needs_background": "light"
     },
     "output_type": "display_data"
    }
   ],
   "source": [
    "base_fpr, base_tpr, _ = roc_curve(y_val, [1 for _ in range(len(y_val))])\n",
    "model_fpr, model_tpr, _ = roc_curve(y_val, y_knn_pred_prob)\n",
    "\n",
    "plt.plot(base_fpr, base_tpr, 'b', label = 'baseline')\n",
    "plt.plot(model_fpr, model_tpr, 'r', label = 'KNN model')\n",
    "plt.legend();\n",
    "plt.xlabel('False Positive Rate'); \n",
    "plt.ylabel('True Positive Rate'); plt.title('ROC Curves');\n"
   ]
  },
  {
   "cell_type": "markdown",
   "id": "fce8d19e",
   "metadata": {},
   "source": [
    "# Decision Tree (with more features)"
   ]
  },
  {
   "cell_type": "code",
   "execution_count": 218,
   "id": "f4a57769",
   "metadata": {},
   "outputs": [],
   "source": [
    "max_depth_range = list(range(5,20))\n",
    "criterion_options = ['entropy', 'gini']\n",
    "min_samples_split_range = list(range(2,10))\n",
    "min_samples_leaf_range = list(range(1,5))\n",
    "\n",
    "param_grid = dict(max_depth=max_depth_range, criterion=criterion_options,\n",
    "                  min_samples_split=min_samples_split_range, min_samples_leaf=min_samples_leaf_range)\n",
    "\n",
    "decisiontree = DecisionTreeClassifier()\n",
    "dt_grid = GridSearchCV(decisiontree, param_grid, cv=10, scoring=fbeta_scorer, n_jobs=-1)\n",
    "\n",
    "dt_grid.fit(X_train, y_train)\n",
    "\n",
    "df_cv_dt = pd.DataFrame(dt_grid.cv_results_)\n"
   ]
  },
  {
   "cell_type": "code",
   "execution_count": 219,
   "id": "590e50e1",
   "metadata": {},
   "outputs": [
    {
     "data": {
      "image/png": "[encoded data removed]",
      "text/plain": [
       "<Figure size 432x288 with 1 Axes>"
      ]
     },
     "metadata": {
      "needs_background": "light"
     },
     "output_type": "display_data"
    }
   ],
   "source": [
    "plt.scatter(df_cv_dt[df_cv_dt.param_criterion == 'entropy'].param_max_depth, df_cv_dt[df_cv_dt.param_criterion == 'entropy'].mean_test_score, label='entropy')\n",
    "plt.scatter(df_cv_dt[df_cv_dt.param_criterion == 'gini'].param_max_depth, df_cv_dt[df_cv_dt.param_criterion == 'gini'].mean_test_score, label='gini')\n",
    "\n",
    "plt.xlabel('Value of max depth for DT')\n",
    "plt.ylabel('Cross-Validated F1')\n",
    "\n",
    "plt.legend();\n"
   ]
  },
  {
   "cell_type": "code",
   "execution_count": 220,
   "id": "f6d5c5c8",
   "metadata": {},
   "outputs": [
    {
     "name": "stdout",
     "output_type": "stream",
     "text": [
      "Best params:  {'criterion': 'entropy', 'max_depth': 19, 'min_samples_leaf': 1, 'min_samples_split': 2}\n",
      "Best estimator:  DecisionTreeClassifier(criterion='entropy', max_depth=19)\n",
      "Best score:  0.9858089695728449\n"
     ]
    }
   ],
   "source": [
    "print(\"Best params: \", dt_grid.best_params_)\n",
    "print(\"Best estimator: \", dt_grid.best_estimator_)\n",
    "print(\"Best score: \", dt_grid.best_score_)\n"
   ]
  },
  {
   "cell_type": "code",
   "execution_count": 234,
   "id": "e2541f58",
   "metadata": {},
   "outputs": [
    {
     "name": "stdout",
     "output_type": "stream",
     "text": [
      "Accuracy:\t 0.9837\n",
      "Precision:\t 0.9919\n",
      "Recall:\t\t 0.9800\n",
      "F1:\t\t 0.9859\n",
      "Fbeta (beta=2):\t 0.9824\n",
      "AUC:\t\t 0.9844\n"
     ]
    }
   ],
   "source": [
    "dt = DecisionTreeClassifier(criterion=dt_grid.best_params_['criterion'], max_depth=dt_grid.best_params_['max_depth'], min_samples_leaf=dt_grid.best_params_['min_samples_leaf'], min_samples_split=dt_grid.best_params_['min_samples_split'])\n",
    "dt.fit(X_train, y_train)\n",
    "\n",
    "y_dt_pred = dt.predict(X_val)\n",
    "y_dt_pred_prob = dt.predict_proba(X_val)[:, 1]\n",
    "\n",
    "\n",
    "print(f'Accuracy:\\t {accuracy_score(y_val, y_dt_pred):.4f}')\n",
    "print(f'Precision:\\t {precision_score(y_val, y_dt_pred):.4f}')\n",
    "print(f'Recall:\\t\\t {recall_score(y_val, y_dt_pred):.4f}')\n",
    "print(f'F1:\\t\\t {f1_score(y_val, y_dt_pred):.4f}')\n",
    "print(f'Fbeta (beta=2):\\t {fbeta_score(y_val, y_dt_pred, beta=2):.4f}')\n",
    "print(f'AUC:\\t\\t {roc_auc_score(y_val, y_dt_pred):.4f}')\n"
   ]
  },
  {
   "cell_type": "code",
   "execution_count": 232,
   "id": "8a554bfc",
   "metadata": {},
   "outputs": [
    {
     "data": {
      "image/png": "[encoded data removed]",
      "text/plain": [
       "<Figure size 432x288 with 1 Axes>"
      ]
     },
     "metadata": {
      "needs_background": "light"
     },
     "output_type": "display_data"
    }
   ],
   "source": [
    "base_fpr, base_tpr, _ = roc_curve(y_val, [1 for _ in range(len(y_val))])\n",
    "model_fpr, model_tpr, _ = roc_curve(y_val, y_dt_pred_prob)\n",
    "\n",
    "plt.plot(base_fpr, base_tpr, 'b', label = 'baseline')\n",
    "plt.plot(model_fpr, model_tpr, 'r', label = 'DT model')\n",
    "plt.legend();\n",
    "plt.xlabel('False Positive Rate'); \n",
    "plt.ylabel('True Positive Rate'); plt.title('ROC Curves');\n",
    "plt.show();\n"
   ]
  },
  {
   "cell_type": "markdown",
   "id": "b6274f05",
   "metadata": {},
   "source": [
    "# Random Forest (with more features)"
   ]
  },
  {
   "cell_type": "code",
   "execution_count": 223,
   "id": "a56d3bef",
   "metadata": {},
   "outputs": [],
   "source": [
    "max_features_options = ['auto', 'sqrt', 'log2']\n",
    "max_depth_range = list(range(6,16))\n",
    "criterion_options = ['entropy', 'gini']\n",
    "\n",
    "param_grid = dict(max_features=max_features_options,\n",
    "                  max_depth=max_depth_range, criterion=criterion_options)\n",
    "\n",
    "randomforest = RandomForestClassifier(n_estimators=100)\n",
    "rf_grid = GridSearchCV(randomforest, param_grid, cv=10, scoring=fbeta_scorer, n_jobs=-1)\n",
    "\n",
    "rf_grid.fit(X_train, y_train)\n",
    "\n",
    "df_cv_rf = pd.DataFrame(rf_grid.cv_results_)\n"
   ]
  },
  {
   "cell_type": "code",
   "execution_count": 224,
   "id": "ce2b957d",
   "metadata": {},
   "outputs": [
    {
     "data": {
      "image/png": "[encoded data removed]",
      "text/plain": [
       "<Figure size 432x288 with 2 Axes>"
      ]
     },
     "metadata": {
      "needs_background": "light"
     },
     "output_type": "display_data"
    }
   ],
   "source": [
    "plt.scatter(df_cv_rf[df_cv_rf.param_criterion == 'entropy'].param_max_depth, df_cv_rf[df_cv_rf.param_criterion == 'entropy'].mean_test_score, label='entropy')\n",
    "plt.scatter(df_cv_rf[df_cv_rf.param_criterion == 'gini'].param_max_depth, df_cv_rf[df_cv_rf.param_criterion == 'gini'].mean_test_score, label='gini')\n",
    "plt.xlabel('Value of max depth for RF')\n",
    "plt.ylabel('Cross-Validated F1')\n",
    "\n",
    "plt.yscale('log')\n",
    "plt.colorbar()\n",
    "plt.legend();\n"
   ]
  },
  {
   "cell_type": "code",
   "execution_count": 225,
   "id": "44cc1cb0",
   "metadata": {},
   "outputs": [
    {
     "name": "stdout",
     "output_type": "stream",
     "text": [
      "Best params:  {'criterion': 'entropy', 'max_depth': 15, 'max_features': 'sqrt'}\n",
      "Best estimator:  RandomForestClassifier(criterion='entropy', max_depth=15, max_features='sqrt')\n",
      "Best score:  0.9881826615326442\n"
     ]
    }
   ],
   "source": [
    "print(\"Best params: \", rf_grid.best_params_)\n",
    "print(\"Best estimator: \", rf_grid.best_estimator_)\n",
    "print(\"Best score: \", rf_grid.best_score_)\n"
   ]
  },
  {
   "cell_type": "code",
   "execution_count": 235,
   "id": "898f4762",
   "metadata": {},
   "outputs": [
    {
     "name": "stdout",
     "output_type": "stream",
     "text": [
      "Accuracy:\t 0.9857\n",
      "Precision:\t 0.9948\n",
      "Recall:\t\t 0.9806\n",
      "F1:\t\t 0.9876\n",
      "Fbeta (beta=2):\t 0.9834\n",
      "AUC:\t\t 0.9867\n"
     ]
    }
   ],
   "source": [
    "rf = RandomForestClassifier(n_estimators=100, criterion=rf_grid.best_params_['criterion'], max_depth=rf_grid.best_params_['max_depth'], max_features=rf_grid.best_params_['max_features'])\n",
    "rf.fit(X_train, y_train)\n",
    "\n",
    "y_rf_pred = rf.predict(X_val)\n",
    "y_rf_pred_prob = rf.predict_proba(X_val)[:, 1]\n",
    "\n",
    "print(f'Accuracy:\\t {accuracy_score(y_val, y_rf_pred):.4f}')\n",
    "print(f'Precision:\\t {precision_score(y_val, y_rf_pred):.4f}')\n",
    "print(f'Recall:\\t\\t {recall_score(y_val, y_rf_pred):.4f}')\n",
    "print(f'F1:\\t\\t {f1_score(y_val, y_rf_pred):.4f}')\n",
    "print(f'Fbeta (beta=2):\\t {fbeta_score(y_val, y_rf_pred, beta=2):.4f}')\n",
    "print(f'AUC:\\t\\t {roc_auc_score(y_val, y_rf_pred):.4f}')\n"
   ]
  },
  {
   "cell_type": "code",
   "execution_count": 236,
   "id": "d75b2ef5",
   "metadata": {},
   "outputs": [
    {
     "data": {
      "image/png": "[encoded data removed]",
      "text/plain": [
       "<Figure size 432x288 with 1 Axes>"
      ]
     },
     "metadata": {
      "needs_background": "light"
     },
     "output_type": "display_data"
    }
   ],
   "source": [
    "base_fpr, base_tpr, _ = roc_curve(y_val, [1 for _ in range(len(y_val))])\n",
    "model_fpr, model_tpr, _ = roc_curve(y_val, y_rf_pred_prob)\n",
    "\n",
    "plt.plot(base_fpr, base_tpr, 'b', label = 'baseline')\n",
    "plt.plot(model_fpr, model_tpr, 'r', label = 'DT model')\n",
    "plt.legend();\n",
    "plt.xlabel('False Positive Rate'); \n",
    "plt.ylabel('True Positive Rate'); plt.title('ROC Curves');\n",
    "plt.show();\n"
   ]
  },
  {
   "cell_type": "code",
   "execution_count": 242,
   "id": "e3f6f429",
   "metadata": {},
   "outputs": [
    {
     "data": {
      "image/png": "[encoded data removed]",
      "text/plain": [
       "<Figure size 432x288 with 1 Axes>"
      ]
     },
     "metadata": {
      "needs_background": "light"
     },
     "output_type": "display_data"
    }
   ],
   "source": [
    "labels = ['KNN', 'DT', 'RF']\n",
    "y_preds = [y_knn_pred, y_dt_pred, y_rf_pred]\n",
    "for i,probs in enumerate([y_knn_pred_prob, y_dt_pred_prob, y_rf_pred_prob]):\n",
    "    base_fpr, base_tpr, _ = roc_curve(y_val, [1 for _ in range(len(y_val))])\n",
    "    model_fpr, model_tpr, _ = roc_curve(y_val, probs)\n",
    "\n",
    "    plt.plot(model_fpr, model_tpr, label = f'{labels[i]} (AUC: {roc_auc_score(y_val, y_preds[i]):.4f})')\n",
    "\n",
    "#plt.plot(base_fpr, base_tpr, 'k', label = 'baseline')\n",
    "\n",
    "plt.xlabel('False Positive Rate', fontsize=12)\n",
    "plt.ylabel('True Positive Rate', fontsize=12)\n",
    "\n",
    "plt.title('ROC Curves', fontsize=14)\n",
    "\n",
    "plt.xlim(-0.01,0.1)\n",
    "plt.ylim(0.90,1.01)\n",
    "\n",
    "plt.legend(fontsize=11)\n",
    "\n",
    "plt.savefig('roc_curves_base.png', dpi=300);\n"
   ]
  },
  {
   "cell_type": "markdown",
   "id": "4b9bfd61",
   "metadata": {},
   "source": [
    "**Notes:**\n",
    "\n",
    "- RF performs slightly better than DT and KNN models\n",
    "- Will also test an XGBoost model on these features"
   ]
  },
  {
   "cell_type": "code",
   "execution_count": null,
   "id": "4d7157e2",
   "metadata": {},
   "outputs": [],
   "source": []
  }
 ],
 "metadata": {
  "kernelspec": {
   "display_name": "Python [conda env:metis] *",
   "language": "python",
   "name": "conda-env-metis-py"
  },
  "language_info": {
   "codemirror_mode": {
    "name": "ipython",
    "version": 3
   },
   "file_extension": ".py",
   "mimetype": "text/x-python",
   "name": "python",
   "nbconvert_exporter": "python",
   "pygments_lexer": "ipython3",
   "version": "3.8.10"
  }
 },
 "nbformat": 4,
 "nbformat_minor": 5
}
