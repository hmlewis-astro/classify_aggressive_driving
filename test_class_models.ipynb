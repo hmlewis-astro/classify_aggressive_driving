{
 "cells": [
  {
   "cell_type": "code",
   "execution_count": 1,
   "id": "0b7f424b",
   "metadata": {},
   "outputs": [],
   "source": [
    "import numpy as np\n",
    "import pandas as pd\n",
    "\n",
    "import matplotlib as mpl\n",
    "import matplotlib.pyplot as plt\n",
    "import seaborn as sns\n",
    "\n",
    "from sklearn.neighbors import KNeighborsClassifier\n",
    "from sklearn.linear_model import LogisticRegression\n",
    "from sklearn.tree import DecisionTreeClassifier\n",
    "from sklearn.ensemble import RandomForestClassifier\n",
    "\n",
    "from sklearn.model_selection import train_test_split, cross_val_score, GridSearchCV, RandomizedSearchCV\n",
    "from sklearn.preprocessing import StandardScaler\n",
    "from sklearn.metrics import make_scorer, confusion_matrix, plot_confusion_matrix, precision_score, recall_score, accuracy_score, f1_score, fbeta_score, roc_curve, roc_auc_score, plot_roc_curve\n"
   ]
  },
  {
   "cell_type": "code",
   "execution_count": 2,
   "id": "cb59e5be",
   "metadata": {},
   "outputs": [
    {
     "data": {
      "text/html": [
       "<div>\n",
       "<style scoped>\n",
       "    .dataframe tbody tr th:only-of-type {\n",
       "        vertical-align: middle;\n",
       "    }\n",
       "\n",
       "    .dataframe tbody tr th {\n",
       "        vertical-align: top;\n",
       "    }\n",
       "\n",
       "    .dataframe thead th {\n",
       "        text-align: right;\n",
       "    }\n",
       "</style>\n",
       "<table border=\"1\" class=\"dataframe\">\n",
       "  <thead>\n",
       "    <tr style=\"text-align: right;\">\n",
       "      <th></th>\n",
       "      <th>acceleration_score</th>\n",
       "      <th>braking_score</th>\n",
       "      <th>turning_score</th>\n",
       "      <th>weaving_score</th>\n",
       "      <th>drifting_score</th>\n",
       "      <th>speeding_score</th>\n",
       "      <th>follow_score</th>\n",
       "      <th>road_type</th>\n",
       "      <th>class_normal</th>\n",
       "      <th>temp_F</th>\n",
       "      <th>humidity_pct</th>\n",
       "      <th>wind_speed_mph</th>\n",
       "      <th>wind_gust_mph</th>\n",
       "      <th>condition</th>\n",
       "      <th>day_night</th>\n",
       "      <th>speed_mph</th>\n",
       "      <th>class_normal_bool</th>\n",
       "    </tr>\n",
       "  </thead>\n",
       "  <tbody>\n",
       "    <tr>\n",
       "      <th>0</th>\n",
       "      <td>100.0</td>\n",
       "      <td>100.0</td>\n",
       "      <td>100.0</td>\n",
       "      <td>100.0</td>\n",
       "      <td>100.0</td>\n",
       "      <td>100.0</td>\n",
       "      <td>100.0</td>\n",
       "      <td>SECONDARY</td>\n",
       "      <td>NORMAL</td>\n",
       "      <td>72</td>\n",
       "      <td>35</td>\n",
       "      <td>2</td>\n",
       "      <td>0</td>\n",
       "      <td>Fair</td>\n",
       "      <td>Night</td>\n",
       "      <td>38.955226</td>\n",
       "      <td>0</td>\n",
       "    </tr>\n",
       "    <tr>\n",
       "      <th>1</th>\n",
       "      <td>100.0</td>\n",
       "      <td>100.0</td>\n",
       "      <td>100.0</td>\n",
       "      <td>100.0</td>\n",
       "      <td>100.0</td>\n",
       "      <td>100.0</td>\n",
       "      <td>100.0</td>\n",
       "      <td>SECONDARY</td>\n",
       "      <td>NORMAL</td>\n",
       "      <td>72</td>\n",
       "      <td>35</td>\n",
       "      <td>2</td>\n",
       "      <td>0</td>\n",
       "      <td>Fair</td>\n",
       "      <td>Night</td>\n",
       "      <td>40.099995</td>\n",
       "      <td>0</td>\n",
       "    </tr>\n",
       "    <tr>\n",
       "      <th>2</th>\n",
       "      <td>100.0</td>\n",
       "      <td>100.0</td>\n",
       "      <td>100.0</td>\n",
       "      <td>100.0</td>\n",
       "      <td>100.0</td>\n",
       "      <td>100.0</td>\n",
       "      <td>100.0</td>\n",
       "      <td>SECONDARY</td>\n",
       "      <td>NORMAL</td>\n",
       "      <td>72</td>\n",
       "      <td>35</td>\n",
       "      <td>2</td>\n",
       "      <td>0</td>\n",
       "      <td>Fair</td>\n",
       "      <td>Night</td>\n",
       "      <td>40.018755</td>\n",
       "      <td>0</td>\n",
       "    </tr>\n",
       "    <tr>\n",
       "      <th>3</th>\n",
       "      <td>100.0</td>\n",
       "      <td>100.0</td>\n",
       "      <td>100.0</td>\n",
       "      <td>100.0</td>\n",
       "      <td>100.0</td>\n",
       "      <td>100.0</td>\n",
       "      <td>100.0</td>\n",
       "      <td>SECONDARY</td>\n",
       "      <td>NORMAL</td>\n",
       "      <td>72</td>\n",
       "      <td>35</td>\n",
       "      <td>2</td>\n",
       "      <td>0</td>\n",
       "      <td>Fair</td>\n",
       "      <td>Night</td>\n",
       "      <td>38.811020</td>\n",
       "      <td>0</td>\n",
       "    </tr>\n",
       "    <tr>\n",
       "      <th>4</th>\n",
       "      <td>100.0</td>\n",
       "      <td>100.0</td>\n",
       "      <td>100.0</td>\n",
       "      <td>100.0</td>\n",
       "      <td>100.0</td>\n",
       "      <td>100.0</td>\n",
       "      <td>100.0</td>\n",
       "      <td>SECONDARY</td>\n",
       "      <td>NORMAL</td>\n",
       "      <td>72</td>\n",
       "      <td>35</td>\n",
       "      <td>2</td>\n",
       "      <td>0</td>\n",
       "      <td>Fair</td>\n",
       "      <td>Night</td>\n",
       "      <td>37.524521</td>\n",
       "      <td>0</td>\n",
       "    </tr>\n",
       "  </tbody>\n",
       "</table>\n",
       "</div>"
      ],
      "text/plain": [
       "   acceleration_score  braking_score  turning_score  weaving_score  \\\n",
       "0               100.0          100.0          100.0          100.0   \n",
       "1               100.0          100.0          100.0          100.0   \n",
       "2               100.0          100.0          100.0          100.0   \n",
       "3               100.0          100.0          100.0          100.0   \n",
       "4               100.0          100.0          100.0          100.0   \n",
       "\n",
       "   drifting_score  speeding_score  follow_score  road_type class_normal  \\\n",
       "0           100.0           100.0         100.0  SECONDARY       NORMAL   \n",
       "1           100.0           100.0         100.0  SECONDARY       NORMAL   \n",
       "2           100.0           100.0         100.0  SECONDARY       NORMAL   \n",
       "3           100.0           100.0         100.0  SECONDARY       NORMAL   \n",
       "4           100.0           100.0         100.0  SECONDARY       NORMAL   \n",
       "\n",
       "   temp_F  humidity_pct  wind_speed_mph  wind_gust_mph condition day_night  \\\n",
       "0      72            35               2              0      Fair     Night   \n",
       "1      72            35               2              0      Fair     Night   \n",
       "2      72            35               2              0      Fair     Night   \n",
       "3      72            35               2              0      Fair     Night   \n",
       "4      72            35               2              0      Fair     Night   \n",
       "\n",
       "   speed_mph  class_normal_bool  \n",
       "0  38.955226                  0  \n",
       "1  40.099995                  0  \n",
       "2  40.018755                  0  \n",
       "3  38.811020                  0  \n",
       "4  37.524521                  0  "
      ]
     },
     "execution_count": 2,
     "metadata": {},
     "output_type": "execute_result"
    }
   ],
   "source": [
    "df = pd.read_csv('UAH-DRIVESET-classification.csv', index_col=0)\n",
    "df.head()"
   ]
  },
  {
   "cell_type": "code",
   "execution_count": 3,
   "id": "79559475",
   "metadata": {},
   "outputs": [],
   "source": [
    "df['road_type_dummy'] = pd.get_dummies(df['road_type'], drop_first=True)\n"
   ]
  },
  {
   "cell_type": "code",
   "execution_count": 4,
   "id": "64d0a177",
   "metadata": {},
   "outputs": [
    {
     "data": {
      "text/html": [
       "<div>\n",
       "<style scoped>\n",
       "    .dataframe tbody tr th:only-of-type {\n",
       "        vertical-align: middle;\n",
       "    }\n",
       "\n",
       "    .dataframe tbody tr th {\n",
       "        vertical-align: top;\n",
       "    }\n",
       "\n",
       "    .dataframe thead th {\n",
       "        text-align: right;\n",
       "    }\n",
       "</style>\n",
       "<table border=\"1\" class=\"dataframe\">\n",
       "  <thead>\n",
       "    <tr style=\"text-align: right;\">\n",
       "      <th></th>\n",
       "      <th>acceleration_score</th>\n",
       "      <th>braking_score</th>\n",
       "      <th>turning_score</th>\n",
       "      <th>weaving_score</th>\n",
       "      <th>drifting_score</th>\n",
       "      <th>speeding_score</th>\n",
       "      <th>follow_score</th>\n",
       "      <th>road_type</th>\n",
       "      <th>class_normal</th>\n",
       "      <th>temp_F</th>\n",
       "      <th>humidity_pct</th>\n",
       "      <th>wind_speed_mph</th>\n",
       "      <th>wind_gust_mph</th>\n",
       "      <th>condition</th>\n",
       "      <th>day_night</th>\n",
       "      <th>speed_mph</th>\n",
       "      <th>class_normal_bool</th>\n",
       "      <th>road_type_dummy</th>\n",
       "      <th>night_dummy</th>\n",
       "    </tr>\n",
       "  </thead>\n",
       "  <tbody>\n",
       "    <tr>\n",
       "      <th>0</th>\n",
       "      <td>100.0</td>\n",
       "      <td>100.0</td>\n",
       "      <td>100.0</td>\n",
       "      <td>100.0</td>\n",
       "      <td>100.0</td>\n",
       "      <td>100.0</td>\n",
       "      <td>100.0</td>\n",
       "      <td>SECONDARY</td>\n",
       "      <td>NORMAL</td>\n",
       "      <td>72</td>\n",
       "      <td>35</td>\n",
       "      <td>2</td>\n",
       "      <td>0</td>\n",
       "      <td>Fair</td>\n",
       "      <td>Night</td>\n",
       "      <td>38.955226</td>\n",
       "      <td>0</td>\n",
       "      <td>1</td>\n",
       "      <td>1</td>\n",
       "    </tr>\n",
       "    <tr>\n",
       "      <th>1</th>\n",
       "      <td>100.0</td>\n",
       "      <td>100.0</td>\n",
       "      <td>100.0</td>\n",
       "      <td>100.0</td>\n",
       "      <td>100.0</td>\n",
       "      <td>100.0</td>\n",
       "      <td>100.0</td>\n",
       "      <td>SECONDARY</td>\n",
       "      <td>NORMAL</td>\n",
       "      <td>72</td>\n",
       "      <td>35</td>\n",
       "      <td>2</td>\n",
       "      <td>0</td>\n",
       "      <td>Fair</td>\n",
       "      <td>Night</td>\n",
       "      <td>40.099995</td>\n",
       "      <td>0</td>\n",
       "      <td>1</td>\n",
       "      <td>1</td>\n",
       "    </tr>\n",
       "    <tr>\n",
       "      <th>2</th>\n",
       "      <td>100.0</td>\n",
       "      <td>100.0</td>\n",
       "      <td>100.0</td>\n",
       "      <td>100.0</td>\n",
       "      <td>100.0</td>\n",
       "      <td>100.0</td>\n",
       "      <td>100.0</td>\n",
       "      <td>SECONDARY</td>\n",
       "      <td>NORMAL</td>\n",
       "      <td>72</td>\n",
       "      <td>35</td>\n",
       "      <td>2</td>\n",
       "      <td>0</td>\n",
       "      <td>Fair</td>\n",
       "      <td>Night</td>\n",
       "      <td>40.018755</td>\n",
       "      <td>0</td>\n",
       "      <td>1</td>\n",
       "      <td>1</td>\n",
       "    </tr>\n",
       "    <tr>\n",
       "      <th>3</th>\n",
       "      <td>100.0</td>\n",
       "      <td>100.0</td>\n",
       "      <td>100.0</td>\n",
       "      <td>100.0</td>\n",
       "      <td>100.0</td>\n",
       "      <td>100.0</td>\n",
       "      <td>100.0</td>\n",
       "      <td>SECONDARY</td>\n",
       "      <td>NORMAL</td>\n",
       "      <td>72</td>\n",
       "      <td>35</td>\n",
       "      <td>2</td>\n",
       "      <td>0</td>\n",
       "      <td>Fair</td>\n",
       "      <td>Night</td>\n",
       "      <td>38.811020</td>\n",
       "      <td>0</td>\n",
       "      <td>1</td>\n",
       "      <td>1</td>\n",
       "    </tr>\n",
       "    <tr>\n",
       "      <th>4</th>\n",
       "      <td>100.0</td>\n",
       "      <td>100.0</td>\n",
       "      <td>100.0</td>\n",
       "      <td>100.0</td>\n",
       "      <td>100.0</td>\n",
       "      <td>100.0</td>\n",
       "      <td>100.0</td>\n",
       "      <td>SECONDARY</td>\n",
       "      <td>NORMAL</td>\n",
       "      <td>72</td>\n",
       "      <td>35</td>\n",
       "      <td>2</td>\n",
       "      <td>0</td>\n",
       "      <td>Fair</td>\n",
       "      <td>Night</td>\n",
       "      <td>37.524521</td>\n",
       "      <td>0</td>\n",
       "      <td>1</td>\n",
       "      <td>1</td>\n",
       "    </tr>\n",
       "  </tbody>\n",
       "</table>\n",
       "</div>"
      ],
      "text/plain": [
       "   acceleration_score  braking_score  turning_score  weaving_score  \\\n",
       "0               100.0          100.0          100.0          100.0   \n",
       "1               100.0          100.0          100.0          100.0   \n",
       "2               100.0          100.0          100.0          100.0   \n",
       "3               100.0          100.0          100.0          100.0   \n",
       "4               100.0          100.0          100.0          100.0   \n",
       "\n",
       "   drifting_score  speeding_score  follow_score  road_type class_normal  \\\n",
       "0           100.0           100.0         100.0  SECONDARY       NORMAL   \n",
       "1           100.0           100.0         100.0  SECONDARY       NORMAL   \n",
       "2           100.0           100.0         100.0  SECONDARY       NORMAL   \n",
       "3           100.0           100.0         100.0  SECONDARY       NORMAL   \n",
       "4           100.0           100.0         100.0  SECONDARY       NORMAL   \n",
       "\n",
       "   temp_F  humidity_pct  wind_speed_mph  wind_gust_mph condition day_night  \\\n",
       "0      72            35               2              0      Fair     Night   \n",
       "1      72            35               2              0      Fair     Night   \n",
       "2      72            35               2              0      Fair     Night   \n",
       "3      72            35               2              0      Fair     Night   \n",
       "4      72            35               2              0      Fair     Night   \n",
       "\n",
       "   speed_mph  class_normal_bool  road_type_dummy  night_dummy  \n",
       "0  38.955226                  0                1            1  \n",
       "1  40.099995                  0                1            1  \n",
       "2  40.018755                  0                1            1  \n",
       "3  38.811020                  0                1            1  \n",
       "4  37.524521                  0                1            1  "
      ]
     },
     "execution_count": 4,
     "metadata": {},
     "output_type": "execute_result"
    }
   ],
   "source": [
    "df['night_dummy'] = pd.get_dummies(df['day_night'], drop_first=True)\n",
    "df.head()\n"
   ]
  },
  {
   "cell_type": "markdown",
   "id": "ae15e422",
   "metadata": {},
   "source": [
    "# Sub-sample the data for base models, select features, determine classification metric (F2)"
   ]
  },
  {
   "cell_type": "code",
   "execution_count": 5,
   "id": "aea7403d",
   "metadata": {},
   "outputs": [],
   "source": [
    "df_sub = df.sample(n=15000, random_state=42)\n"
   ]
  },
  {
   "cell_type": "code",
   "execution_count": 6,
   "id": "ba35d6d6",
   "metadata": {},
   "outputs": [],
   "source": [
    "X = df_sub.drop(['class_normal_bool'], axis=1)\n",
    "y = df_sub['class_normal_bool']\n"
   ]
  },
  {
   "cell_type": "code",
   "execution_count": 7,
   "id": "02009f93",
   "metadata": {},
   "outputs": [],
   "source": [
    "X_train, X_test_all, y_train, y_test = train_test_split(X, y, test_size=0.2, random_state=42)\n",
    "X_train_all, X_val_all, y_train, y_val = train_test_split(X_train, y_train, test_size=0.25, random_state=42)\n",
    "\n",
    "X_train = X_train_all[['acceleration_score', 'braking_score', 'speeding_score']]\n",
    "X_val = X_val_all[['acceleration_score', 'braking_score', 'speeding_score']]\n",
    "X_test = X_test_all[['acceleration_score', 'braking_score', 'speeding_score']]\n"
   ]
  },
  {
   "cell_type": "code",
   "execution_count": 8,
   "id": "51de27ee",
   "metadata": {},
   "outputs": [
    {
     "data": {
      "text/plain": [
       "((9000, 3), (9000,))"
      ]
     },
     "execution_count": 8,
     "metadata": {},
     "output_type": "execute_result"
    }
   ],
   "source": [
    "X_train.shape, y_train.shape"
   ]
  },
  {
   "cell_type": "code",
   "execution_count": 9,
   "id": "f35b4472",
   "metadata": {},
   "outputs": [],
   "source": [
    "fbeta_scorer = make_scorer(fbeta_score, beta=2)"
   ]
  },
  {
   "cell_type": "markdown",
   "id": "4f7acf9e",
   "metadata": {},
   "source": [
    "# KNN"
   ]
  },
  {
   "cell_type": "code",
   "execution_count": 10,
   "id": "09762607",
   "metadata": {},
   "outputs": [],
   "source": [
    "std_scale = StandardScaler()\n",
    "\n",
    "X_train_scaled = std_scale.fit_transform(X_train)\n",
    "X_val_scaled = std_scale.transform(X_val)\n",
    "X_test_scaled = std_scale.transform(X_test)\n"
   ]
  },
  {
   "cell_type": "code",
   "execution_count": 11,
   "id": "68b2faf8",
   "metadata": {},
   "outputs": [],
   "source": [
    "k_range = list(range(3, 151, 2))\n",
    "weight_options = ['uniform', 'distance']\n",
    "\n",
    "param_grid = dict(n_neighbors=k_range, weights=weight_options)\n",
    "\n",
    "knn = KNeighborsClassifier()\n",
    "grid = GridSearchCV(knn, param_grid, cv=10, scoring=fbeta_scorer, n_jobs=-1)\n",
    "\n",
    "grid.fit(X_train_scaled, y_train)\n",
    "\n",
    "df_cv = pd.DataFrame(grid.cv_results_)\n"
   ]
  },
  {
   "cell_type": "code",
   "execution_count": 12,
   "id": "6f094c52",
   "metadata": {},
   "outputs": [
    {
     "data": {
      "image/png": "[encoded data removed]",
      "text/plain": [
       "<Figure size 432x288 with 1 Axes>"
      ]
     },
     "metadata": {
      "needs_background": "light"
     },
     "output_type": "display_data"
    }
   ],
   "source": [
    "plt.scatter(df_cv[df_cv.param_weights == 'uniform'].param_n_neighbors, df_cv[df_cv.param_weights == 'uniform'].mean_test_score, label='uniform')\n",
    "plt.scatter(df_cv[df_cv.param_weights == 'distance'].param_n_neighbors, df_cv[df_cv.param_weights == 'distance'].mean_test_score, label='distance weighted')\n",
    "\n",
    "plt.xlabel('Value of K for KNN')\n",
    "plt.ylabel('Cross-Validated F2')\n",
    "\n",
    "plt.legend();\n"
   ]
  },
  {
   "cell_type": "code",
   "execution_count": 13,
   "id": "3be96211",
   "metadata": {},
   "outputs": [
    {
     "name": "stdout",
     "output_type": "stream",
     "text": [
      "Best params:  {'n_neighbors': 27, 'weights': 'distance'}\n",
      "Best estimator:  KNeighborsClassifier(n_neighbors=27, weights='distance')\n",
      "Best score:  0.9233969886666547\n"
     ]
    }
   ],
   "source": [
    "print(\"Best params: \", grid.best_params_)\n",
    "print(\"Best estimator: \", grid.best_estimator_)\n",
    "print(\"Best score: \", grid.best_score_)\n"
   ]
  },
  {
   "cell_type": "markdown",
   "id": "b206069f",
   "metadata": {},
   "source": [
    "# Logit"
   ]
  },
  {
   "cell_type": "markdown",
   "id": "687a32f3",
   "metadata": {},
   "source": [
    "Cross-val logit"
   ]
  },
  {
   "cell_type": "code",
   "execution_count": 14,
   "id": "ff7446f5",
   "metadata": {},
   "outputs": [],
   "source": [
    "C_range = list(np.logspace(-5, 3, 200))\n",
    "\n",
    "param_grid = dict(C=C_range)\n",
    "\n",
    "lr = LogisticRegression()\n",
    "grid = GridSearchCV(lr, param_grid, cv=10, scoring=fbeta_scorer, n_jobs=-1)\n",
    "\n",
    "grid.fit(X_train_scaled, y_train)\n",
    "\n",
    "df_cv = pd.DataFrame(grid.cv_results_)\n"
   ]
  },
  {
   "cell_type": "code",
   "execution_count": 15,
   "id": "85f43a4e",
   "metadata": {},
   "outputs": [
    {
     "data": {
      "image/png": "[encoded data removed]",
      "text/plain": [
       "<Figure size 432x288 with 1 Axes>"
      ]
     },
     "metadata": {
      "needs_background": "light"
     },
     "output_type": "display_data"
    }
   ],
   "source": [
    "plt.scatter(df_cv.param_C, df_cv.mean_test_score, label='l1 penalty')\n",
    "\n",
    "plt.xlabel('Value of C for Logit')\n",
    "plt.ylabel('Cross-Validated F2')\n",
    "\n",
    "plt.xscale('log')\n",
    "plt.legend();\n"
   ]
  },
  {
   "cell_type": "code",
   "execution_count": 16,
   "id": "62b02270",
   "metadata": {},
   "outputs": [
    {
     "name": "stdout",
     "output_type": "stream",
     "text": [
      "Best params:  {'C': 1e-05}\n",
      "Best estimator:  LogisticRegression(C=1e-05)\n",
      "Best score:  0.8735946459635333\n"
     ]
    }
   ],
   "source": [
    "print(\"Best params: \", grid.best_params_)\n",
    "print(\"Best estimator: \", grid.best_estimator_)\n",
    "print(\"Best score: \", grid.best_score_)\n"
   ]
  },
  {
   "cell_type": "markdown",
   "id": "e402d4e6",
   "metadata": {},
   "source": [
    "# Decision Tree"
   ]
  },
  {
   "cell_type": "code",
   "execution_count": 17,
   "id": "ac6dbc8b",
   "metadata": {},
   "outputs": [],
   "source": [
    "max_depth_range = list(range(1,21))\n",
    "criterion_options = ['entropy', 'gini']\n",
    "min_samples_split_range = list(range(2,11))\n",
    "min_samples_leaf_range = list(range(1,6))\n",
    "\n",
    "param_grid = dict(max_depth=max_depth_range, criterion=criterion_options,\n",
    "                  min_samples_split=min_samples_split_range, min_samples_leaf=min_samples_leaf_range)\n",
    "\n",
    "decisiontree = DecisionTreeClassifier()\n",
    "grid = GridSearchCV(decisiontree, param_grid, cv=10, scoring=fbeta_scorer, n_jobs=-1)\n",
    "\n",
    "grid.fit(X_train, y_train)\n",
    "\n",
    "df_cv = pd.DataFrame(grid.cv_results_)\n"
   ]
  },
  {
   "cell_type": "code",
   "execution_count": 18,
   "id": "a9678ae7",
   "metadata": {},
   "outputs": [
    {
     "data": {
      "image/png": "[encoded data removed]",
      "text/plain": [
       "<Figure size 432x288 with 1 Axes>"
      ]
     },
     "metadata": {
      "needs_background": "light"
     },
     "output_type": "display_data"
    }
   ],
   "source": [
    "plt.scatter(df_cv[df_cv.param_criterion == 'entropy'].param_max_depth, df_cv[df_cv.param_criterion == 'entropy'].mean_test_score, label='entropy')\n",
    "plt.scatter(df_cv[df_cv.param_criterion == 'gini'].param_max_depth, df_cv[df_cv.param_criterion == 'gini'].mean_test_score, label='gini')\n",
    "\n",
    "plt.xlabel('Value of max depth for DT')\n",
    "plt.ylabel('Cross-Validated F2')\n",
    "\n",
    "plt.legend();\n"
   ]
  },
  {
   "cell_type": "code",
   "execution_count": 19,
   "id": "24007ddb",
   "metadata": {},
   "outputs": [
    {
     "name": "stdout",
     "output_type": "stream",
     "text": [
      "Best params:  {'criterion': 'gini', 'max_depth': 11, 'min_samples_leaf': 1, 'min_samples_split': 10}\n",
      "Best estimator:  DecisionTreeClassifier(max_depth=11, min_samples_split=10)\n",
      "Best score:  0.937309180001173\n"
     ]
    }
   ],
   "source": [
    "print(\"Best params: \", grid.best_params_)\n",
    "print(\"Best estimator: \", grid.best_estimator_)\n",
    "print(\"Best score: \", grid.best_score_)\n"
   ]
  },
  {
   "cell_type": "markdown",
   "id": "88c31e2e",
   "metadata": {},
   "source": [
    "# Random Forest"
   ]
  },
  {
   "cell_type": "code",
   "execution_count": 20,
   "id": "fdbbe3cd",
   "metadata": {},
   "outputs": [],
   "source": [
    "max_features_options = ['sqrt', 'log2', 'auto']\n",
    "criterion_options = ['entropy', 'gini']\n",
    "\n",
    "param_grid = dict(max_features=max_features_options, criterion=criterion_options)\n",
    "\n",
    "rf = RandomForestClassifier()\n",
    "grid = GridSearchCV(rf, param_grid, cv=10, scoring=fbeta_scorer, n_jobs=-1)\n",
    "\n",
    "grid.fit(X_train, y_train)\n",
    "\n",
    "df_cv = pd.DataFrame(grid.cv_results_)\n"
   ]
  },
  {
   "cell_type": "code",
   "execution_count": 21,
   "id": "3c0d64f1",
   "metadata": {},
   "outputs": [
    {
     "name": "stdout",
     "output_type": "stream",
     "text": [
      "Best params:  {'criterion': 'gini', 'max_features': 'sqrt'}\n",
      "Best estimator:  RandomForestClassifier(max_features='sqrt')\n",
      "Best score:  0.9346135539131979\n"
     ]
    }
   ],
   "source": [
    "print(\"Best params: \", grid.best_params_)\n",
    "print(\"Best estimator: \", grid.best_estimator_)\n",
    "print(\"Best score: \", grid.best_score_)\n"
   ]
  },
  {
   "cell_type": "markdown",
   "id": "80a9bbd3",
   "metadata": {},
   "source": [
    "**Notes:**\n",
    "\n",
    "- Used 3 features: acceleration, braking, speeding\n",
    "- Logistic Regression (F2 score < 0.9) does not perform as well as the other models (all have F2 scores > 0.9)\n",
    "    - Likely non-linear decision boundary required for classification\n",
    "    - Models that can have non-linear decision boundaries (e.g., decision tree/ensemble models) will perform better\n",
    "- Drop Logistic Regression from further consideration\n"
   ]
  },
  {
   "cell_type": "markdown",
   "id": "440b663c",
   "metadata": {},
   "source": [
    "# Add more features"
   ]
  },
  {
   "cell_type": "code",
   "execution_count": 22,
   "id": "bf06e480",
   "metadata": {},
   "outputs": [
    {
     "data": {
      "text/plain": [
       "Index(['acceleration_score', 'braking_score', 'turning_score', 'weaving_score',\n",
       "       'drifting_score', 'speeding_score', 'follow_score', 'road_type',\n",
       "       'class_normal', 'temp_F', 'humidity_pct', 'wind_speed_mph',\n",
       "       'wind_gust_mph', 'condition', 'day_night', 'speed_mph',\n",
       "       'road_type_dummy', 'night_dummy'],\n",
       "      dtype='object')"
      ]
     },
     "execution_count": 22,
     "metadata": {},
     "output_type": "execute_result"
    }
   ],
   "source": [
    "X_train_all.columns"
   ]
  },
  {
   "cell_type": "code",
   "execution_count": 23,
   "id": "84086859",
   "metadata": {},
   "outputs": [],
   "source": [
    "X_train = X_train_all[['acceleration_score', 'braking_score', 'turning_score', 'weaving_score',\n",
    "                       'drifting_score', 'speeding_score', 'follow_score', 'speed_mph', \n",
    "                       'road_type_dummy', 'night_dummy']]\n",
    "X_val = X_val_all[['acceleration_score', 'braking_score', 'turning_score', 'weaving_score',\n",
    "                   'drifting_score', 'speeding_score', 'follow_score', 'speed_mph', \n",
    "                   'road_type_dummy', 'night_dummy']]\n",
    "X_test = X_test_all[['acceleration_score', 'braking_score', 'turning_score', 'weaving_score',\n",
    "                   'drifting_score', 'speeding_score', 'follow_score', 'speed_mph', \n",
    "                   'road_type_dummy', 'night_dummy']]\n"
   ]
  },
  {
   "cell_type": "code",
   "execution_count": 24,
   "id": "609057a1",
   "metadata": {},
   "outputs": [
    {
     "data": {
      "text/plain": [
       "((9000, 10), (9000,))"
      ]
     },
     "execution_count": 24,
     "metadata": {},
     "output_type": "execute_result"
    }
   ],
   "source": [
    "X_train.shape, y_train.shape"
   ]
  },
  {
   "cell_type": "markdown",
   "id": "9c9ffcb8",
   "metadata": {},
   "source": [
    "# KNN (with more features)"
   ]
  },
  {
   "cell_type": "code",
   "execution_count": 25,
   "id": "2c9bd787",
   "metadata": {},
   "outputs": [],
   "source": [
    "std_scale = StandardScaler()\n",
    "\n",
    "X_train_scaled = std_scale.fit_transform(X_train)\n",
    "X_val_scaled = std_scale.transform(X_val)\n",
    "X_test_scaled = std_scale.transform(X_test)\n"
   ]
  },
  {
   "cell_type": "code",
   "execution_count": 26,
   "id": "e4885d25",
   "metadata": {},
   "outputs": [],
   "source": [
    "k_range = list(range(3, 151, 2))\n",
    "weight_options = ['uniform', 'distance']\n",
    "\n",
    "param_grid = dict(n_neighbors=k_range, weights=weight_options)\n",
    "\n",
    "knn = KNeighborsClassifier()\n",
    "knn_grid = GridSearchCV(knn, param_grid, cv=10, scoring=fbeta_scorer, n_jobs=-1)\n",
    "\n",
    "knn_grid.fit(X_train_scaled, y_train)\n",
    "\n",
    "df_cv_knn = pd.DataFrame(knn_grid.cv_results_)\n"
   ]
  },
  {
   "cell_type": "code",
   "execution_count": 27,
   "id": "994bfb2f",
   "metadata": {},
   "outputs": [
    {
     "data": {
      "image/png": "[encoded data removed]",
      "text/plain": [
       "<Figure size 432x288 with 1 Axes>"
      ]
     },
     "metadata": {
      "needs_background": "light"
     },
     "output_type": "display_data"
    }
   ],
   "source": [
    "plt.scatter(df_cv_knn[df_cv_knn.param_weights == 'uniform'].param_n_neighbors, df_cv_knn[df_cv_knn.param_weights == 'uniform'].mean_test_score, label='uniform')\n",
    "plt.scatter(df_cv_knn[df_cv_knn.param_weights == 'distance'].param_n_neighbors, df_cv_knn[df_cv_knn.param_weights == 'distance'].mean_test_score, label='distance weighted')\n",
    "\n",
    "plt.xlabel('Value of K for KNN')\n",
    "plt.ylabel('Cross-Validated F2')\n",
    "\n",
    "plt.legend();\n"
   ]
  },
  {
   "cell_type": "code",
   "execution_count": 28,
   "id": "affb9fb2",
   "metadata": {},
   "outputs": [
    {
     "name": "stdout",
     "output_type": "stream",
     "text": [
      "Best params:  {'n_neighbors': 3, 'weights': 'distance'}\n",
      "Best estimator:  KNeighborsClassifier(n_neighbors=3, weights='distance')\n",
      "Best score:  0.9908809084234242\n"
     ]
    }
   ],
   "source": [
    "print(\"Best params: \", knn_grid.best_params_)\n",
    "print(\"Best estimator: \", knn_grid.best_estimator_)\n",
    "print(\"Best score: \", knn_grid.best_score_)\n"
   ]
  },
  {
   "cell_type": "code",
   "execution_count": 29,
   "id": "361e0e00",
   "metadata": {},
   "outputs": [
    {
     "name": "stdout",
     "output_type": "stream",
     "text": [
      "Accuracy:\t 0.9907\n",
      "Precision:\t 0.9948\n",
      "Recall:\t\t 0.9891\n",
      "F1:\t\t 0.9920\n",
      "Fbeta (beta=2):\t 0.9903\n",
      "AUC:\t\t 0.9910\n"
     ]
    }
   ],
   "source": [
    "knn = KNeighborsClassifier(n_neighbors=knn_grid.best_params_['n_neighbors'], weights='distance')\n",
    "knn.fit(X_train_scaled, y_train)\n",
    "\n",
    "y_knn_pred = knn.predict(X_val_scaled)\n",
    "y_knn_pred_prob = knn.predict_proba(X_val_scaled)[:, 1]\n",
    "\n",
    "print(f'Accuracy:\\t {accuracy_score(y_val, y_knn_pred):.4f}')\n",
    "print(f'Precision:\\t {precision_score(y_val, y_knn_pred):.4f}')\n",
    "print(f'Recall:\\t\\t {recall_score(y_val, y_knn_pred):.4f}')\n",
    "print(f'F1:\\t\\t {f1_score(y_val, y_knn_pred):.4f}')\n",
    "print(f'Fbeta (beta=2):\\t {fbeta_score(y_val, y_knn_pred, beta=2):.4f}')\n",
    "print(f'AUC:\\t\\t {roc_auc_score(y_val, y_knn_pred):.4f}')\n"
   ]
  },
  {
   "cell_type": "code",
   "execution_count": 30,
   "id": "955d7d79",
   "metadata": {},
   "outputs": [
    {
     "data": {
      "image/png": "[encoded data removed]",
      "text/plain": [
       "<Figure size 432x288 with 1 Axes>"
      ]
     },
     "metadata": {
      "needs_background": "light"
     },
     "output_type": "display_data"
    }
   ],
   "source": [
    "base_fpr, base_tpr, _ = roc_curve(y_val, [1 for _ in range(len(y_val))])\n",
    "model_fpr, model_tpr, _ = roc_curve(y_val, y_knn_pred_prob)\n",
    "\n",
    "plt.plot(base_fpr, base_tpr, 'b', label = 'baseline')\n",
    "plt.plot(model_fpr, model_tpr, 'r', label = 'KNN model')\n",
    "\n",
    "plt.xlabel('False Positive Rate')\n",
    "plt.ylabel('True Positive Rate')\n",
    "\n",
    "plt.title('ROC Curve')\n",
    "\n",
    "plt.legend();\n"
   ]
  },
  {
   "cell_type": "code",
   "execution_count": 31,
   "id": "0a8b224a",
   "metadata": {},
   "outputs": [
    {
     "data": {
      "text/plain": [
       "<sklearn.metrics._plot.confusion_matrix.ConfusionMatrixDisplay at 0x7fb6601f7f10>"
      ]
     },
     "execution_count": 31,
     "metadata": {},
     "output_type": "execute_result"
    },
    {
     "data": {
      "image/png": "[encoded data removed]",
      "text/plain": [
       "<Figure size 432x288 with 2 Axes>"
      ]
     },
     "metadata": {
      "needs_background": "light"
     },
     "output_type": "display_data"
    }
   ],
   "source": [
    "plot_confusion_matrix(knn, X_val_scaled, y_val,\n",
    "                      display_labels=['Normal', 'Not normal'],\n",
    "                      cmap=plt.cm.Blues,\n",
    "                      normalize='true')\n"
   ]
  },
  {
   "cell_type": "markdown",
   "id": "fcb62cdb",
   "metadata": {},
   "source": [
    "# Decision Tree (with more features)"
   ]
  },
  {
   "cell_type": "code",
   "execution_count": 32,
   "id": "396d7f92",
   "metadata": {},
   "outputs": [],
   "source": [
    "max_depth_range = list(range(10,36))\n",
    "criterion_options = ['entropy', 'gini']\n",
    "\n",
    "param_grid = dict(max_depth=max_depth_range, criterion=criterion_options)\n",
    "\n",
    "decisiontree = DecisionTreeClassifier()\n",
    "dt_grid = GridSearchCV(decisiontree, param_grid, cv=10, scoring=fbeta_scorer, n_jobs=-1)\n",
    "\n",
    "dt_grid.fit(X_train, y_train)\n",
    "\n",
    "df_cv_dt = pd.DataFrame(dt_grid.cv_results_)\n"
   ]
  },
  {
   "cell_type": "code",
   "execution_count": 33,
   "id": "3a7976ca",
   "metadata": {},
   "outputs": [
    {
     "data": {
      "image/png": "[encoded data removed]",
      "text/plain": [
       "<Figure size 432x288 with 1 Axes>"
      ]
     },
     "metadata": {
      "needs_background": "light"
     },
     "output_type": "display_data"
    }
   ],
   "source": [
    "plt.scatter(df_cv_dt[df_cv_dt.param_criterion == 'entropy'].param_max_depth, df_cv_dt[df_cv_dt.param_criterion == 'entropy'].mean_test_score, label='entropy')\n",
    "plt.scatter(df_cv_dt[df_cv_dt.param_criterion == 'gini'].param_max_depth, df_cv_dt[df_cv_dt.param_criterion == 'gini'].mean_test_score, label='gini')\n",
    "\n",
    "plt.xlabel('Value of max depth for DT')\n",
    "plt.ylabel('Cross-Validated F2')\n",
    "\n",
    "plt.legend();\n"
   ]
  },
  {
   "cell_type": "code",
   "execution_count": 34,
   "id": "9e2c7c0b",
   "metadata": {},
   "outputs": [
    {
     "name": "stdout",
     "output_type": "stream",
     "text": [
      "Best params:  {'criterion': 'entropy', 'max_depth': 31}\n",
      "Best estimator:  DecisionTreeClassifier(criterion='entropy', max_depth=31)\n",
      "Best score:  0.9914612014056894\n"
     ]
    }
   ],
   "source": [
    "print(\"Best params: \", dt_grid.best_params_)\n",
    "print(\"Best estimator: \", dt_grid.best_estimator_)\n",
    "print(\"Best score: \", dt_grid.best_score_)\n"
   ]
  },
  {
   "cell_type": "code",
   "execution_count": 35,
   "id": "85d4d972",
   "metadata": {},
   "outputs": [
    {
     "name": "stdout",
     "output_type": "stream",
     "text": [
      "Accuracy:\t 0.9880\n",
      "Precision:\t 0.9908\n",
      "Recall:\t\t 0.9886\n",
      "F1:\t\t 0.9897\n",
      "Fbeta (beta=2):\t 0.9890\n",
      "AUC:\t\t 0.9879\n"
     ]
    }
   ],
   "source": [
    "dt = DecisionTreeClassifier(criterion=dt_grid.best_params_['criterion'], max_depth=dt_grid.best_params_['max_depth'])\n",
    "dt.fit(X_train, y_train)\n",
    "\n",
    "y_dt_pred = dt.predict(X_val)\n",
    "y_dt_pred_prob = dt.predict_proba(X_val)[:, 1]\n",
    "\n",
    "\n",
    "print(f'Accuracy:\\t {accuracy_score(y_val, y_dt_pred):.4f}')\n",
    "print(f'Precision:\\t {precision_score(y_val, y_dt_pred):.4f}')\n",
    "print(f'Recall:\\t\\t {recall_score(y_val, y_dt_pred):.4f}')\n",
    "print(f'F1:\\t\\t {f1_score(y_val, y_dt_pred):.4f}')\n",
    "print(f'Fbeta (beta=2):\\t {fbeta_score(y_val, y_dt_pred, beta=2):.4f}')\n",
    "print(f'AUC:\\t\\t {roc_auc_score(y_val, y_dt_pred):.4f}')\n"
   ]
  },
  {
   "cell_type": "code",
   "execution_count": 36,
   "id": "ae981657",
   "metadata": {},
   "outputs": [
    {
     "data": {
      "image/png": "[encoded data removed]",
      "text/plain": [
       "<Figure size 432x288 with 1 Axes>"
      ]
     },
     "metadata": {
      "needs_background": "light"
     },
     "output_type": "display_data"
    }
   ],
   "source": [
    "base_fpr, base_tpr, _ = roc_curve(y_val, [1 for _ in range(len(y_val))])\n",
    "model_fpr, model_tpr, _ = roc_curve(y_val, y_dt_pred_prob)\n",
    "\n",
    "plt.plot(base_fpr, base_tpr, 'b', label = 'baseline')\n",
    "plt.plot(model_fpr, model_tpr, 'r', label = 'DT model')\n",
    "\n",
    "plt.xlabel('False Positive Rate')\n",
    "plt.ylabel('True Positive Rate')\n",
    "\n",
    "plt.title('ROC Curve')\n",
    "\n",
    "plt.legend();\n"
   ]
  },
  {
   "cell_type": "code",
   "execution_count": 37,
   "id": "4487db69",
   "metadata": {},
   "outputs": [
    {
     "data": {
      "text/plain": [
       "<sklearn.metrics._plot.confusion_matrix.ConfusionMatrixDisplay at 0x7fb65ef5e5b0>"
      ]
     },
     "execution_count": 37,
     "metadata": {},
     "output_type": "execute_result"
    },
    {
     "data": {
      "image/png": "[encoded data removed]",
      "text/plain": [
       "<Figure size 432x288 with 2 Axes>"
      ]
     },
     "metadata": {
      "needs_background": "light"
     },
     "output_type": "display_data"
    }
   ],
   "source": [
    "plot_confusion_matrix(dt, X_val, y_val,\n",
    "                      display_labels=['Normal', 'Not normal'],\n",
    "                      cmap=plt.cm.Blues,\n",
    "                      normalize='true')\n"
   ]
  },
  {
   "cell_type": "markdown",
   "id": "3d894941",
   "metadata": {},
   "source": [
    "# Random Forest (with more features)"
   ]
  },
  {
   "cell_type": "code",
   "execution_count": 38,
   "id": "4598d188",
   "metadata": {},
   "outputs": [],
   "source": [
    "max_features_options = ['sqrt', 'log2', 'auto']\n",
    "criterion_options = ['entropy', 'gini']\n",
    "\n",
    "param_grid = dict(max_features=max_features_options, criterion=criterion_options)\n",
    "\n",
    "rf = RandomForestClassifier(bootstrap=True)\n",
    "rf_grid = GridSearchCV(rf, param_grid, cv=10, scoring=fbeta_scorer, n_jobs=-1)\n",
    "\n",
    "rf_grid.fit(X_train, y_train)\n",
    "\n",
    "df_cv_rf = pd.DataFrame(rf_grid.cv_results_)\n"
   ]
  },
  {
   "cell_type": "code",
   "execution_count": 39,
   "id": "073bc4e3",
   "metadata": {},
   "outputs": [
    {
     "name": "stdout",
     "output_type": "stream",
     "text": [
      "Best params:  {'criterion': 'gini', 'max_features': 'log2'}\n",
      "Best estimator:  RandomForestClassifier(max_features='log2')\n",
      "Best score:  0.9938323666036778\n"
     ]
    }
   ],
   "source": [
    "print(\"Best params: \", rf_grid.best_params_)\n",
    "print(\"Best estimator: \", rf_grid.best_estimator_)\n",
    "print(\"Best score: \", rf_grid.best_score_)\n"
   ]
  },
  {
   "cell_type": "code",
   "execution_count": 40,
   "id": "61786584",
   "metadata": {},
   "outputs": [
    {
     "name": "stdout",
     "output_type": "stream",
     "text": [
      "Accuracy:\t 0.9910\n",
      "Precision:\t 0.9937\n",
      "Recall:\t\t 0.9909\n",
      "F1:\t\t 0.9923\n",
      "Fbeta (beta=2):\t 0.9914\n",
      "AUC:\t\t 0.9910\n"
     ]
    }
   ],
   "source": [
    "rf = RandomForestClassifier(max_features=rf_grid.best_params_['max_features'], bootstrap=True)\n",
    "rf.fit(X_train, y_train)\n",
    "\n",
    "y_rf_pred = rf.predict(X_val)\n",
    "y_rf_pred_prob = rf.predict_proba(X_val)[:, 1]\n",
    "\n",
    "print(f'Accuracy:\\t {accuracy_score(y_val, y_rf_pred):.4f}')\n",
    "print(f'Precision:\\t {precision_score(y_val, y_rf_pred):.4f}')\n",
    "print(f'Recall:\\t\\t {recall_score(y_val, y_rf_pred):.4f}')\n",
    "print(f'F1:\\t\\t {f1_score(y_val, y_rf_pred):.4f}')\n",
    "print(f'Fbeta (beta=2):\\t {fbeta_score(y_val, y_rf_pred, beta=2):.4f}')\n",
    "print(f'AUC:\\t\\t {roc_auc_score(y_val, y_rf_pred):.4f}')\n"
   ]
  },
  {
   "cell_type": "code",
   "execution_count": 41,
   "id": "dac2f503",
   "metadata": {},
   "outputs": [
    {
     "data": {
      "image/png": "[encoded data removed]",
      "text/plain": [
       "<Figure size 432x288 with 1 Axes>"
      ]
     },
     "metadata": {
      "needs_background": "light"
     },
     "output_type": "display_data"
    }
   ],
   "source": [
    "base_fpr, base_tpr, _ = roc_curve(y_val, [1 for _ in range(len(y_val))])\n",
    "model_fpr, model_tpr, _ = roc_curve(y_val, y_rf_pred_prob)\n",
    "\n",
    "plt.plot(base_fpr, base_tpr, 'b', label = 'baseline')\n",
    "plt.plot(model_fpr, model_tpr, 'r', label = 'RF model')\n",
    "\n",
    "plt.xlabel('False Positive Rate')\n",
    "plt.ylabel('True Positive Rate')\n",
    "\n",
    "plt.title('ROC Curve')\n",
    "\n",
    "plt.legend();\n"
   ]
  },
  {
   "cell_type": "code",
   "execution_count": 42,
   "id": "95ec7c92",
   "metadata": {},
   "outputs": [
    {
     "data": {
      "text/plain": [
       "<sklearn.metrics._plot.confusion_matrix.ConfusionMatrixDisplay at 0x7fb65efde460>"
      ]
     },
     "execution_count": 42,
     "metadata": {},
     "output_type": "execute_result"
    },
    {
     "data": {
      "image/png": "[encoded data removed]",
      "text/plain": [
       "<Figure size 432x288 with 2 Axes>"
      ]
     },
     "metadata": {
      "needs_background": "light"
     },
     "output_type": "display_data"
    }
   ],
   "source": [
    "plot_confusion_matrix(rf, X_val, y_val,\n",
    "                      display_labels=['Normal', 'Not normal'],\n",
    "                      cmap=plt.cm.Blues,\n",
    "                      normalize='true')\n"
   ]
  },
  {
   "cell_type": "code",
   "execution_count": 43,
   "id": "9e7f5654",
   "metadata": {},
   "outputs": [
    {
     "data": {
      "image/png": "[encoded data removed]",
      "text/plain": [
       "<Figure size 432x288 with 1 Axes>"
      ]
     },
     "metadata": {
      "needs_background": "light"
     },
     "output_type": "display_data"
    }
   ],
   "source": [
    "labels = ['KNN', 'DT', 'RF']\n",
    "y_preds = [y_knn_pred, y_dt_pred, y_rf_pred]\n",
    "for i,probs in enumerate([y_knn_pred_prob, y_dt_pred_prob, y_rf_pred_prob]):\n",
    "    base_fpr, base_tpr, _ = roc_curve(y_val, [1 for _ in range(len(y_val))])\n",
    "    model_fpr, model_tpr, _ = roc_curve(y_val, probs)\n",
    "\n",
    "    plt.plot(model_fpr, model_tpr, label = f'{labels[i]} (AUC: {roc_auc_score(y_val, y_preds[i]):.4f}, F2: {fbeta_score(y_val, y_preds[i], beta=2):.4f})')\n",
    "\n",
    "#plt.plot(base_fpr, base_tpr, 'k', label = 'baseline')\n",
    "\n",
    "plt.xlabel('False Positive Rate', fontsize=12)\n",
    "plt.ylabel('True Positive Rate', fontsize=12)\n",
    "\n",
    "plt.title('ROC Curves', fontsize=14)\n",
    "\n",
    "plt.xlim(-0.01,0.15)\n",
    "plt.ylim(0.85,1.01)\n",
    "\n",
    "plt.legend(fontsize=11)\n",
    "\n",
    "plt.savefig('figures/roc_curves_base.png', dpi=300);\n"
   ]
  },
  {
   "cell_type": "markdown",
   "id": "7580c8f2",
   "metadata": {},
   "source": [
    "**Notes:**\n",
    "\n",
    "- RF performs slightly better than DT and KNN models on the validation set (F2 score)\n",
    "- Predictions with KNN will be very slow\n",
    "    - Want to use the model in real-time during a driving session, so slow predictions will be problematic\n",
    "- DT is slightly overfit to the training data\n",
    "- Will also test an XGBoost model on these features"
   ]
  },
  {
   "cell_type": "markdown",
   "id": "273a894f",
   "metadata": {},
   "source": [
    "# XGBoost (with more features)"
   ]
  },
  {
   "cell_type": "code",
   "execution_count": 44,
   "id": "293ce39f",
   "metadata": {},
   "outputs": [],
   "source": [
    "import xgboost as xgb\n"
   ]
  },
  {
   "cell_type": "code",
   "execution_count": 45,
   "id": "30518867",
   "metadata": {},
   "outputs": [
    {
     "name": "stderr",
     "output_type": "stream",
     "text": [
      "/Users/Hannah/anaconda/envs/metis/lib/python3.8/site-packages/xgboost/sklearn.py:1146: UserWarning: The use of label encoder in XGBClassifier is deprecated and will be removed in a future release. To remove this warning, do the following: 1) Pass option use_label_encoder=False when constructing XGBClassifier object; and 2) Encode your labels (y) as integers starting with 0, i.e. 0, 1, 2, ..., [num_class - 1].\n",
      "  warnings.warn(label_encoder_deprecation_msg, UserWarning)\n"
     ]
    }
   ],
   "source": [
    "gbm = xgb.XGBClassifier( \n",
    "                        n_estimators=30000, #arbitrary large number\n",
    "                        max_depth=4,\n",
    "                        objective='binary:logistic',  # Other options: https://xgboost.readthedocs.io/en/latest/parameter.html#learning-task-parameters\n",
    "                        learning_rate=0.1, \n",
    "                        subsample=1,\n",
    "                        min_child_weight=1,\n",
    "                        colsample_bytree=0.8\n",
    "                       )\n",
    "\n",
    "eval_set=[(X_train,y_train),(X_val,y_val)] #tracking train/validation error as we go\n",
    "fit_model = gbm.fit( \n",
    "                    X_train, y_train, \n",
    "                    eval_set=eval_set,\n",
    "                    eval_metric='auc',\n",
    "                    early_stopping_rounds=20,\n",
    "                    verbose=False #gives output log as below\n",
    "                   )\n"
   ]
  },
  {
   "cell_type": "code",
   "execution_count": 46,
   "id": "43325def",
   "metadata": {},
   "outputs": [
    {
     "name": "stdout",
     "output_type": "stream",
     "text": [
      "Fbeta (beta=2):\t 0.9922\n"
     ]
    },
    {
     "name": "stderr",
     "output_type": "stream",
     "text": [
      "/Users/Hannah/anaconda/envs/metis/lib/python3.8/site-packages/xgboost/core.py:101: UserWarning: ntree_limit is deprecated, use `iteration_range` or model slicing instead.\n",
      "  warnings.warn(\n",
      "/Users/Hannah/anaconda/envs/metis/lib/python3.8/site-packages/xgboost/data.py:112: UserWarning: Use subset (sliced data) of np.ndarray is not recommended because it will generate extra copies and increase memory consumption\n",
      "  warnings.warn(\n"
     ]
    }
   ],
   "source": [
    "print(f'Fbeta (beta=2):\\t {fbeta_score(y_val, gbm.predict(X_val, ntree_limit=gbm.best_ntree_limit), beta=2):.4f}')\n"
   ]
  },
  {
   "cell_type": "markdown",
   "id": "90843bc0",
   "metadata": {},
   "source": [
    "Notes:\n",
    "- Out of the box (minimal tuning of max depth), XGBoost already out-performs Random Forest on the validation set\n",
    "- However, tuning XGBoost will be time consuming; can use GridSearchCV for Random Forest\n",
    "- Choosing Randfom Forest classifier as final model"
   ]
  },
  {
   "cell_type": "markdown",
   "id": "ed956bd6",
   "metadata": {},
   "source": [
    "# Random Forest model tuning"
   ]
  },
  {
   "cell_type": "code",
   "execution_count": 47,
   "id": "3b628c0a",
   "metadata": {},
   "outputs": [],
   "source": [
    "from tqdm import tqdm"
   ]
  },
  {
   "cell_type": "code",
   "execution_count": 48,
   "id": "b181013c",
   "metadata": {
    "scrolled": true
   },
   "outputs": [
    {
     "name": "stderr",
     "output_type": "stream",
     "text": [
      "  0%|          | 0/291 [00:00<?, ?it/s]/Users/Hannah/anaconda/envs/metis/lib/python3.8/site-packages/sklearn/ensemble/_forest.py:541: UserWarning: Some inputs do not have OOB scores. This probably means too few trees were used to compute any reliable oob estimates.\n",
      "  warn(\"Some inputs do not have OOB scores. \"\n",
      "/Users/Hannah/anaconda/envs/metis/lib/python3.8/site-packages/sklearn/ensemble/_forest.py:545: RuntimeWarning: invalid value encountered in true_divide\n",
      "  decision = (predictions[k] /\n",
      "  0%|          | 1/291 [00:00<00:32,  9.06it/s]/Users/Hannah/anaconda/envs/metis/lib/python3.8/site-packages/sklearn/ensemble/_forest.py:541: UserWarning: Some inputs do not have OOB scores. This probably means too few trees were used to compute any reliable oob estimates.\n",
      "  warn(\"Some inputs do not have OOB scores. \"\n",
      "/Users/Hannah/anaconda/envs/metis/lib/python3.8/site-packages/sklearn/ensemble/_forest.py:545: RuntimeWarning: invalid value encountered in true_divide\n",
      "  decision = (predictions[k] /\n",
      "  1%|          | 2/291 [00:00<00:30,  9.58it/s]/Users/Hannah/anaconda/envs/metis/lib/python3.8/site-packages/sklearn/ensemble/_forest.py:541: UserWarning: Some inputs do not have OOB scores. This probably means too few trees were used to compute any reliable oob estimates.\n",
      "  warn(\"Some inputs do not have OOB scores. \"\n",
      "/Users/Hannah/anaconda/envs/metis/lib/python3.8/site-packages/sklearn/ensemble/_forest.py:545: RuntimeWarning: invalid value encountered in true_divide\n",
      "  decision = (predictions[k] /\n",
      "/Users/Hannah/anaconda/envs/metis/lib/python3.8/site-packages/sklearn/ensemble/_forest.py:541: UserWarning: Some inputs do not have OOB scores. This probably means too few trees were used to compute any reliable oob estimates.\n",
      "  warn(\"Some inputs do not have OOB scores. \"\n",
      "/Users/Hannah/anaconda/envs/metis/lib/python3.8/site-packages/sklearn/ensemble/_forest.py:545: RuntimeWarning: invalid value encountered in true_divide\n",
      "  decision = (predictions[k] /\n",
      "  1%|▏         | 4/291 [00:00<00:28, 10.20it/s]/Users/Hannah/anaconda/envs/metis/lib/python3.8/site-packages/sklearn/ensemble/_forest.py:541: UserWarning: Some inputs do not have OOB scores. This probably means too few trees were used to compute any reliable oob estimates.\n",
      "  warn(\"Some inputs do not have OOB scores. \"\n",
      "/Users/Hannah/anaconda/envs/metis/lib/python3.8/site-packages/sklearn/ensemble/_forest.py:545: RuntimeWarning: invalid value encountered in true_divide\n",
      "  decision = (predictions[k] /\n",
      "/Users/Hannah/anaconda/envs/metis/lib/python3.8/site-packages/sklearn/ensemble/_forest.py:541: UserWarning: Some inputs do not have OOB scores. This probably means too few trees were used to compute any reliable oob estimates.\n",
      "  warn(\"Some inputs do not have OOB scores. \"\n",
      "/Users/Hannah/anaconda/envs/metis/lib/python3.8/site-packages/sklearn/ensemble/_forest.py:545: RuntimeWarning: invalid value encountered in true_divide\n",
      "  decision = (predictions[k] /\n",
      "  2%|▏         | 6/291 [00:00<00:28, 10.01it/s]/Users/Hannah/anaconda/envs/metis/lib/python3.8/site-packages/sklearn/ensemble/_forest.py:541: UserWarning: Some inputs do not have OOB scores. This probably means too few trees were used to compute any reliable oob estimates.\n",
      "  warn(\"Some inputs do not have OOB scores. \"\n",
      "/Users/Hannah/anaconda/envs/metis/lib/python3.8/site-packages/sklearn/ensemble/_forest.py:545: RuntimeWarning: invalid value encountered in true_divide\n",
      "  decision = (predictions[k] /\n",
      "  2%|▏         | 7/291 [00:00<00:29,  9.60it/s]/Users/Hannah/anaconda/envs/metis/lib/python3.8/site-packages/sklearn/ensemble/_forest.py:541: UserWarning: Some inputs do not have OOB scores. This probably means too few trees were used to compute any reliable oob estimates.\n",
      "  warn(\"Some inputs do not have OOB scores. \"\n",
      "/Users/Hannah/anaconda/envs/metis/lib/python3.8/site-packages/sklearn/ensemble/_forest.py:545: RuntimeWarning: invalid value encountered in true_divide\n",
      "  decision = (predictions[k] /\n",
      "  3%|▎         | 8/291 [00:00<00:30,  9.30it/s]/Users/Hannah/anaconda/envs/metis/lib/python3.8/site-packages/sklearn/ensemble/_forest.py:541: UserWarning: Some inputs do not have OOB scores. This probably means too few trees were used to compute any reliable oob estimates.\n",
      "  warn(\"Some inputs do not have OOB scores. \"\n",
      "/Users/Hannah/anaconda/envs/metis/lib/python3.8/site-packages/sklearn/ensemble/_forest.py:545: RuntimeWarning: invalid value encountered in true_divide\n",
      "  decision = (predictions[k] /\n",
      "  3%|▎         | 9/291 [00:00<00:30,  9.25it/s]/Users/Hannah/anaconda/envs/metis/lib/python3.8/site-packages/sklearn/ensemble/_forest.py:541: UserWarning: Some inputs do not have OOB scores. This probably means too few trees were used to compute any reliable oob estimates.\n",
      "  warn(\"Some inputs do not have OOB scores. \"\n",
      "/Users/Hannah/anaconda/envs/metis/lib/python3.8/site-packages/sklearn/ensemble/_forest.py:545: RuntimeWarning: invalid value encountered in true_divide\n",
      "  decision = (predictions[k] /\n",
      "  4%|▍         | 11/291 [00:01<00:31,  9.03it/s]/Users/Hannah/anaconda/envs/metis/lib/python3.8/site-packages/sklearn/ensemble/_forest.py:541: UserWarning: Some inputs do not have OOB scores. This probably means too few trees were used to compute any reliable oob estimates.\n",
      "  warn(\"Some inputs do not have OOB scores. \"\n",
      "/Users/Hannah/anaconda/envs/metis/lib/python3.8/site-packages/sklearn/ensemble/_forest.py:545: RuntimeWarning: invalid value encountered in true_divide\n",
      "  decision = (predictions[k] /\n",
      "100%|██████████| 291/291 [04:00<00:00,  1.21it/s]\n"
     ]
    }
   ],
   "source": [
    "oob_error_sqrt = []\n",
    "for i in tqdm(range(10, 300 + 1)):\n",
    "        rf = RandomForestClassifier(n_estimators=i, warm_start=True, oob_score=True, max_features='sqrt', bootstrap=True, n_jobs=-1)\n",
    "        rf.fit(X_train, y_train)\n",
    "\n",
    "        oob_error_sqrt.append(1.0 - rf.oob_score_)\n"
   ]
  },
  {
   "cell_type": "code",
   "execution_count": 49,
   "id": "fd9c86c3",
   "metadata": {
    "scrolled": true
   },
   "outputs": [
    {
     "name": "stderr",
     "output_type": "stream",
     "text": [
      "  0%|          | 0/291 [00:00<?, ?it/s]/Users/Hannah/anaconda/envs/metis/lib/python3.8/site-packages/sklearn/ensemble/_forest.py:541: UserWarning: Some inputs do not have OOB scores. This probably means too few trees were used to compute any reliable oob estimates.\n",
      "  warn(\"Some inputs do not have OOB scores. \"\n",
      "/Users/Hannah/anaconda/envs/metis/lib/python3.8/site-packages/sklearn/ensemble/_forest.py:545: RuntimeWarning: invalid value encountered in true_divide\n",
      "  decision = (predictions[k] /\n",
      "/Users/Hannah/anaconda/envs/metis/lib/python3.8/site-packages/sklearn/ensemble/_forest.py:541: UserWarning: Some inputs do not have OOB scores. This probably means too few trees were used to compute any reliable oob estimates.\n",
      "  warn(\"Some inputs do not have OOB scores. \"\n",
      "/Users/Hannah/anaconda/envs/metis/lib/python3.8/site-packages/sklearn/ensemble/_forest.py:545: RuntimeWarning: invalid value encountered in true_divide\n",
      "  decision = (predictions[k] /\n",
      "  1%|          | 2/291 [00:00<00:25, 11.54it/s]/Users/Hannah/anaconda/envs/metis/lib/python3.8/site-packages/sklearn/ensemble/_forest.py:541: UserWarning: Some inputs do not have OOB scores. This probably means too few trees were used to compute any reliable oob estimates.\n",
      "  warn(\"Some inputs do not have OOB scores. \"\n",
      "/Users/Hannah/anaconda/envs/metis/lib/python3.8/site-packages/sklearn/ensemble/_forest.py:545: RuntimeWarning: invalid value encountered in true_divide\n",
      "  decision = (predictions[k] /\n",
      "/Users/Hannah/anaconda/envs/metis/lib/python3.8/site-packages/sklearn/ensemble/_forest.py:541: UserWarning: Some inputs do not have OOB scores. This probably means too few trees were used to compute any reliable oob estimates.\n",
      "  warn(\"Some inputs do not have OOB scores. \"\n",
      "/Users/Hannah/anaconda/envs/metis/lib/python3.8/site-packages/sklearn/ensemble/_forest.py:545: RuntimeWarning: invalid value encountered in true_divide\n",
      "  decision = (predictions[k] /\n",
      "  1%|▏         | 4/291 [00:00<00:23, 12.42it/s]/Users/Hannah/anaconda/envs/metis/lib/python3.8/site-packages/sklearn/ensemble/_forest.py:541: UserWarning: Some inputs do not have OOB scores. This probably means too few trees were used to compute any reliable oob estimates.\n",
      "  warn(\"Some inputs do not have OOB scores. \"\n",
      "/Users/Hannah/anaconda/envs/metis/lib/python3.8/site-packages/sklearn/ensemble/_forest.py:545: RuntimeWarning: invalid value encountered in true_divide\n",
      "  decision = (predictions[k] /\n",
      "/Users/Hannah/anaconda/envs/metis/lib/python3.8/site-packages/sklearn/ensemble/_forest.py:541: UserWarning: Some inputs do not have OOB scores. This probably means too few trees were used to compute any reliable oob estimates.\n",
      "  warn(\"Some inputs do not have OOB scores. \"\n",
      "/Users/Hannah/anaconda/envs/metis/lib/python3.8/site-packages/sklearn/ensemble/_forest.py:545: RuntimeWarning: invalid value encountered in true_divide\n",
      "  decision = (predictions[k] /\n",
      "  2%|▏         | 6/291 [00:00<00:24, 11.86it/s]/Users/Hannah/anaconda/envs/metis/lib/python3.8/site-packages/sklearn/ensemble/_forest.py:541: UserWarning: Some inputs do not have OOB scores. This probably means too few trees were used to compute any reliable oob estimates.\n",
      "  warn(\"Some inputs do not have OOB scores. \"\n",
      "/Users/Hannah/anaconda/envs/metis/lib/python3.8/site-packages/sklearn/ensemble/_forest.py:545: RuntimeWarning: invalid value encountered in true_divide\n",
      "  decision = (predictions[k] /\n",
      "/Users/Hannah/anaconda/envs/metis/lib/python3.8/site-packages/sklearn/ensemble/_forest.py:541: UserWarning: Some inputs do not have OOB scores. This probably means too few trees were used to compute any reliable oob estimates.\n",
      "  warn(\"Some inputs do not have OOB scores. \"\n",
      "/Users/Hannah/anaconda/envs/metis/lib/python3.8/site-packages/sklearn/ensemble/_forest.py:545: RuntimeWarning: invalid value encountered in true_divide\n",
      "  decision = (predictions[k] /\n",
      "  3%|▎         | 8/291 [00:00<00:25, 11.21it/s]/Users/Hannah/anaconda/envs/metis/lib/python3.8/site-packages/sklearn/ensemble/_forest.py:541: UserWarning: Some inputs do not have OOB scores. This probably means too few trees were used to compute any reliable oob estimates.\n",
      "  warn(\"Some inputs do not have OOB scores. \"\n",
      "/Users/Hannah/anaconda/envs/metis/lib/python3.8/site-packages/sklearn/ensemble/_forest.py:545: RuntimeWarning: invalid value encountered in true_divide\n",
      "  decision = (predictions[k] /\n",
      "/Users/Hannah/anaconda/envs/metis/lib/python3.8/site-packages/sklearn/ensemble/_forest.py:541: UserWarning: Some inputs do not have OOB scores. This probably means too few trees were used to compute any reliable oob estimates.\n",
      "  warn(\"Some inputs do not have OOB scores. \"\n",
      "/Users/Hannah/anaconda/envs/metis/lib/python3.8/site-packages/sklearn/ensemble/_forest.py:545: RuntimeWarning: invalid value encountered in true_divide\n",
      "  decision = (predictions[k] /\n",
      "  3%|▎         | 10/291 [00:00<00:26, 10.47it/s]/Users/Hannah/anaconda/envs/metis/lib/python3.8/site-packages/sklearn/ensemble/_forest.py:541: UserWarning: Some inputs do not have OOB scores. This probably means too few trees were used to compute any reliable oob estimates.\n",
      "  warn(\"Some inputs do not have OOB scores. \"\n",
      "/Users/Hannah/anaconda/envs/metis/lib/python3.8/site-packages/sklearn/ensemble/_forest.py:545: RuntimeWarning: invalid value encountered in true_divide\n",
      "  decision = (predictions[k] /\n",
      "100%|██████████| 291/291 [04:07<00:00,  1.17it/s]\n"
     ]
    }
   ],
   "source": [
    "oob_error_log2 = []\n",
    "for i in tqdm(range(10, 300 + 1)):\n",
    "        rf = RandomForestClassifier(n_estimators=i, warm_start=True, oob_score=True, max_features='log2', bootstrap=True, n_jobs=-1)\n",
    "        rf.fit(X_train, y_train)\n",
    "\n",
    "        oob_error_log2.append(1.0 - rf.oob_score_)\n"
   ]
  },
  {
   "cell_type": "code",
   "execution_count": 50,
   "id": "e16176fa",
   "metadata": {
    "scrolled": true
   },
   "outputs": [
    {
     "name": "stderr",
     "output_type": "stream",
     "text": [
      "  0%|          | 0/291 [00:00<?, ?it/s]/Users/Hannah/anaconda/envs/metis/lib/python3.8/site-packages/sklearn/ensemble/_forest.py:541: UserWarning: Some inputs do not have OOB scores. This probably means too few trees were used to compute any reliable oob estimates.\n",
      "  warn(\"Some inputs do not have OOB scores. \"\n",
      "/Users/Hannah/anaconda/envs/metis/lib/python3.8/site-packages/sklearn/ensemble/_forest.py:545: RuntimeWarning: invalid value encountered in true_divide\n",
      "  decision = (predictions[k] /\n",
      "/Users/Hannah/anaconda/envs/metis/lib/python3.8/site-packages/sklearn/ensemble/_forest.py:541: UserWarning: Some inputs do not have OOB scores. This probably means too few trees were used to compute any reliable oob estimates.\n",
      "  warn(\"Some inputs do not have OOB scores. \"\n",
      "/Users/Hannah/anaconda/envs/metis/lib/python3.8/site-packages/sklearn/ensemble/_forest.py:545: RuntimeWarning: invalid value encountered in true_divide\n",
      "  decision = (predictions[k] /\n",
      "  1%|          | 2/291 [00:00<00:18, 15.41it/s]/Users/Hannah/anaconda/envs/metis/lib/python3.8/site-packages/sklearn/ensemble/_forest.py:541: UserWarning: Some inputs do not have OOB scores. This probably means too few trees were used to compute any reliable oob estimates.\n",
      "  warn(\"Some inputs do not have OOB scores. \"\n",
      "/Users/Hannah/anaconda/envs/metis/lib/python3.8/site-packages/sklearn/ensemble/_forest.py:545: RuntimeWarning: invalid value encountered in true_divide\n",
      "  decision = (predictions[k] /\n",
      "/Users/Hannah/anaconda/envs/metis/lib/python3.8/site-packages/sklearn/ensemble/_forest.py:541: UserWarning: Some inputs do not have OOB scores. This probably means too few trees were used to compute any reliable oob estimates.\n",
      "  warn(\"Some inputs do not have OOB scores. \"\n",
      "/Users/Hannah/anaconda/envs/metis/lib/python3.8/site-packages/sklearn/ensemble/_forest.py:545: RuntimeWarning: invalid value encountered in true_divide\n",
      "  decision = (predictions[k] /\n",
      "  1%|▏         | 4/291 [00:00<00:23, 12.09it/s]/Users/Hannah/anaconda/envs/metis/lib/python3.8/site-packages/sklearn/ensemble/_forest.py:541: UserWarning: Some inputs do not have OOB scores. This probably means too few trees were used to compute any reliable oob estimates.\n",
      "  warn(\"Some inputs do not have OOB scores. \"\n",
      "/Users/Hannah/anaconda/envs/metis/lib/python3.8/site-packages/sklearn/ensemble/_forest.py:545: RuntimeWarning: invalid value encountered in true_divide\n",
      "  decision = (predictions[k] /\n",
      "/Users/Hannah/anaconda/envs/metis/lib/python3.8/site-packages/sklearn/ensemble/_forest.py:541: UserWarning: Some inputs do not have OOB scores. This probably means too few trees were used to compute any reliable oob estimates.\n",
      "  warn(\"Some inputs do not have OOB scores. \"\n",
      "/Users/Hannah/anaconda/envs/metis/lib/python3.8/site-packages/sklearn/ensemble/_forest.py:545: RuntimeWarning: invalid value encountered in true_divide\n",
      "  decision = (predictions[k] /\n",
      "  2%|▏         | 6/291 [00:00<00:23, 11.96it/s]/Users/Hannah/anaconda/envs/metis/lib/python3.8/site-packages/sklearn/ensemble/_forest.py:541: UserWarning: Some inputs do not have OOB scores. This probably means too few trees were used to compute any reliable oob estimates.\n",
      "  warn(\"Some inputs do not have OOB scores. \"\n",
      "/Users/Hannah/anaconda/envs/metis/lib/python3.8/site-packages/sklearn/ensemble/_forest.py:545: RuntimeWarning: invalid value encountered in true_divide\n",
      "  decision = (predictions[k] /\n",
      "/Users/Hannah/anaconda/envs/metis/lib/python3.8/site-packages/sklearn/ensemble/_forest.py:541: UserWarning: Some inputs do not have OOB scores. This probably means too few trees were used to compute any reliable oob estimates.\n",
      "  warn(\"Some inputs do not have OOB scores. \"\n",
      "/Users/Hannah/anaconda/envs/metis/lib/python3.8/site-packages/sklearn/ensemble/_forest.py:545: RuntimeWarning: invalid value encountered in true_divide\n",
      "  decision = (predictions[k] /\n",
      "  3%|▎         | 8/291 [00:00<00:25, 10.91it/s]/Users/Hannah/anaconda/envs/metis/lib/python3.8/site-packages/sklearn/ensemble/_forest.py:541: UserWarning: Some inputs do not have OOB scores. This probably means too few trees were used to compute any reliable oob estimates.\n",
      "  warn(\"Some inputs do not have OOB scores. \"\n",
      "/Users/Hannah/anaconda/envs/metis/lib/python3.8/site-packages/sklearn/ensemble/_forest.py:545: RuntimeWarning: invalid value encountered in true_divide\n",
      "  decision = (predictions[k] /\n",
      "/Users/Hannah/anaconda/envs/metis/lib/python3.8/site-packages/sklearn/ensemble/_forest.py:541: UserWarning: Some inputs do not have OOB scores. This probably means too few trees were used to compute any reliable oob estimates.\n",
      "  warn(\"Some inputs do not have OOB scores. \"\n",
      "/Users/Hannah/anaconda/envs/metis/lib/python3.8/site-packages/sklearn/ensemble/_forest.py:545: RuntimeWarning: invalid value encountered in true_divide\n",
      "  decision = (predictions[k] /\n",
      "  3%|▎         | 10/291 [00:00<00:29,  9.49it/s]/Users/Hannah/anaconda/envs/metis/lib/python3.8/site-packages/sklearn/ensemble/_forest.py:541: UserWarning: Some inputs do not have OOB scores. This probably means too few trees were used to compute any reliable oob estimates.\n",
      "  warn(\"Some inputs do not have OOB scores. \"\n",
      "/Users/Hannah/anaconda/envs/metis/lib/python3.8/site-packages/sklearn/ensemble/_forest.py:545: RuntimeWarning: invalid value encountered in true_divide\n",
      "  decision = (predictions[k] /\n",
      "  4%|▍         | 11/291 [00:01<00:30,  9.21it/s]/Users/Hannah/anaconda/envs/metis/lib/python3.8/site-packages/sklearn/ensemble/_forest.py:541: UserWarning: Some inputs do not have OOB scores. This probably means too few trees were used to compute any reliable oob estimates.\n",
      "  warn(\"Some inputs do not have OOB scores. \"\n",
      "/Users/Hannah/anaconda/envs/metis/lib/python3.8/site-packages/sklearn/ensemble/_forest.py:545: RuntimeWarning: invalid value encountered in true_divide\n",
      "  decision = (predictions[k] /\n",
      "  4%|▍         | 13/291 [00:01<00:31,  8.81it/s]/Users/Hannah/anaconda/envs/metis/lib/python3.8/site-packages/sklearn/ensemble/_forest.py:541: UserWarning: Some inputs do not have OOB scores. This probably means too few trees were used to compute any reliable oob estimates.\n",
      "  warn(\"Some inputs do not have OOB scores. \"\n",
      "/Users/Hannah/anaconda/envs/metis/lib/python3.8/site-packages/sklearn/ensemble/_forest.py:545: RuntimeWarning: invalid value encountered in true_divide\n",
      "  decision = (predictions[k] /\n",
      "  5%|▌         | 16/291 [00:01<00:34,  7.93it/s]/Users/Hannah/anaconda/envs/metis/lib/python3.8/site-packages/sklearn/ensemble/_forest.py:541: UserWarning: Some inputs do not have OOB scores. This probably means too few trees were used to compute any reliable oob estimates.\n",
      "  warn(\"Some inputs do not have OOB scores. \"\n",
      "/Users/Hannah/anaconda/envs/metis/lib/python3.8/site-packages/sklearn/ensemble/_forest.py:545: RuntimeWarning: invalid value encountered in true_divide\n",
      "  decision = (predictions[k] /\n",
      "100%|██████████| 291/291 [04:43<00:00,  1.02it/s]\n"
     ]
    }
   ],
   "source": [
    "oob_error_auto = []\n",
    "for i in tqdm(range(10, 300 + 1)):\n",
    "        rf = RandomForestClassifier(n_estimators=i, warm_start=True, oob_score=True, max_features='auto', bootstrap=True, n_jobs=-1)\n",
    "        rf.fit(X_train, y_train)\n",
    "\n",
    "        oob_error_auto.append(1.0 - rf.oob_score_)\n",
    "        "
   ]
  },
  {
   "cell_type": "code",
   "execution_count": 51,
   "id": "e1db1187",
   "metadata": {
    "scrolled": true
   },
   "outputs": [
    {
     "name": "stderr",
     "output_type": "stream",
     "text": [
      "  0%|          | 0/291 [00:00<?, ?it/s]/Users/Hannah/anaconda/envs/metis/lib/python3.8/site-packages/sklearn/ensemble/_forest.py:541: UserWarning: Some inputs do not have OOB scores. This probably means too few trees were used to compute any reliable oob estimates.\n",
      "  warn(\"Some inputs do not have OOB scores. \"\n",
      "/Users/Hannah/anaconda/envs/metis/lib/python3.8/site-packages/sklearn/ensemble/_forest.py:545: RuntimeWarning: invalid value encountered in true_divide\n",
      "  decision = (predictions[k] /\n",
      "  0%|          | 1/291 [00:00<00:48,  6.01it/s]/Users/Hannah/anaconda/envs/metis/lib/python3.8/site-packages/sklearn/ensemble/_forest.py:541: UserWarning: Some inputs do not have OOB scores. This probably means too few trees were used to compute any reliable oob estimates.\n",
      "  warn(\"Some inputs do not have OOB scores. \"\n",
      "/Users/Hannah/anaconda/envs/metis/lib/python3.8/site-packages/sklearn/ensemble/_forest.py:545: RuntimeWarning: invalid value encountered in true_divide\n",
      "  decision = (predictions[k] /\n",
      "  1%|          | 2/291 [00:00<00:40,  7.19it/s]/Users/Hannah/anaconda/envs/metis/lib/python3.8/site-packages/sklearn/ensemble/_forest.py:541: UserWarning: Some inputs do not have OOB scores. This probably means too few trees were used to compute any reliable oob estimates.\n",
      "  warn(\"Some inputs do not have OOB scores. \"\n",
      "/Users/Hannah/anaconda/envs/metis/lib/python3.8/site-packages/sklearn/ensemble/_forest.py:545: RuntimeWarning: invalid value encountered in true_divide\n",
      "  decision = (predictions[k] /\n",
      "  1%|          | 3/291 [00:00<00:37,  7.77it/s]/Users/Hannah/anaconda/envs/metis/lib/python3.8/site-packages/sklearn/ensemble/_forest.py:541: UserWarning: Some inputs do not have OOB scores. This probably means too few trees were used to compute any reliable oob estimates.\n",
      "  warn(\"Some inputs do not have OOB scores. \"\n",
      "/Users/Hannah/anaconda/envs/metis/lib/python3.8/site-packages/sklearn/ensemble/_forest.py:545: RuntimeWarning: invalid value encountered in true_divide\n",
      "  decision = (predictions[k] /\n",
      "  1%|▏         | 4/291 [00:00<00:38,  7.54it/s]/Users/Hannah/anaconda/envs/metis/lib/python3.8/site-packages/sklearn/ensemble/_forest.py:541: UserWarning: Some inputs do not have OOB scores. This probably means too few trees were used to compute any reliable oob estimates.\n",
      "  warn(\"Some inputs do not have OOB scores. \"\n",
      "/Users/Hannah/anaconda/envs/metis/lib/python3.8/site-packages/sklearn/ensemble/_forest.py:545: RuntimeWarning: invalid value encountered in true_divide\n",
      "  decision = (predictions[k] /\n",
      "  2%|▏         | 5/291 [00:00<00:39,  7.21it/s]/Users/Hannah/anaconda/envs/metis/lib/python3.8/site-packages/sklearn/ensemble/_forest.py:541: UserWarning: Some inputs do not have OOB scores. This probably means too few trees were used to compute any reliable oob estimates.\n",
      "  warn(\"Some inputs do not have OOB scores. \"\n",
      "/Users/Hannah/anaconda/envs/metis/lib/python3.8/site-packages/sklearn/ensemble/_forest.py:545: RuntimeWarning: invalid value encountered in true_divide\n",
      "  decision = (predictions[k] /\n",
      "  2%|▏         | 6/291 [00:00<00:40,  6.96it/s]/Users/Hannah/anaconda/envs/metis/lib/python3.8/site-packages/sklearn/ensemble/_forest.py:541: UserWarning: Some inputs do not have OOB scores. This probably means too few trees were used to compute any reliable oob estimates.\n",
      "  warn(\"Some inputs do not have OOB scores. \"\n",
      "/Users/Hannah/anaconda/envs/metis/lib/python3.8/site-packages/sklearn/ensemble/_forest.py:545: RuntimeWarning: invalid value encountered in true_divide\n",
      "  decision = (predictions[k] /\n",
      "  2%|▏         | 7/291 [00:01<00:42,  6.64it/s]/Users/Hannah/anaconda/envs/metis/lib/python3.8/site-packages/sklearn/ensemble/_forest.py:541: UserWarning: Some inputs do not have OOB scores. This probably means too few trees were used to compute any reliable oob estimates.\n",
      "  warn(\"Some inputs do not have OOB scores. \"\n",
      "/Users/Hannah/anaconda/envs/metis/lib/python3.8/site-packages/sklearn/ensemble/_forest.py:545: RuntimeWarning: invalid value encountered in true_divide\n",
      "  decision = (predictions[k] /\n",
      "  3%|▎         | 8/291 [00:01<00:47,  5.99it/s]/Users/Hannah/anaconda/envs/metis/lib/python3.8/site-packages/sklearn/ensemble/_forest.py:541: UserWarning: Some inputs do not have OOB scores. This probably means too few trees were used to compute any reliable oob estimates.\n",
      "  warn(\"Some inputs do not have OOB scores. \"\n",
      "/Users/Hannah/anaconda/envs/metis/lib/python3.8/site-packages/sklearn/ensemble/_forest.py:545: RuntimeWarning: invalid value encountered in true_divide\n",
      "  decision = (predictions[k] /\n",
      "  3%|▎         | 10/291 [00:01<00:51,  5.45it/s]/Users/Hannah/anaconda/envs/metis/lib/python3.8/site-packages/sklearn/ensemble/_forest.py:541: UserWarning: Some inputs do not have OOB scores. This probably means too few trees were used to compute any reliable oob estimates.\n",
      "  warn(\"Some inputs do not have OOB scores. \"\n",
      "/Users/Hannah/anaconda/envs/metis/lib/python3.8/site-packages/sklearn/ensemble/_forest.py:545: RuntimeWarning: invalid value encountered in true_divide\n",
      "  decision = (predictions[k] /\n",
      "  4%|▍         | 11/291 [00:01<00:54,  5.16it/s]/Users/Hannah/anaconda/envs/metis/lib/python3.8/site-packages/sklearn/ensemble/_forest.py:541: UserWarning: Some inputs do not have OOB scores. This probably means too few trees were used to compute any reliable oob estimates.\n",
      "  warn(\"Some inputs do not have OOB scores. \"\n",
      "/Users/Hannah/anaconda/envs/metis/lib/python3.8/site-packages/sklearn/ensemble/_forest.py:545: RuntimeWarning: invalid value encountered in true_divide\n",
      "  decision = (predictions[k] /\n",
      "100%|██████████| 291/291 [06:15<00:00,  1.29s/it]\n"
     ]
    }
   ],
   "source": [
    "oob_error_none = []\n",
    "for i in tqdm(range(10, 300 + 1)):\n",
    "        rf = RandomForestClassifier(n_estimators=i, warm_start=True, oob_score=True, max_features=None, bootstrap=True, n_jobs=-1)\n",
    "        rf.fit(X_train, y_train)\n",
    "\n",
    "        oob_error_none.append(1.0 - rf.oob_score_)\n",
    "        "
   ]
  },
  {
   "cell_type": "code",
   "execution_count": 52,
   "id": "c3c17cf1",
   "metadata": {},
   "outputs": [
    {
     "data": {
      "image/png": "[encoded data removed]",
      "text/plain": [
       "<Figure size 432x288 with 1 Axes>"
      ]
     },
     "metadata": {
      "needs_background": "light"
     },
     "output_type": "display_data"
    }
   ],
   "source": [
    "errors = [oob_error_sqrt, oob_error_log2, oob_error_auto, oob_error_none]\n",
    "labels = ['sqrt', 'log2', 'auto', 'None']\n",
    "\n",
    "for i,error in enumerate(errors):\n",
    "    plt.plot(list(range(10, 300 + 1)), error, label=f\"max_features='{labels[i]}'\")\n",
    "\n",
    "plt.legend();\n"
   ]
  },
  {
   "cell_type": "markdown",
   "id": "1af367b0",
   "metadata": {},
   "source": [
    "Notes:\n",
    "- Final Random Forest model parameters:\n",
    "    - n_estimators=150\n",
    "    - criterion='gini' (default)\n",
    "    - min_samples_split=2 (default)\n",
    "    - min_samples_leaf=1 (default)\n",
    "    - max_features='sqrt' (suggested for classification, and performs as well as log2 and auto)\n",
    "    - bootstrap=True\n",
    "    - n_jobs=-1\n",
    "    "
   ]
  },
  {
   "cell_type": "code",
   "execution_count": 53,
   "id": "fb1b26a7",
   "metadata": {},
   "outputs": [
    {
     "name": "stdout",
     "output_type": "stream",
     "text": [
      "Validation set scores:\n",
      "\n",
      "\tAccuracy:\t 0.9907\n",
      "\tPrecision:\t 0.9937\n",
      "\tRecall:\t\t 0.9903\n",
      "\tF1:\t\t 0.9920\n",
      "\tFbeta (beta=2):\t 0.9910\n",
      "\tAUC:\t\t 0.9907\n"
     ]
    }
   ],
   "source": [
    "rf = RandomForestClassifier(n_estimators=150, max_features='sqrt',\n",
    "                            bootstrap=True, n_jobs=-1)\n",
    "rf.fit(X_train, y_train)\n",
    "\n",
    "y_rf_pred = rf.predict(X_val)\n",
    "y_rf_pred_prob = rf.predict_proba(X_val)[:, 1]\n",
    "\n",
    "print('Validation set scores:\\n')\n",
    "print(f'\\tAccuracy:\\t {accuracy_score(y_val, y_rf_pred):.4f}')\n",
    "print(f'\\tPrecision:\\t {precision_score(y_val, y_rf_pred):.4f}')\n",
    "print(f'\\tRecall:\\t\\t {recall_score(y_val, y_rf_pred):.4f}')\n",
    "print(f'\\tF1:\\t\\t {f1_score(y_val, y_rf_pred):.4f}')\n",
    "print(f'\\tFbeta (beta=2):\\t {fbeta_score(y_val, y_rf_pred, beta=2):.4f}')\n",
    "print(f'\\tAUC:\\t\\t {roc_auc_score(y_val, y_rf_pred):.4f}')\n"
   ]
  },
  {
   "cell_type": "code",
   "execution_count": 54,
   "id": "50acc0a3",
   "metadata": {},
   "outputs": [
    {
     "data": {
      "image/png": "[encoded data removed]",
      "text/plain": [
       "<Figure size 432x288 with 2 Axes>"
      ]
     },
     "metadata": {
      "needs_background": "light"
     },
     "output_type": "display_data"
    }
   ],
   "source": [
    "plot_confusion_matrix(rf, X_val, y_val,\n",
    "                      display_labels=['Normal', 'Not normal'],\n",
    "                      cmap=plt.cm.Blues,\n",
    "                      normalize='true');\n"
   ]
  },
  {
   "cell_type": "markdown",
   "id": "50fdab7e",
   "metadata": {},
   "source": [
    "# Final model training (full dataset)"
   ]
  },
  {
   "cell_type": "markdown",
   "id": "5416d53f",
   "metadata": {},
   "source": [
    "- Combine train/validation data and retrain the model on the full trianing set, using the best parameters from GridSearchCV above"
   ]
  },
  {
   "cell_type": "code",
   "execution_count": 55,
   "id": "e9a40208",
   "metadata": {},
   "outputs": [],
   "source": [
    "X = df[['acceleration_score', 'braking_score', 'turning_score', 'weaving_score',\n",
    "       'drifting_score', 'speeding_score', 'follow_score', 'speed_mph', 'road_type_dummy', 'night_dummy']]\n",
    "y = df['class_normal_bool']\n",
    "\n",
    "X_train, X_test, y_train, y_test = train_test_split(X, y, test_size=0.2, random_state=42)\n"
   ]
  },
  {
   "cell_type": "code",
   "execution_count": 56,
   "id": "de51ce55",
   "metadata": {},
   "outputs": [
    {
     "data": {
      "text/plain": [
       "((24600, 10), (24600,))"
      ]
     },
     "execution_count": 56,
     "metadata": {},
     "output_type": "execute_result"
    }
   ],
   "source": [
    "X_train.shape, y_train.shape"
   ]
  },
  {
   "cell_type": "code",
   "execution_count": 57,
   "id": "a367f183",
   "metadata": {},
   "outputs": [
    {
     "data": {
      "text/plain": [
       "((6151, 10), (6151,))"
      ]
     },
     "execution_count": 57,
     "metadata": {},
     "output_type": "execute_result"
    }
   ],
   "source": [
    "X_test.shape, y_test.shape"
   ]
  },
  {
   "cell_type": "code",
   "execution_count": 58,
   "id": "c1eaa928",
   "metadata": {},
   "outputs": [
    {
     "data": {
      "text/plain": [
       "RandomForestClassifier(max_features='sqrt', n_estimators=150, n_jobs=-1)"
      ]
     },
     "execution_count": 58,
     "metadata": {},
     "output_type": "execute_result"
    }
   ],
   "source": [
    "rf_final = RandomForestClassifier(n_estimators=150, max_features='sqrt',\n",
    "                                  bootstrap=True, n_jobs=-1)\n",
    "\n",
    "rf_final.fit(X_train, y_train)\n"
   ]
  },
  {
   "cell_type": "code",
   "execution_count": 59,
   "id": "0bce0c42",
   "metadata": {},
   "outputs": [
    {
     "name": "stdout",
     "output_type": "stream",
     "text": [
      "Test set scores:\n",
      "\n",
      "\tAccuracy:\t 0.9927\n",
      "\tPrecision:\t 0.9958\n",
      "\tRecall:\t\t 0.9916\n",
      "\tF1:\t\t 0.9937\n",
      "\tFbeta (beta=2):\t 0.9925\n",
      "\tAUC:\t\t 0.9929\n"
     ]
    }
   ],
   "source": [
    "y_rf_final_pred = rf_final.predict(X_test)\n",
    "y_rf_final_pred_prob = rf_final.predict_proba(X_test)[:, 1]\n",
    "\n",
    "print('Test set scores:\\n')\n",
    "print(f'\\tAccuracy:\\t {accuracy_score(y_test, y_rf_final_pred):.4f}')\n",
    "print(f'\\tPrecision:\\t {precision_score(y_test, y_rf_final_pred):.4f}')\n",
    "print(f'\\tRecall:\\t\\t {recall_score(y_test, y_rf_final_pred):.4f}')\n",
    "print(f'\\tF1:\\t\\t {f1_score(y_test, y_rf_final_pred):.4f}')\n",
    "print(f'\\tFbeta (beta=2):\\t {fbeta_score(y_test, y_rf_final_pred, beta=2):.4f}')\n",
    "print(f'\\tAUC:\\t\\t {roc_auc_score(y_test, y_rf_final_pred):.4f}')\n"
   ]
  },
  {
   "cell_type": "code",
   "execution_count": 74,
   "id": "027f15a5",
   "metadata": {},
   "outputs": [
    {
     "data": {
      "image/png": "[encoded data removed]",
      "text/plain": [
       "<Figure size 360x360 with 1 Axes>"
      ]
     },
     "metadata": {
      "needs_background": "light"
     },
     "output_type": "display_data"
    }
   ],
   "source": [
    "base_fpr, base_tpr, _ = roc_curve(y_test, [1 for _ in range(len(y_test))])\n",
    "model_fpr, model_tpr, _ = roc_curve(y_test, y_rf_final_pred_prob)\n",
    "\n",
    "fig, ax = plt.subplots(figsize=(5,5))\n",
    "ax.tick_params(labelsize=12)\n",
    "\n",
    "ax.plot(base_fpr, base_tpr, 'b--', label = 'Baseline')\n",
    "ax.plot(model_fpr, model_tpr, 'r', label = 'Final RF model')\n",
    "\n",
    "ax.set_xlabel('False Positive Rate', fontsize=16)\n",
    "ax.set_ylabel('True Positive Rate', fontsize=16)\n",
    "\n",
    "ax.set_title('ROC Curve', fontsize=20)\n",
    "\n",
    "ax.legend(fontsize=12)\n",
    "\n",
    "fig.tight_layout()\n",
    "\n",
    "fig.savefig('figures/roc_curve_final.png', dpi=300)\n"
   ]
  },
  {
   "cell_type": "code",
   "execution_count": 61,
   "id": "a9c4fc47",
   "metadata": {},
   "outputs": [
    {
     "data": {
      "image/png": "[encoded data removed]",
      "text/plain": [
       "<Figure size 432x288 with 2 Axes>"
      ]
     },
     "metadata": {
      "needs_background": "light"
     },
     "output_type": "display_data"
    }
   ],
   "source": [
    "plot_confusion_matrix(rf_final, X_test, y_test,\n",
    "                      display_labels=['Normal', 'Not normal'],\n",
    "                      cmap=plt.cm.Blues,\n",
    "                      normalize='true');\n"
   ]
  },
  {
   "cell_type": "code",
   "execution_count": 62,
   "id": "2b387579",
   "metadata": {},
   "outputs": [],
   "source": [
    "importance = rf_final.feature_importances_\n",
    "importance_std = np.std([tree.feature_importances_ for tree in rf_final.estimators_], axis=0)\n",
    "features = np.array(['acceleration', 'braking', 'turning', 'weaving',\n",
    "            'drifting', 'speeding', 'follow', 'speed (mph)', 'road type', 'day-night'])\n",
    "\n",
    "d = {'feature':features, 'importance':importance, 'importance_std':importance_std}\n",
    "importance_df = pd.DataFrame(data=d)\n",
    "importance_df.sort_values(['importance'], ascending=True, inplace=True)\n"
   ]
  },
  {
   "cell_type": "code",
   "execution_count": 65,
   "id": "9a81c01b",
   "metadata": {},
   "outputs": [
    {
     "data": {
      "image/png": "[encoded data removed]",
      "text/plain": [
       "<Figure size 360x360 with 1 Axes>"
      ]
     },
     "metadata": {
      "needs_background": "light"
     },
     "output_type": "display_data"
    }
   ],
   "source": [
    "fig, ax = plt.subplots(figsize=(5,5))\n",
    "ax.tick_params(labelsize=12)\n",
    "\n",
    "ax.barh(y=importance_df['feature'], width=importance_df['importance'], xerr=importance_df['importance_std'], color='dodgerblue')\n",
    "ax.set_xlabel('Gini Importance', fontsize=16)\n",
    "ax.set_ylabel('Features', fontsize=16)\n",
    "fig.tight_layout()\n",
    "\n",
    "fig.savefig('figures/feature_importance_errors.png', dpi=300)\n"
   ]
  },
  {
   "cell_type": "code",
   "execution_count": 66,
   "id": "397fe105",
   "metadata": {},
   "outputs": [
    {
     "data": {
      "image/png": "[encoded data removed]",
      "text/plain": [
       "<Figure size 360x360 with 1 Axes>"
      ]
     },
     "metadata": {
      "needs_background": "light"
     },
     "output_type": "display_data"
    }
   ],
   "source": [
    "fig, ax = plt.subplots(figsize=(5,5))\n",
    "ax.tick_params(labelsize=12)\n",
    "\n",
    "ax.barh(y=importance_df['feature'], width=importance_df['importance'], color='dodgerblue')\n",
    "ax.set_xlabel('Gini Importance', fontsize=16)\n",
    "ax.set_ylabel('Features', fontsize=16)\n",
    "fig.tight_layout()\n",
    "\n",
    "fig.savefig('figures/feature_importance.png', dpi=300)"
   ]
  },
  {
   "cell_type": "code",
   "execution_count": 64,
   "id": "531dc088",
   "metadata": {},
   "outputs": [],
   "source": [
    "import os\n",
    "import pickle\n",
    "\n",
    "if not os.path.exists(os.path.dirname('models/')):\n",
    "    os.makedirs(os.path.dirname('models/'))\n",
    "    \n",
    "with open('models/rf_final.pickle', 'wb+') as pfile:\n",
    "        pickle.dump(rf_final, pfile)\n",
    "        "
   ]
  },
  {
   "cell_type": "code",
   "execution_count": null,
   "id": "e97391b8",
   "metadata": {},
   "outputs": [],
   "source": []
  }
 ],
 "metadata": {
  "kernelspec": {
   "display_name": "Python [conda env:metis] *",
   "language": "python",
   "name": "conda-env-metis-py"
  },
  "language_info": {
   "codemirror_mode": {
    "name": "ipython",
    "version": 3
   },
   "file_extension": ".py",
   "mimetype": "text/x-python",
   "name": "python",
   "nbconvert_exporter": "python",
   "pygments_lexer": "ipython3",
   "version": "3.8.10"
  }
 },
 "nbformat": 4,
 "nbformat_minor": 5
}
