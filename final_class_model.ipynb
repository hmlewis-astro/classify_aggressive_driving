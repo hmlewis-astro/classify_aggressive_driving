{
 "cells": [
  {
   "cell_type": "code",
   "execution_count": null,
   "id": "c3231913",
   "metadata": {},
   "outputs": [],
   "source": [
    "#!pip install -r requirements.txt"
   ]
  },
  {
   "cell_type": "code",
   "execution_count": null,
   "id": "4ae6d0c2",
   "metadata": {},
   "outputs": [],
   "source": [
    "import os\n",
    "import pickle\n",
    "\n",
    "import numpy as np\n",
    "import pandas as pd\n",
    "\n",
    "import matplotlib as mpl\n",
    "import matplotlib.pyplot as plt\n",
    "import seaborn as sns\n",
    "\n",
    "from sklearn.ensemble import RandomForestClassifier\n",
    "import sklearn\n",
    "\n",
    "from sklearn.model_selection import train_test_split\n",
    "from sklearn.metrics import make_scorer, confusion_matrix, fbeta_score\n",
    "\n",
    "from ipywidgets import interact, interactive, interact_manual, FloatSlider, IntSlider, Layout\n",
    "from IPython.display import Image\n"
   ]
  },
  {
   "cell_type": "code",
   "execution_count": null,
   "id": "dc7e8a82",
   "metadata": {},
   "outputs": [],
   "source": [
    "def load_data(filepath):\n",
    "    \n",
    "    df = pd.read_csv(filepath, index_col=0)\n",
    "    df['road_type_dummy'] = pd.get_dummies(df['road_type'], drop_first=True)\n",
    "    df['night_dummy'] = pd.get_dummies(df['day_night'], drop_first=True)\n",
    "\n",
    "    X = df[['acceleration_score', 'braking_score', 'turning_score', 'weaving_score',\n",
    "       'drifting_score', 'speeding_score', 'follow_score', 'speed_mph', 'road_type_dummy', 'night_dummy']]\n",
    "    y = df['class_normal_bool']\n",
    "\n",
    "    X_train, X_test, y_train, y_test = train_test_split(X, y, test_size=0.2, random_state=42)\n",
    "\n",
    "    return X_train, X_test, y_train, y_test\n"
   ]
  },
  {
   "cell_type": "code",
   "execution_count": null,
   "id": "6f3fb243",
   "metadata": {},
   "outputs": [],
   "source": [
    "def load_model(filepath):\n",
    "    \n",
    "    with open(filepath, \"rb\") as pfile:\n",
    "        rf_final = pickle.load(pfile)\n",
    "        \n",
    "    return rf_final"
   ]
  },
  {
   "cell_type": "code",
   "execution_count": null,
   "id": "44a14858",
   "metadata": {},
   "outputs": [],
   "source": [
    "X_train, X_test, y_train, y_test = load_data('UAH-DRIVESET-classification.csv')"
   ]
  },
  {
   "cell_type": "code",
   "execution_count": null,
   "id": "2cc46180",
   "metadata": {},
   "outputs": [],
   "source": [
    "rf_final = load_model('models/rf_final.pickle')\n",
    "\n",
    "y_rf_final_pred = rf_final.predict(X_test)\n",
    "y_rf_final_pred_prob = rf_final.predict_proba(X_test)[:, 1]\n",
    "\n",
    "print('Test set scores:\\n')\n",
    "print(f'\\tFbeta (beta=2):\\t {fbeta_score(y_test, y_rf_final_pred, beta=2):.4f}')\n"
   ]
  },
  {
   "cell_type": "code",
   "execution_count": null,
   "id": "57310cf1",
   "metadata": {},
   "outputs": [],
   "source": [
    "road_dummies_dict = {'Highway':0, 'Secondary':1}\n",
    "night_dummies_dict = {'Day':0, 'Night':1}\n",
    "\n",
    "class_dict = {0: 'Normal', 1:'Abnormal'}\n"
   ]
  },
  {
   "cell_type": "code",
   "execution_count": null,
   "id": "a7850cf2",
   "metadata": {},
   "outputs": [],
   "source": [
    "def new_prediction(acc, brake, turn, weave, drift, speeding, follow, speed, road_type='Highway', night='Day'):\n",
    "    road_type_bool = road_dummies_dict[road_type]\n",
    "    night_bool = night_dummies_dict[night]\n",
    "\n",
    "    new_test = np.array([acc, brake, turn, weave, drift, speeding, follow, speed, road_type_bool, night_bool]).reshape(1, -1)\n",
    "    y_pred = rf_final.predict(new_test)[0]\n",
    "    y_pred_prob = rf_final.predict_proba(new_test)[:, 1][0]\n",
    "    \n",
    "    print(f'Predicted: {class_dict[y_pred]} driving')\n",
    "    print(f'(Probability: {y_pred_prob:.2f})')\n",
    "    display(Image(filename=f'figures/{class_dict[y_pred]}.png', width=225) )\n",
    "    \n",
    "    return\n"
   ]
  },
  {
   "cell_type": "code",
   "execution_count": null,
   "id": "376f3cd9",
   "metadata": {},
   "outputs": [],
   "source": [
    "interactive(lambda Acceleration: new_prediction(Acceleration,100,100,100,100,100,100,45,'Highway','Day'), Acceleration=(0,100,1))\n"
   ]
  },
  {
   "cell_type": "code",
   "execution_count": null,
   "id": "5352b187",
   "metadata": {},
   "outputs": [],
   "source": [
    "im = interact_manual(new_prediction, acc=IntSlider(100,0,100,1), brake=IntSlider(100,0,100,1), turn=IntSlider(100,0,100,1),\n",
    "         weave=IntSlider(100,0,100,1), drift=IntSlider(100,0,100,1), speeding=IntSlider(100,0,100,1),\n",
    "         follow=IntSlider(100,0,100,1), speed=IntSlider(40,30,80,1),\n",
    "         road_type=['Highway','Secondary'], night=['Day','Night']);\n",
    "\n",
    "labels = ['Acceleration', 'Braking', 'Turning', 'Weaving', 'Drifting', 'Speeding', 'Following']\n",
    "for i,lab in enumerate(labels):\n",
    "    im.widget.children[i].description = f'{lab}'\n",
    "\n",
    "im.widget.children[i+1].description = 'Speed (mph)'\n",
    "im.widget.children[i+2].description = 'Road type'\n",
    "im.widget.children[i+3].description = 'Lighting'\n"
   ]
  },
  {
   "cell_type": "code",
   "execution_count": null,
   "id": "f7d36cdf",
   "metadata": {},
   "outputs": [],
   "source": []
  }
 ],
 "metadata": {
  "kernelspec": {
   "display_name": "Python [conda env:metis] *",
   "language": "python",
   "name": "conda-env-metis-py"
  },
  "language_info": {
   "codemirror_mode": {
    "name": "ipython",
    "version": 3
   },
   "file_extension": ".py",
   "mimetype": "text/x-python",
   "name": "python",
   "nbconvert_exporter": "python",
   "pygments_lexer": "ipython3",
   "version": "3.8.10"
  }
 },
 "nbformat": 4,
 "nbformat_minor": 5
}
