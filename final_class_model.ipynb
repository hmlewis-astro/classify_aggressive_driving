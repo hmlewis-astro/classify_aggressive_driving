{
 "cells": [
  {
   "cell_type": "code",
   "execution_count": 12,
   "id": "088d51ce",
   "metadata": {},
   "outputs": [
    {
     "name": "stdout",
     "output_type": "stream",
     "text": [
      "Requirement already satisfied: numpy==1.19.5 in /Users/Hannah/anaconda/envs/metis/lib/python3.8/site-packages (from -r requirements.txt (line 1)) (1.19.5)\n",
      "Requirement already satisfied: pandas==1.2.5 in /Users/Hannah/anaconda/envs/metis/lib/python3.8/site-packages (from -r requirements.txt (line 2)) (1.2.5)\n",
      "Requirement already satisfied: matplotlib==3.4.2 in /Users/Hannah/anaconda/envs/metis/lib/python3.8/site-packages (from -r requirements.txt (line 3)) (3.4.2)\n",
      "Requirement already satisfied: seaborn==0.11.1 in /Users/Hannah/anaconda/envs/metis/lib/python3.8/site-packages (from -r requirements.txt (line 4)) (0.11.1)\n",
      "Requirement already satisfied: scikit-learn==0.24.2 in /Users/Hannah/anaconda/envs/metis/lib/python3.8/site-packages (from -r requirements.txt (line 5)) (0.24.2)\n",
      "Requirement already satisfied: ipywidgets==7.6.3 in /Users/Hannah/anaconda/envs/metis/lib/python3.8/site-packages (from -r requirements.txt (line 6)) (7.6.3)\n",
      "Requirement already satisfied: IPython==7.25.0 in /Users/Hannah/anaconda/envs/metis/lib/python3.8/site-packages (from -r requirements.txt (line 7)) (7.25.0)\n",
      "Requirement already satisfied: python-dateutil>=2.7.3 in /Users/Hannah/anaconda/envs/metis/lib/python3.8/site-packages (from pandas==1.2.5->-r requirements.txt (line 2)) (2.8.1)\n",
      "Requirement already satisfied: pytz>=2017.3 in /Users/Hannah/anaconda/envs/metis/lib/python3.8/site-packages (from pandas==1.2.5->-r requirements.txt (line 2)) (2021.1)\n",
      "Requirement already satisfied: pyparsing>=2.2.1 in /Users/Hannah/anaconda/envs/metis/lib/python3.8/site-packages (from matplotlib==3.4.2->-r requirements.txt (line 3)) (2.4.7)\n",
      "Requirement already satisfied: kiwisolver>=1.0.1 in /Users/Hannah/anaconda/envs/metis/lib/python3.8/site-packages (from matplotlib==3.4.2->-r requirements.txt (line 3)) (1.3.1)\n",
      "Requirement already satisfied: pillow>=6.2.0 in /Users/Hannah/anaconda/envs/metis/lib/python3.8/site-packages (from matplotlib==3.4.2->-r requirements.txt (line 3)) (8.2.0)\n",
      "Requirement already satisfied: cycler>=0.10 in /Users/Hannah/anaconda/envs/metis/lib/python3.8/site-packages (from matplotlib==3.4.2->-r requirements.txt (line 3)) (0.10.0)\n",
      "Requirement already satisfied: scipy>=1.0 in /Users/Hannah/anaconda/envs/metis/lib/python3.8/site-packages (from seaborn==0.11.1->-r requirements.txt (line 4)) (1.7.0)\n",
      "Requirement already satisfied: threadpoolctl>=2.0.0 in /Users/Hannah/anaconda/envs/metis/lib/python3.8/site-packages (from scikit-learn==0.24.2->-r requirements.txt (line 5)) (2.1.0)\n",
      "Requirement already satisfied: joblib>=0.11 in /Users/Hannah/anaconda/envs/metis/lib/python3.8/site-packages (from scikit-learn==0.24.2->-r requirements.txt (line 5)) (1.0.1)\n",
      "Requirement already satisfied: traitlets>=4.3.1 in /Users/Hannah/anaconda/envs/metis/lib/python3.8/site-packages (from ipywidgets==7.6.3->-r requirements.txt (line 6)) (5.0.5)\n",
      "Requirement already satisfied: widgetsnbextension~=3.5.0 in /Users/Hannah/anaconda/envs/metis/lib/python3.8/site-packages (from ipywidgets==7.6.3->-r requirements.txt (line 6)) (3.5.1)\n",
      "Requirement already satisfied: jupyterlab-widgets>=1.0.0 in /Users/Hannah/anaconda/envs/metis/lib/python3.8/site-packages (from ipywidgets==7.6.3->-r requirements.txt (line 6)) (1.0.0)\n",
      "Requirement already satisfied: ipykernel>=4.5.1 in /Users/Hannah/anaconda/envs/metis/lib/python3.8/site-packages (from ipywidgets==7.6.3->-r requirements.txt (line 6)) (5.5.5)\n",
      "Requirement already satisfied: nbformat>=4.2.0 in /Users/Hannah/anaconda/envs/metis/lib/python3.8/site-packages (from ipywidgets==7.6.3->-r requirements.txt (line 6)) (5.1.3)\n",
      "Requirement already satisfied: pexpect>4.3 in /Users/Hannah/anaconda/envs/metis/lib/python3.8/site-packages (from IPython==7.25.0->-r requirements.txt (line 7)) (4.8.0)\n",
      "Requirement already satisfied: prompt-toolkit!=3.0.0,!=3.0.1,<3.1.0,>=2.0.0 in /Users/Hannah/anaconda/envs/metis/lib/python3.8/site-packages (from IPython==7.25.0->-r requirements.txt (line 7)) (3.0.19)\n",
      "Requirement already satisfied: pickleshare in /Users/Hannah/anaconda/envs/metis/lib/python3.8/site-packages (from IPython==7.25.0->-r requirements.txt (line 7)) (0.7.5)\n",
      "Requirement already satisfied: matplotlib-inline in /Users/Hannah/anaconda/envs/metis/lib/python3.8/site-packages (from IPython==7.25.0->-r requirements.txt (line 7)) (0.1.2)\n",
      "Requirement already satisfied: setuptools>=18.5 in /Users/Hannah/anaconda/envs/metis/lib/python3.8/site-packages (from IPython==7.25.0->-r requirements.txt (line 7)) (49.6.0.post20210108)\n",
      "Requirement already satisfied: backcall in /Users/Hannah/anaconda/envs/metis/lib/python3.8/site-packages (from IPython==7.25.0->-r requirements.txt (line 7)) (0.2.0)\n",
      "Requirement already satisfied: appnope in /Users/Hannah/anaconda/envs/metis/lib/python3.8/site-packages (from IPython==7.25.0->-r requirements.txt (line 7)) (0.1.2)\n",
      "Requirement already satisfied: pygments in /Users/Hannah/anaconda/envs/metis/lib/python3.8/site-packages (from IPython==7.25.0->-r requirements.txt (line 7)) (2.9.0)\n",
      "Requirement already satisfied: jedi>=0.16 in /Users/Hannah/anaconda/envs/metis/lib/python3.8/site-packages (from IPython==7.25.0->-r requirements.txt (line 7)) (0.18.0)\n",
      "Requirement already satisfied: decorator in /Users/Hannah/anaconda/envs/metis/lib/python3.8/site-packages (from IPython==7.25.0->-r requirements.txt (line 7)) (4.4.2)\n",
      "Requirement already satisfied: six in /Users/Hannah/anaconda/envs/metis/lib/python3.8/site-packages (from cycler>=0.10->matplotlib==3.4.2->-r requirements.txt (line 3)) (1.15.0)\n",
      "Requirement already satisfied: tornado>=4.2 in /Users/Hannah/anaconda/envs/metis/lib/python3.8/site-packages (from ipykernel>=4.5.1->ipywidgets==7.6.3->-r requirements.txt (line 6)) (6.1)\n",
      "Requirement already satisfied: jupyter-client in /Users/Hannah/anaconda/envs/metis/lib/python3.8/site-packages (from ipykernel>=4.5.1->ipywidgets==7.6.3->-r requirements.txt (line 6)) (6.1.12)\n",
      "Requirement already satisfied: parso<0.9.0,>=0.8.0 in /Users/Hannah/anaconda/envs/metis/lib/python3.8/site-packages (from jedi>=0.16->IPython==7.25.0->-r requirements.txt (line 7)) (0.8.2)\n",
      "Requirement already satisfied: jsonschema!=2.5.0,>=2.4 in /Users/Hannah/anaconda/envs/metis/lib/python3.8/site-packages (from nbformat>=4.2.0->ipywidgets==7.6.3->-r requirements.txt (line 6)) (3.2.0)\n",
      "Requirement already satisfied: ipython-genutils in /Users/Hannah/anaconda/envs/metis/lib/python3.8/site-packages (from nbformat>=4.2.0->ipywidgets==7.6.3->-r requirements.txt (line 6)) (0.2.0)\n",
      "Requirement already satisfied: jupyter-core in /Users/Hannah/anaconda/envs/metis/lib/python3.8/site-packages (from nbformat>=4.2.0->ipywidgets==7.6.3->-r requirements.txt (line 6)) (4.7.1)\n",
      "Requirement already satisfied: pyrsistent>=0.14.0 in /Users/Hannah/anaconda/envs/metis/lib/python3.8/site-packages (from jsonschema!=2.5.0,>=2.4->nbformat>=4.2.0->ipywidgets==7.6.3->-r requirements.txt (line 6)) (0.17.3)\n",
      "Requirement already satisfied: attrs>=17.4.0 in /Users/Hannah/anaconda/envs/metis/lib/python3.8/site-packages (from jsonschema!=2.5.0,>=2.4->nbformat>=4.2.0->ipywidgets==7.6.3->-r requirements.txt (line 6)) (21.2.0)\n",
      "Requirement already satisfied: ptyprocess>=0.5 in /Users/Hannah/anaconda/envs/metis/lib/python3.8/site-packages (from pexpect>4.3->IPython==7.25.0->-r requirements.txt (line 7)) (0.7.0)\n",
      "Requirement already satisfied: wcwidth in /Users/Hannah/anaconda/envs/metis/lib/python3.8/site-packages (from prompt-toolkit!=3.0.0,!=3.0.1,<3.1.0,>=2.0.0->IPython==7.25.0->-r requirements.txt (line 7)) (0.2.5)\n",
      "Requirement already satisfied: notebook>=4.4.1 in /Users/Hannah/anaconda/envs/metis/lib/python3.8/site-packages (from widgetsnbextension~=3.5.0->ipywidgets==7.6.3->-r requirements.txt (line 6)) (6.4.0)\n",
      "Requirement already satisfied: jinja2 in /Users/Hannah/anaconda/envs/metis/lib/python3.8/site-packages (from notebook>=4.4.1->widgetsnbextension~=3.5.0->ipywidgets==7.6.3->-r requirements.txt (line 6)) (3.0.1)\n",
      "Requirement already satisfied: pyzmq>=17 in /Users/Hannah/anaconda/envs/metis/lib/python3.8/site-packages (from notebook>=4.4.1->widgetsnbextension~=3.5.0->ipywidgets==7.6.3->-r requirements.txt (line 6)) (22.1.0)\n",
      "Requirement already satisfied: Send2Trash>=1.5.0 in /Users/Hannah/anaconda/envs/metis/lib/python3.8/site-packages (from notebook>=4.4.1->widgetsnbextension~=3.5.0->ipywidgets==7.6.3->-r requirements.txt (line 6)) (1.7.1)\n",
      "Requirement already satisfied: terminado>=0.8.3 in /Users/Hannah/anaconda/envs/metis/lib/python3.8/site-packages (from notebook>=4.4.1->widgetsnbextension~=3.5.0->ipywidgets==7.6.3->-r requirements.txt (line 6)) (0.10.1)\n",
      "Requirement already satisfied: nbconvert in /Users/Hannah/anaconda/envs/metis/lib/python3.8/site-packages (from notebook>=4.4.1->widgetsnbextension~=3.5.0->ipywidgets==7.6.3->-r requirements.txt (line 6)) (6.1.0)\n",
      "Requirement already satisfied: prometheus-client in /Users/Hannah/anaconda/envs/metis/lib/python3.8/site-packages (from notebook>=4.4.1->widgetsnbextension~=3.5.0->ipywidgets==7.6.3->-r requirements.txt (line 6)) (0.11.0)\n",
      "Requirement already satisfied: argon2-cffi in /Users/Hannah/anaconda/envs/metis/lib/python3.8/site-packages (from notebook>=4.4.1->widgetsnbextension~=3.5.0->ipywidgets==7.6.3->-r requirements.txt (line 6)) (20.1.0)\n"
     ]
    },
    {
     "name": "stdout",
     "output_type": "stream",
     "text": [
      "Requirement already satisfied: cffi>=1.0.0 in /Users/Hannah/anaconda/envs/metis/lib/python3.8/site-packages (from argon2-cffi->notebook>=4.4.1->widgetsnbextension~=3.5.0->ipywidgets==7.6.3->-r requirements.txt (line 6)) (1.14.5)\n",
      "Requirement already satisfied: pycparser in /Users/Hannah/anaconda/envs/metis/lib/python3.8/site-packages (from cffi>=1.0.0->argon2-cffi->notebook>=4.4.1->widgetsnbextension~=3.5.0->ipywidgets==7.6.3->-r requirements.txt (line 6)) (2.20)\n",
      "Requirement already satisfied: MarkupSafe>=2.0 in /Users/Hannah/anaconda/envs/metis/lib/python3.8/site-packages (from jinja2->notebook>=4.4.1->widgetsnbextension~=3.5.0->ipywidgets==7.6.3->-r requirements.txt (line 6)) (2.0.1)\n",
      "Requirement already satisfied: entrypoints>=0.2.2 in /Users/Hannah/anaconda/envs/metis/lib/python3.8/site-packages (from nbconvert->notebook>=4.4.1->widgetsnbextension~=3.5.0->ipywidgets==7.6.3->-r requirements.txt (line 6)) (0.3)\n",
      "Requirement already satisfied: nbclient<0.6.0,>=0.5.0 in /Users/Hannah/anaconda/envs/metis/lib/python3.8/site-packages (from nbconvert->notebook>=4.4.1->widgetsnbextension~=3.5.0->ipywidgets==7.6.3->-r requirements.txt (line 6)) (0.5.3)\n",
      "Requirement already satisfied: jupyterlab-pygments in /Users/Hannah/anaconda/envs/metis/lib/python3.8/site-packages (from nbconvert->notebook>=4.4.1->widgetsnbextension~=3.5.0->ipywidgets==7.6.3->-r requirements.txt (line 6)) (0.1.2)\n",
      "Requirement already satisfied: bleach in /Users/Hannah/anaconda/envs/metis/lib/python3.8/site-packages (from nbconvert->notebook>=4.4.1->widgetsnbextension~=3.5.0->ipywidgets==7.6.3->-r requirements.txt (line 6)) (3.3.0)\n",
      "Requirement already satisfied: testpath in /Users/Hannah/anaconda/envs/metis/lib/python3.8/site-packages (from nbconvert->notebook>=4.4.1->widgetsnbextension~=3.5.0->ipywidgets==7.6.3->-r requirements.txt (line 6)) (0.5.0)\n",
      "Requirement already satisfied: defusedxml in /Users/Hannah/anaconda/envs/metis/lib/python3.8/site-packages (from nbconvert->notebook>=4.4.1->widgetsnbextension~=3.5.0->ipywidgets==7.6.3->-r requirements.txt (line 6)) (0.7.1)\n",
      "Requirement already satisfied: mistune<2,>=0.8.1 in /Users/Hannah/anaconda/envs/metis/lib/python3.8/site-packages (from nbconvert->notebook>=4.4.1->widgetsnbextension~=3.5.0->ipywidgets==7.6.3->-r requirements.txt (line 6)) (0.8.4)\n",
      "Requirement already satisfied: pandocfilters>=1.4.1 in /Users/Hannah/anaconda/envs/metis/lib/python3.8/site-packages (from nbconvert->notebook>=4.4.1->widgetsnbextension~=3.5.0->ipywidgets==7.6.3->-r requirements.txt (line 6)) (1.4.2)\n",
      "Requirement already satisfied: async-generator in /Users/Hannah/anaconda/envs/metis/lib/python3.8/site-packages (from nbclient<0.6.0,>=0.5.0->nbconvert->notebook>=4.4.1->widgetsnbextension~=3.5.0->ipywidgets==7.6.3->-r requirements.txt (line 6)) (1.10)\n",
      "Requirement already satisfied: nest-asyncio in /Users/Hannah/anaconda/envs/metis/lib/python3.8/site-packages (from nbclient<0.6.0,>=0.5.0->nbconvert->notebook>=4.4.1->widgetsnbextension~=3.5.0->ipywidgets==7.6.3->-r requirements.txt (line 6)) (1.5.1)\n",
      "Requirement already satisfied: webencodings in /Users/Hannah/anaconda/envs/metis/lib/python3.8/site-packages (from bleach->nbconvert->notebook>=4.4.1->widgetsnbextension~=3.5.0->ipywidgets==7.6.3->-r requirements.txt (line 6)) (0.5.1)\n",
      "Requirement already satisfied: packaging in /Users/Hannah/anaconda/envs/metis/lib/python3.8/site-packages (from bleach->nbconvert->notebook>=4.4.1->widgetsnbextension~=3.5.0->ipywidgets==7.6.3->-r requirements.txt (line 6)) (20.9)\n"
     ]
    }
   ],
   "source": [
    "!pip install -r requirements.txt"
   ]
  },
  {
   "cell_type": "code",
   "execution_count": 13,
   "id": "ae221885",
   "metadata": {},
   "outputs": [],
   "source": [
    "import os\n",
    "import pickle\n",
    "\n",
    "import numpy as np\n",
    "import pandas as pd\n",
    "\n",
    "import matplotlib as mpl\n",
    "import matplotlib.pyplot as plt\n",
    "import seaborn as sns\n",
    "\n",
    "from sklearn.ensemble import RandomForestClassifier\n",
    "import sklearn\n",
    "\n",
    "from sklearn.model_selection import train_test_split\n",
    "from sklearn.metrics import make_scorer, confusion_matrix, fbeta_score\n",
    "\n",
    "from ipywidgets import interact, interactive, interact_manual, FloatSlider, IntSlider, Layout\n",
    "from IPython.display import Image\n",
    "import IPython\n"
   ]
  },
  {
   "cell_type": "code",
   "execution_count": 14,
   "id": "88f71362",
   "metadata": {},
   "outputs": [],
   "source": [
    "def load_data(filepath):\n",
    "    \n",
    "    df = pd.read_csv(filepath, index_col=0)\n",
    "    df['road_type_dummy'] = pd.get_dummies(df['road_type'], drop_first=True)\n",
    "    df['night_dummy'] = pd.get_dummies(df['day_night'], drop_first=True)\n",
    "\n",
    "    X = df[['acceleration_score', 'braking_score', 'turning_score', 'weaving_score',\n",
    "       'drifting_score', 'speeding_score', 'follow_score', 'speed_mph', 'road_type_dummy', 'night_dummy']]\n",
    "    y = df['class_normal_bool']\n",
    "\n",
    "    X_train, X_test, y_train, y_test = train_test_split(X, y, test_size=0.2, random_state=42)\n",
    "\n",
    "    return X_train, X_test, y_train, y_test\n"
   ]
  },
  {
   "cell_type": "code",
   "execution_count": 15,
   "id": "da889955",
   "metadata": {},
   "outputs": [],
   "source": [
    "def load_model(filepath):\n",
    "    \n",
    "    with open(filepath, \"rb\") as pfile:\n",
    "        rf_final = pickle.load(pfile)\n",
    "        \n",
    "    return rf_final"
   ]
  },
  {
   "cell_type": "code",
   "execution_count": 16,
   "id": "01b798e9",
   "metadata": {},
   "outputs": [],
   "source": [
    "X_train, X_test, y_train, y_test = load_data('UAH-DRIVESET-classification.csv')"
   ]
  },
  {
   "cell_type": "code",
   "execution_count": 17,
   "id": "6a2f9acc",
   "metadata": {},
   "outputs": [
    {
     "name": "stdout",
     "output_type": "stream",
     "text": [
      "Test set scores:\n",
      "\n",
      "\tFbeta (beta=2):\t 0.9925\n"
     ]
    }
   ],
   "source": [
    "rf_final = load_model('models/rf_final.pickle')\n",
    "\n",
    "y_rf_final_pred = rf_final.predict(X_test)\n",
    "y_rf_final_pred_prob = rf_final.predict_proba(X_test)[:, 1]\n",
    "\n",
    "print('Test set scores:\\n')\n",
    "print(f'\\tFbeta (beta=2):\\t {fbeta_score(y_test, y_rf_final_pred, beta=2):.4f}')\n"
   ]
  },
  {
   "cell_type": "code",
   "execution_count": 18,
   "id": "71227fcf",
   "metadata": {},
   "outputs": [],
   "source": [
    "road_dummies_dict = {'Highway':0, 'Secondary':1}\n",
    "night_dummies_dict = {'Day':0, 'Night':1}\n",
    "\n",
    "class_dict = {0: 'Normal', 1:'Abnormal'}\n"
   ]
  },
  {
   "cell_type": "code",
   "execution_count": 19,
   "id": "8df2a13c",
   "metadata": {},
   "outputs": [],
   "source": [
    "def new_prediction(acc, brake, turn, weave, drift, speeding, follow, speed, road_type='Highway', night='Day'):\n",
    "    road_type_bool = road_dummies_dict[road_type]\n",
    "    night_bool = night_dummies_dict[night]\n",
    "\n",
    "    new_test = np.array([acc, brake, turn, weave, drift, speeding, follow, speed, road_type_bool, night_bool]).reshape(1, -1)\n",
    "    y_pred = rf_final.predict(new_test)[0]\n",
    "    y_pred_prob = rf_final.predict_proba(new_test)[:, 1][0]\n",
    "    \n",
    "    print(f'Predicted: {class_dict[y_pred]} driving')\n",
    "    print(f'(Probability: {y_pred_prob:.2f})')\n",
    "    display(Image(filename=f'figures/{class_dict[y_pred]}.png', width=225) )\n",
    "    \n",
    "    return\n"
   ]
  },
  {
   "cell_type": "code",
   "execution_count": 20,
   "id": "d71606e9",
   "metadata": {},
   "outputs": [
    {
     "data": {
      "application/vnd.jupyter.widget-view+json": {
       "model_id": "be08ec5ff35b443480d163e4acec110b",
       "version_major": 2,
       "version_minor": 0
      },
      "text/plain": [
       "interactive(children=(IntSlider(value=50, description='Acceleration'), Output()), _dom_classes=('widget-intera…"
      ]
     },
     "metadata": {},
     "output_type": "display_data"
    }
   ],
   "source": [
    "interactive(lambda Acceleration: new_prediction(Acceleration,100,100,100,100,100,100,45,'Highway','Day'), Acceleration=(0,100,1))\n"
   ]
  },
  {
   "cell_type": "code",
   "execution_count": 21,
   "id": "39b32c81",
   "metadata": {},
   "outputs": [
    {
     "data": {
      "application/vnd.jupyter.widget-view+json": {
       "model_id": "755b966da93a43bd86bcc7048c81ea0e",
       "version_major": 2,
       "version_minor": 0
      },
      "text/plain": [
       "interactive(children=(IntSlider(value=100, description='acc'), IntSlider(value=100, description='brake'), IntS…"
      ]
     },
     "metadata": {},
     "output_type": "display_data"
    }
   ],
   "source": [
    "im = interact_manual(new_prediction, acc=IntSlider(100,0,100,1), brake=IntSlider(100,0,100,1), turn=IntSlider(100,0,100,1),\n",
    "         weave=IntSlider(100,0,100,1), drift=IntSlider(100,0,100,1), speeding=IntSlider(100,0,100,1),\n",
    "         follow=IntSlider(100,0,100,1), speed=IntSlider(40,30,80,1),\n",
    "         road_type=['Highway','Secondary'], night=['Day','Night']);\n",
    "\n",
    "labels = ['Acceleration', 'Braking', 'Turning', 'Weaving', 'Drifting', 'Speeding', 'Following']\n",
    "for i,lab in enumerate(labels):\n",
    "    im.widget.children[i].description = f'{lab}'\n",
    "\n",
    "im.widget.children[i+1].description = 'Speed (mph)'\n",
    "im.widget.children[i+2].description = 'Road type'\n",
    "im.widget.children[i+3].description = 'Lighting'\n"
   ]
  },
  {
   "cell_type": "code",
   "execution_count": null,
   "id": "45899c88",
   "metadata": {},
   "outputs": [],
   "source": []
  }
 ],
 "metadata": {
  "kernelspec": {
   "display_name": "Python [conda env:metis] *",
   "language": "python",
   "name": "conda-env-metis-py"
  },
  "language_info": {
   "codemirror_mode": {
    "name": "ipython",
    "version": 3
   },
   "file_extension": ".py",
   "mimetype": "text/x-python",
   "name": "python",
   "nbconvert_exporter": "python",
   "pygments_lexer": "ipython3",
   "version": "3.8.10"
  }
 },
 "nbformat": 4,
 "nbformat_minor": 5
}
